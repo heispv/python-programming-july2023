{
  "nbformat": 4,
  "nbformat_minor": 0,
  "metadata": {
    "colab": {
      "provenance": [],
      "authorship_tag": "ABX9TyPjSMRoYJEa3DH4NFGXxOHO",
      "include_colab_link": true
    },
    "kernelspec": {
      "name": "python3",
      "display_name": "Python 3"
    },
    "language_info": {
      "name": "python"
    }
  },
  "cells": [
    {
      "cell_type": "markdown",
      "metadata": {
        "id": "view-in-github",
        "colab_type": "text"
      },
      "source": [
        "<a href=\"https://colab.research.google.com/github/heispv/python-programming-july2023/blob/master/10_programming.ipynb\" target=\"_parent\"><img src=\"https://colab.research.google.com/assets/colab-badge.svg\" alt=\"Open In Colab\"/></a>"
      ]
    },
    {
      "cell_type": "markdown",
      "source": [
        "# Functions\n",
        "\n",
        "be komake function ha mitoonim biaim va chand khat az code emoon ro kholase bokonim tooye yek ya chand kalame, va harbar ke oon kalamat ro seda mikonim, oon code hayi ke tarif karde boodim ejra mishan.\n",
        "\n",
        "keyword : `def`"
      ],
      "metadata": {
        "id": "jjOHhnTz-Vgw"
      }
    },
    {
      "cell_type": "code",
      "source": [
        "def function_man():\n",
        "    print('Function ejra shod')\n",
        "\n",
        "print('done')"
      ],
      "metadata": {
        "colab": {
          "base_uri": "https://localhost:8080/"
        },
        "id": "SLo3gdXj_nJH",
        "outputId": "69e36376-1dee-449d-ce38-06be3a653342"
      },
      "execution_count": null,
      "outputs": [
        {
          "output_type": "stream",
          "name": "stdout",
          "text": [
            "done\n"
          ]
        }
      ]
    },
    {
      "cell_type": "code",
      "source": [
        "function_man()"
      ],
      "metadata": {
        "colab": {
          "base_uri": "https://localhost:8080/"
        },
        "id": "zxgO99xw_6H1",
        "outputId": "bbec069f-11ee-475c-e4ca-e2b068a96f34"
      },
      "execution_count": null,
      "outputs": [
        {
          "output_type": "stream",
          "name": "stdout",
          "text": [
            "Function ejra shod\n"
          ]
        }
      ]
    },
    {
      "cell_type": "code",
      "source": [
        "def greet():\n",
        "    name = input('Esm khod ra vared konid: ')\n",
        "    print(f'Salam {name}, omidvaram halet khoob bashe.')"
      ],
      "metadata": {
        "id": "5QVxOO8TADDQ"
      },
      "execution_count": null,
      "outputs": []
    },
    {
      "cell_type": "code",
      "source": [
        "greet()"
      ],
      "metadata": {
        "colab": {
          "base_uri": "https://localhost:8080/"
        },
        "id": "Peq9VyTgAdM8",
        "outputId": "3add097f-6e6e-4387-bb94-c02e9080005d"
      },
      "execution_count": null,
      "outputs": [
        {
          "output_type": "stream",
          "name": "stdout",
          "text": [
            "Esm khod ra vared konid: Ali\n",
            "Salam Ali, omidvaram halet khoob bashe.\n"
          ]
        }
      ]
    },
    {
      "cell_type": "markdown",
      "source": [
        "> ma mitoonim vurudi haro dakhele parantez tarif konim."
      ],
      "metadata": {
        "id": "T2n_sXHIBKbx"
      }
    },
    {
      "cell_type": "code",
      "source": [
        "def greet_2(name):\n",
        "    print(f'Salam {name}, omidvaram halet khoob bashe.')"
      ],
      "metadata": {
        "id": "IC4RXUqWAegw"
      },
      "execution_count": null,
      "outputs": []
    },
    {
      "cell_type": "code",
      "source": [
        "greet_2('Ali')"
      ],
      "metadata": {
        "colab": {
          "base_uri": "https://localhost:8080/"
        },
        "id": "ZXkahjBaA56z",
        "outputId": "59132a6b-03e2-44d6-8739-713d668803be"
      },
      "execution_count": null,
      "outputs": [
        {
          "output_type": "stream",
          "name": "stdout",
          "text": [
            "Salam Ali, omidvaram halet khoob bashe.\n"
          ]
        }
      ]
    },
    {
      "cell_type": "markdown",
      "source": [
        "> ma tooye positional argument bayad tartibe variable haro deghat bokonim."
      ],
      "metadata": {
        "id": "zBBPNn3kBx3J"
      }
    },
    {
      "cell_type": "markdown",
      "source": [
        "> mitoonim be komake `:` moshakhas konim ke datatype e argument i ke darim vared mikonim chi bayad bashe (havasemoon bashe ke faghat dar hade yek warning hast va error nemide). hamchenin be komake `=` mitoonim meghdare default yek argument ro moshakhas konim."
      ],
      "metadata": {
        "id": "AhGv-QthD2IQ"
      }
    },
    {
      "cell_type": "code",
      "source": [
        "def HBD(esm: str, sen: int = 22):\n",
        "    print(f'{esm} tavalodet mobarak, {sen+1} sale shodi.')"
      ],
      "metadata": {
        "id": "DA5ddPQLA_uK"
      },
      "execution_count": null,
      "outputs": []
    },
    {
      "cell_type": "code",
      "source": [
        "HBD('Lara')"
      ],
      "metadata": {
        "colab": {
          "base_uri": "https://localhost:8080/"
        },
        "id": "9MKUP1c2BgRi",
        "outputId": "befaa794-9d86-439a-d1cf-3d80ac158090"
      },
      "execution_count": null,
      "outputs": [
        {
          "output_type": "stream",
          "name": "stdout",
          "text": [
            "Lara tavalodet mobarak, 23 sale shodi.\n"
          ]
        }
      ]
    },
    {
      "cell_type": "markdown",
      "source": [
        "> agar khastim function e ma yek khuruji dashte bashe ke betoonim oon ro tooye yek variable zakhire konim, bayad az `keyword` e return estefade konim."
      ],
      "metadata": {
        "id": "-Z8VK8NmFxZ_"
      }
    },
    {
      "cell_type": "code",
      "source": [
        "def sen(sal_tavalod: int):\n",
        "    sen_shakhs = 1402 - sal_tavalod\n",
        "    return sen_shakhs"
      ],
      "metadata": {
        "id": "scQpKEpDBk0P"
      },
      "execution_count": null,
      "outputs": []
    },
    {
      "cell_type": "code",
      "source": [
        "sen_2 = sen(1351)"
      ],
      "metadata": {
        "id": "5XOdvS2SEtGm"
      },
      "execution_count": null,
      "outputs": []
    },
    {
      "cell_type": "code",
      "source": [
        "sen_2"
      ],
      "metadata": {
        "colab": {
          "base_uri": "https://localhost:8080/"
        },
        "id": "px-LRztXEvf9",
        "outputId": "dedd72f8-d1ce-4f4b-dd2f-59157d3ecd48"
      },
      "execution_count": null,
      "outputs": [
        {
          "output_type": "execute_result",
          "data": {
            "text/plain": [
              "51"
            ]
          },
          "metadata": {},
          "execution_count": 15
        }
      ]
    },
    {
      "cell_type": "markdown",
      "source": [
        "> baraye inke docstring dashte bashim mitoonim tozihat lazem ro dakhele `''' '''` gharar bedim."
      ],
      "metadata": {
        "id": "AzMPmGpRHcKV"
      }
    },
    {
      "cell_type": "code",
      "source": [
        "def sen(sal_tavalod: int) -> int:\n",
        "    '''\n",
        "    Function sen be komake tarikh\n",
        "    tavalod shamsi shoma miad va\n",
        "    sen shoma ro mohasebe mikone.\n",
        "\n",
        "    hamchenin shoma mitoonin khuruji\n",
        "    ro dakhele yek variable zakhire\n",
        "    konid.\n",
        "    '''\n",
        "    sen_shakhs = 1402 - sal_tavalod\n",
        "    return sen_shakhs"
      ],
      "metadata": {
        "id": "zHwjfxNUE3yK"
      },
      "execution_count": null,
      "outputs": []
    },
    {
      "cell_type": "code",
      "source": [
        "age = sen(1328)"
      ],
      "metadata": {
        "id": "QCPlj-1sGgPM"
      },
      "execution_count": null,
      "outputs": []
    },
    {
      "cell_type": "code",
      "source": [
        "age"
      ],
      "metadata": {
        "colab": {
          "base_uri": "https://localhost:8080/"
        },
        "id": "xvnUdG8GHGUO",
        "outputId": "ec6369b5-c5e8-403c-d61b-b7bb38419c03"
      },
      "execution_count": null,
      "outputs": [
        {
          "output_type": "execute_result",
          "data": {
            "text/plain": [
              "74"
            ]
          },
          "metadata": {},
          "execution_count": 18
        }
      ]
    },
    {
      "cell_type": "markdown",
      "source": [
        "> from `esm_file` import `esm_function`"
      ],
      "metadata": {
        "id": "IPnpErtLP6y8"
      }
    },
    {
      "cell_type": "code",
      "source": [
        "from my_function import nemoodar"
      ],
      "metadata": {
        "id": "S-jj-LuZKaBd"
      },
      "execution_count": null,
      "outputs": []
    },
    {
      "cell_type": "code",
      "source": [
        "nemoodar(['Banana', 'Cherry', 'Strawberry'], [10, 4, 13])"
      ],
      "metadata": {
        "colab": {
          "base_uri": "https://localhost:8080/",
          "height": 410
        },
        "id": "ho8lURjoKhVE",
        "outputId": "02439925-0f12-45cb-b05d-2d532dca0693"
      },
      "execution_count": null,
      "outputs": [
        {
          "output_type": "display_data",
          "data": {
            "text/plain": [
              "<Figure size 1000x400 with 2 Axes>"
            ],
            "image/png": "[encoded data removed]"
          },
          "metadata": {}
        }
      ]
    },
    {
      "cell_type": "code",
      "source": [],
      "metadata": {
        "id": "oojZWheMKwEf"
      },
      "execution_count": null,
      "outputs": []
    }
  ]
}