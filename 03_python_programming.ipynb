{
  "nbformat": 4,
  "nbformat_minor": 0,
  "metadata": {
    "colab": {
      "provenance": [],
      "authorship_tag": "ABX9TyOLDrwfe0UDcBE2D0pc669O",
      "include_colab_link": true
    },
    "kernelspec": {
      "name": "python3",
      "display_name": "Python 3"
    },
    "language_info": {
      "name": "python"
    }
  },
  "cells": [
    {
      "cell_type": "markdown",
      "metadata": {
        "id": "view-in-github",
        "colab_type": "text"
      },
      "source": [
        "<a href=\"https://colab.research.google.com/github/heispv/python-programming-july2023/blob/master/03_python_programming.ipynb\" target=\"_parent\"><img src=\"https://colab.research.google.com/assets/colab-badge.svg\" alt=\"Open In Colab\"/></a>"
      ]
    },
    {
      "cell_type": "markdown",
      "source": [
        "## immutablitiy\n",
        "\n",
        "object i hast ke gheire ghabele taghir mibashad."
      ],
      "metadata": {
        "id": "jPQaLxJFBZSu"
      }
    },
    {
      "cell_type": "code",
      "source": [
        "my_string = 'hello'\n",
        "my_string[1] = 'a'"
      ],
      "metadata": {
        "colab": {
          "base_uri": "https://localhost:8080/",
          "height": 187
        },
        "id": "ni1vqzPtB53E",
        "outputId": "40685fa2-0b25-4e0a-bd38-d8399f440efd"
      },
      "execution_count": null,
      "outputs": [
        {
          "output_type": "error",
          "ename": "TypeError",
          "evalue": "ignored",
          "traceback": [
            "\u001b[0;31m---------------------------------------------------------------------------\u001b[0m",
            "\u001b[0;31mTypeError\u001b[0m                                 Traceback (most recent call last)",
            "\u001b[0;32m<ipython-input-2-50cc89032522>\u001b[0m in \u001b[0;36m<cell line: 2>\u001b[0;34m()\u001b[0m\n\u001b[1;32m      1\u001b[0m \u001b[0mmy_string\u001b[0m \u001b[0;34m=\u001b[0m \u001b[0;34m'hello'\u001b[0m\u001b[0;34m\u001b[0m\u001b[0;34m\u001b[0m\u001b[0m\n\u001b[0;32m----> 2\u001b[0;31m \u001b[0mmy_string\u001b[0m\u001b[0;34m[\u001b[0m\u001b[0;36m1\u001b[0m\u001b[0;34m]\u001b[0m \u001b[0;34m=\u001b[0m \u001b[0;34m'a'\u001b[0m\u001b[0;34m\u001b[0m\u001b[0;34m\u001b[0m\u001b[0m\n\u001b[0m",
            "\u001b[0;31mTypeError\u001b[0m: 'str' object does not support item assignment"
          ]
        }
      ]
    },
    {
      "cell_type": "markdown",
      "source": [
        "> reshte ha gheire ghabele taghir hastan va yek item az oonaro be komake indexing nemitoonim taghir bedim, agar khastim yek chizi ro dakhelesh taghir bedim bayad darkol oon variable ro reassign bokonim."
      ],
      "metadata": {
        "id": "fM-SKY-lCfSM"
      }
    },
    {
      "cell_type": "code",
      "source": [
        "my_string = 'hallo'"
      ],
      "metadata": {
        "id": "-Ah6ghjvCAeI"
      },
      "execution_count": null,
      "outputs": []
    },
    {
      "cell_type": "code",
      "source": [
        "my_string"
      ],
      "metadata": {
        "colab": {
          "base_uri": "https://localhost:8080/",
          "height": 36
        },
        "id": "a7L9QypRCaRd",
        "outputId": "229a3aae-c066-4aa8-ef12-7e1e2ddf67d2"
      },
      "execution_count": null,
      "outputs": [
        {
          "output_type": "execute_result",
          "data": {
            "text/plain": [
              "'hallo'"
            ],
            "application/vnd.google.colaboratory.intrinsic+json": {
              "type": "string"
            }
          },
          "metadata": {},
          "execution_count": 4
        }
      ]
    },
    {
      "cell_type": "markdown",
      "source": [
        "## .capitalize()\n",
        "\n",
        "miad va baraye ma avalin harfe oon string ro capital letter mikone."
      ],
      "metadata": {
        "id": "kvPla6xAEcGN"
      }
    },
    {
      "cell_type": "code",
      "source": [
        "second_string = my_string.capitalize()"
      ],
      "metadata": {
        "id": "Jm8hc3qiCbgj"
      },
      "execution_count": null,
      "outputs": []
    },
    {
      "cell_type": "code",
      "source": [
        "my_string"
      ],
      "metadata": {
        "colab": {
          "base_uri": "https://localhost:8080/",
          "height": 36
        },
        "id": "bpJI7-bsDpI_",
        "outputId": "07be488a-255b-46a2-b8c7-9906fd20fe23"
      },
      "execution_count": null,
      "outputs": [
        {
          "output_type": "execute_result",
          "data": {
            "text/plain": [
              "'hallo'"
            ],
            "application/vnd.google.colaboratory.intrinsic+json": {
              "type": "string"
            }
          },
          "metadata": {},
          "execution_count": 8
        }
      ]
    },
    {
      "cell_type": "code",
      "source": [
        "second_string"
      ],
      "metadata": {
        "colab": {
          "base_uri": "https://localhost:8080/",
          "height": 36
        },
        "id": "MeI0xmpQDtU4",
        "outputId": "76c87d46-7658-4dc7-d385-6627d17414df"
      },
      "execution_count": null,
      "outputs": [
        {
          "output_type": "execute_result",
          "data": {
            "text/plain": [
              "'Hallo'"
            ],
            "application/vnd.google.colaboratory.intrinsic+json": {
              "type": "string"
            }
          },
          "metadata": {},
          "execution_count": 9
        }
      ]
    },
    {
      "cell_type": "markdown",
      "source": [
        "## .casefold()\n",
        "\n",
        "miad va baraye ma kolle string ro ba lower case minvise."
      ],
      "metadata": {
        "id": "TtQVZ7ErEijY"
      }
    },
    {
      "cell_type": "code",
      "source": [
        "ex_2 = 'MYFRIENDS'\n",
        "ex_2.casefold()"
      ],
      "metadata": {
        "colab": {
          "base_uri": "https://localhost:8080/",
          "height": 36
        },
        "id": "TO6lS8P-D3Rg",
        "outputId": "c7d498c6-e268-4ecd-99f2-4f30dd671b07"
      },
      "execution_count": null,
      "outputs": [
        {
          "output_type": "execute_result",
          "data": {
            "text/plain": [
              "'myfriends'"
            ],
            "application/vnd.google.colaboratory.intrinsic+json": {
              "type": "string"
            }
          },
          "metadata": {},
          "execution_count": 10
        }
      ]
    },
    {
      "cell_type": "markdown",
      "source": [
        "## .count(value, [start], [stop])\n",
        "\n",
        "miad va oon string i ke dakhele parantez moshakhas kardin ro mige ke chan bar tekrar shode."
      ],
      "metadata": {
        "id": "wnugf-nsEnuT"
      }
    },
    {
      "cell_type": "code",
      "source": [
        "ex_3 = 'aabbcccb'\n",
        "ex_3.count('c')"
      ],
      "metadata": {
        "colab": {
          "base_uri": "https://localhost:8080/"
        },
        "id": "fUzHv7kjECHz",
        "outputId": "4368fb22-09bb-4d5f-83e8-fc4d10926233"
      },
      "execution_count": null,
      "outputs": [
        {
          "output_type": "execute_result",
          "data": {
            "text/plain": [
              "3"
            ]
          },
          "metadata": {},
          "execution_count": 16
        }
      ]
    },
    {
      "cell_type": "markdown",
      "source": [
        "> mitoonim biaim va az vurudi haye optional e method e count estefade konim, avvalin vurudi optional (dovomin vurudi kolli) e oon start va dovomish end index hastesh."
      ],
      "metadata": {
        "id": "-iNy6CVSFkL-"
      }
    },
    {
      "cell_type": "code",
      "source": [
        "ex_3.count('b', 3, 7)"
      ],
      "metadata": {
        "colab": {
          "base_uri": "https://localhost:8080/"
        },
        "id": "YLyGkN17EXC5",
        "outputId": "0a5587db-fdcc-4b64-c1bb-4e424fff81f0"
      },
      "execution_count": null,
      "outputs": [
        {
          "output_type": "execute_result",
          "data": {
            "text/plain": [
              "1"
            ]
          },
          "metadata": {},
          "execution_count": 19
        }
      ]
    },
    {
      "cell_type": "markdown",
      "source": [
        "## .find(value, [start], [stop])\n",
        "\n",
        "find miad va avvalin value i ke peyda mikone ro behet index ro mide, va baghiaro engar nemibine. agar khastim ke oon baghiaro behemoon namayesh bede bayad az start va stop estefade konim.\n",
        "\n",
        "agar too oon bazei ke moshakhas kardim chizi peyda nakard be ma -1 ro khuruji mide."
      ],
      "metadata": {
        "id": "9-iWWNOaGFl-"
      }
    },
    {
      "cell_type": "code",
      "source": [
        "ex_4 = 'artifical intelligence'\n",
        "ex_4.find('i', 6, 10)"
      ],
      "metadata": {
        "colab": {
          "base_uri": "https://localhost:8080/"
        },
        "id": "FSTCXQeCEZms",
        "outputId": "6494e7b6-cc25-48b4-ff5d-af0020d65603"
      },
      "execution_count": null,
      "outputs": [
        {
          "output_type": "execute_result",
          "data": {
            "text/plain": [
              "-1"
            ]
          },
          "metadata": {},
          "execution_count": 24
        }
      ]
    },
    {
      "cell_type": "markdown",
      "source": [
        "## .replace(oldvalue, newvalue, [count])\n",
        "\n",
        "miad va yek value ro ba value dge jaygozin mikone.\n"
      ],
      "metadata": {
        "id": "jKss2J0qGe0W"
      }
    },
    {
      "cell_type": "code",
      "source": [
        "ex_5 = 'aax123334'\n",
        "ex_5_1 = ex_5.replace('3', 'y')"
      ],
      "metadata": {
        "id": "lCD-L44PHri8"
      },
      "execution_count": null,
      "outputs": []
    },
    {
      "cell_type": "code",
      "source": [
        "ex_5_1"
      ],
      "metadata": {
        "colab": {
          "base_uri": "https://localhost:8080/",
          "height": 36
        },
        "id": "yK2FZIEPH6Zz",
        "outputId": "7f733e58-ebc5-4f30-8411-8bb675e136fe"
      },
      "execution_count": null,
      "outputs": [
        {
          "output_type": "execute_result",
          "data": {
            "text/plain": [
              "'aax12yyy4'"
            ],
            "application/vnd.google.colaboratory.intrinsic+json": {
              "type": "string"
            }
          },
          "metadata": {},
          "execution_count": 29
        }
      ]
    },
    {
      "cell_type": "code",
      "source": [
        "ex_6 = '11111111'\n",
        "ex_6.replace('1', 'a', 3)"
      ],
      "metadata": {
        "colab": {
          "base_uri": "https://localhost:8080/",
          "height": 36
        },
        "id": "KP5qiRXfIGp2",
        "outputId": "a27938f5-5e6d-4457-9f22-ada532f83208"
      },
      "execution_count": null,
      "outputs": [
        {
          "output_type": "execute_result",
          "data": {
            "text/plain": [
              "'aaa11111'"
            ],
            "application/vnd.google.colaboratory.intrinsic+json": {
              "type": "string"
            }
          },
          "metadata": {},
          "execution_count": 30
        }
      ]
    },
    {
      "cell_type": "markdown",
      "source": [
        "## .split([separator], [maxsplit])\n",
        "\n",
        "miaim va yek reshte ro moshakhas mikonim va oon bar asase oon reshte miad va reshtamoon ro split mikone. maxsplit dar halate addi maximum ama agar bekhaim mitoonim baraye oon ham meghdar moshakhas bokonim."
      ],
      "metadata": {
        "id": "3xPc9AyqIqod"
      }
    },
    {
      "cell_type": "code",
      "source": [
        "txt = \"welcome to the jungle\"\n",
        "\n",
        "x = txt.split()\n",
        "\n",
        "print(x)"
      ],
      "metadata": {
        "colab": {
          "base_uri": "https://localhost:8080/"
        },
        "id": "7LWYPQHHJz9b",
        "outputId": "501f541c-dd64-44b1-edba-8e2ea217639c"
      },
      "execution_count": null,
      "outputs": [
        {
          "output_type": "stream",
          "name": "stdout",
          "text": [
            "['welcome', 'to', 'the', 'jungle']\n"
          ]
        }
      ]
    },
    {
      "cell_type": "code",
      "source": [
        "txt = \"welcome to the jungle\"\n",
        "\n",
        "x = txt.split(' ', 2)\n",
        "\n",
        "print(x)"
      ],
      "metadata": {
        "colab": {
          "base_uri": "https://localhost:8080/"
        },
        "id": "rCoOuDguIQYV",
        "outputId": "78ac8593-9f59-4733-c379-060e66c585ec"
      },
      "execution_count": null,
      "outputs": [
        {
          "output_type": "stream",
          "name": "stdout",
          "text": [
            "['welcome', 'to', 'the jungle']\n"
          ]
        }
      ]
    },
    {
      "cell_type": "markdown",
      "source": [
        "> baghiyeye method haro mitoonim az [w3school](https://www.w3schools.com/) bekhoonin."
      ],
      "metadata": {
        "id": "4CqGhE5sJ8Po"
      }
    },
    {
      "cell_type": "markdown",
      "source": [
        "# Boolean\n",
        "\n",
        "boolean ha ya True hastna ya False hastan.\n",
        "\n",
        "True/False\n",
        "\n",
        "1/0\n",
        "\n",
        "presence/absence"
      ],
      "metadata": {
        "id": "bxUFazjTJKyt"
      }
    },
    {
      "cell_type": "code",
      "source": [
        "bool(0)"
      ],
      "metadata": {
        "colab": {
          "base_uri": "https://localhost:8080/"
        },
        "id": "lEHg__30Kd3C",
        "outputId": "0936bd36-9e24-414f-f430-6c6a75e7cc80"
      },
      "execution_count": null,
      "outputs": [
        {
          "output_type": "execute_result",
          "data": {
            "text/plain": [
              "False"
            ]
          },
          "metadata": {},
          "execution_count": 40
        }
      ]
    },
    {
      "cell_type": "code",
      "source": [
        "bool(-1.3)"
      ],
      "metadata": {
        "colab": {
          "base_uri": "https://localhost:8080/"
        },
        "id": "Ff7_qZ54Kk1f",
        "outputId": "991b1ebf-e513-4275-d719-1488a580501a"
      },
      "execution_count": null,
      "outputs": [
        {
          "output_type": "execute_result",
          "data": {
            "text/plain": [
              "True"
            ]
          },
          "metadata": {},
          "execution_count": 41
        }
      ]
    },
    {
      "cell_type": "code",
      "source": [
        "bool(10)"
      ],
      "metadata": {
        "colab": {
          "base_uri": "https://localhost:8080/"
        },
        "id": "1qcnv-SuKmhs",
        "outputId": "9507d13e-8030-4186-8579-6e711a807d90"
      },
      "execution_count": null,
      "outputs": [
        {
          "output_type": "execute_result",
          "data": {
            "text/plain": [
              "True"
            ]
          },
          "metadata": {},
          "execution_count": 42
        }
      ]
    },
    {
      "cell_type": "code",
      "source": [
        "type(bool([])) #list"
      ],
      "metadata": {
        "colab": {
          "base_uri": "https://localhost:8080/"
        },
        "id": "UzH5Zlo8Knyq",
        "outputId": "965d5013-3924-4d6f-f96c-63771e6f86d6"
      },
      "execution_count": null,
      "outputs": [
        {
          "output_type": "execute_result",
          "data": {
            "text/plain": [
              "bool"
            ]
          },
          "metadata": {},
          "execution_count": 47
        }
      ]
    },
    {
      "cell_type": "code",
      "source": [
        "bool([1]) #list"
      ],
      "metadata": {
        "colab": {
          "base_uri": "https://localhost:8080/"
        },
        "id": "FN6UKy8RKzhu",
        "outputId": "341abbbb-5a18-4d33-b09d-413fb3f59a68"
      },
      "execution_count": null,
      "outputs": [
        {
          "output_type": "execute_result",
          "data": {
            "text/plain": [
              "True"
            ]
          },
          "metadata": {},
          "execution_count": 44
        }
      ]
    },
    {
      "cell_type": "code",
      "source": [
        "bool(()) #tuple"
      ],
      "metadata": {
        "colab": {
          "base_uri": "https://localhost:8080/"
        },
        "id": "SvHRsh-2K1cl",
        "outputId": "ee398de6-853f-4f63-9271-4a8e877f1ad7"
      },
      "execution_count": null,
      "outputs": [
        {
          "output_type": "execute_result",
          "data": {
            "text/plain": [
              "False"
            ]
          },
          "metadata": {},
          "execution_count": 45
        }
      ]
    },
    {
      "cell_type": "code",
      "source": [
        "bool((1, 2))"
      ],
      "metadata": {
        "colab": {
          "base_uri": "https://localhost:8080/"
        },
        "id": "6Ij7pnoYK5a6",
        "outputId": "c8b7e797-4069-400e-d943-87e363dd8a73"
      },
      "execution_count": null,
      "outputs": [
        {
          "output_type": "execute_result",
          "data": {
            "text/plain": [
              "True"
            ]
          },
          "metadata": {},
          "execution_count": 46
        }
      ]
    },
    {
      "cell_type": "markdown",
      "source": [
        "## example\n",
        "\n",
        "yek barname benvisid ke sale tarikh tavalod ro begire va sene shoma ro mohasebe kone."
      ],
      "metadata": {
        "id": "wu7aLBF_K7PZ"
      }
    },
    {
      "cell_type": "code",
      "source": [
        "tarikh_tavalod = input('Sen khod ra vared konid: ')\n",
        "type(tarikh_tavalod), tarikh_tavalod"
      ],
      "metadata": {
        "colab": {
          "base_uri": "https://localhost:8080/"
        },
        "id": "sFQD8VsQMRv6",
        "outputId": "c82eb6f2-f049-4616-e5b2-815c042d9be4"
      },
      "execution_count": null,
      "outputs": [
        {
          "name": "stdout",
          "output_type": "stream",
          "text": [
            "Sen khod ra vared konid: 1377\n"
          ]
        },
        {
          "output_type": "execute_result",
          "data": {
            "text/plain": [
              "(str, '1377')"
            ]
          },
          "metadata": {},
          "execution_count": 50
        }
      ]
    },
    {
      "cell_type": "markdown",
      "source": [
        "> deghat konim ke aln 1377 be onave reshte zakhire shode."
      ],
      "metadata": {
        "id": "Yl1UQW9jMcgr"
      }
    },
    {
      "cell_type": "code",
      "source": [
        "# input changed to int\n",
        "tarikh_tavalod = int(input('Sen khod ra vared konid: '))\n",
        "\n",
        "sen = 1402 - tarikh_tavalod\n",
        "\n",
        "print(f'Sen e shoma {sen} ast')"
      ],
      "metadata": {
        "colab": {
          "base_uri": "https://localhost:8080/"
        },
        "id": "2bzP7-uJLjSK",
        "outputId": "214dac5e-d853-4d4a-a68b-799aa24d4c91"
      },
      "execution_count": null,
      "outputs": [
        {
          "output_type": "stream",
          "name": "stdout",
          "text": [
            "Sen khod ra vared konid: 1377\n",
            "Sen e shoma 25 ast\n"
          ]
        }
      ]
    },
    {
      "cell_type": "markdown",
      "source": [
        "## List\n",
        "\n",
        "listi az object haye mokhtalef hastand ke mitoonin oonaro zakhire konin va be komake indexing oonaro estekhraj konin."
      ],
      "metadata": {
        "id": "hqLWB4FWMBg0"
      }
    },
    {
      "cell_type": "code",
      "source": [
        "list_example = [1, 'sib', {'name': 'john'}, (1, 2, 3)]"
      ],
      "metadata": {
        "id": "Jna-FyupSVgU"
      },
      "execution_count": null,
      "outputs": []
    },
    {
      "cell_type": "code",
      "source": [
        "list_example[2]"
      ],
      "metadata": {
        "colab": {
          "base_uri": "https://localhost:8080/"
        },
        "id": "7GJyAYgoSe27",
        "outputId": "173a0bbb-6163-4b78-fcc6-a0e7eb2a89a3"
      },
      "execution_count": null,
      "outputs": [
        {
          "output_type": "execute_result",
          "data": {
            "text/plain": [
              "{'name': 'john'}"
            ]
          },
          "metadata": {},
          "execution_count": 91
        }
      ]
    },
    {
      "cell_type": "code",
      "source": [
        "mive = ['hulu', 'sib', 'portoghal','kivi']"
      ],
      "metadata": {
        "id": "A_kG6BsaPHDV"
      },
      "execution_count": null,
      "outputs": []
    },
    {
      "cell_type": "code",
      "source": [
        "mive, type(mive)"
      ],
      "metadata": {
        "colab": {
          "base_uri": "https://localhost:8080/"
        },
        "id": "bS38mAD-PRn5",
        "outputId": "3c08431f-5cb0-4226-f5b3-9b0cb718d3b4"
      },
      "execution_count": null,
      "outputs": [
        {
          "output_type": "execute_result",
          "data": {
            "text/plain": [
              "(['hulu', 'sib', 'portoghal', 'kivi'], list)"
            ]
          },
          "metadata": {},
          "execution_count": 54
        }
      ]
    },
    {
      "cell_type": "code",
      "source": [
        "len(mive)"
      ],
      "metadata": {
        "colab": {
          "base_uri": "https://localhost:8080/"
        },
        "id": "Sj9MwIRSPTjW",
        "outputId": "34a985d0-9a02-4a8d-94d2-5e41ff19a481"
      },
      "execution_count": null,
      "outputs": [
        {
          "output_type": "execute_result",
          "data": {
            "text/plain": [
              "4"
            ]
          },
          "metadata": {},
          "execution_count": 55
        }
      ]
    },
    {
      "cell_type": "code",
      "source": [
        "mive[1:4]"
      ],
      "metadata": {
        "colab": {
          "base_uri": "https://localhost:8080/"
        },
        "id": "4WGo8Bd3PjEx",
        "outputId": "df10c78f-d916-4e61-d572-ac86fffdd602"
      },
      "execution_count": null,
      "outputs": [
        {
          "output_type": "execute_result",
          "data": {
            "text/plain": [
              "['sib', 'portoghal', 'kivi']"
            ]
          },
          "metadata": {},
          "execution_count": 60
        }
      ]
    },
    {
      "cell_type": "code",
      "source": [
        "mive[1:4:2]"
      ],
      "metadata": {
        "colab": {
          "base_uri": "https://localhost:8080/"
        },
        "id": "EXPtP6DtPqTc",
        "outputId": "2c9b2e38-4377-43fb-e3ff-9cba768f50d2"
      },
      "execution_count": null,
      "outputs": [
        {
          "output_type": "execute_result",
          "data": {
            "text/plain": [
              "['sib', 'kivi']"
            ]
          },
          "metadata": {},
          "execution_count": 61
        }
      ]
    },
    {
      "cell_type": "code",
      "source": [
        "mive[-1]"
      ],
      "metadata": {
        "colab": {
          "base_uri": "https://localhost:8080/",
          "height": 36
        },
        "id": "PJPTEmw8QAeV",
        "outputId": "79efe644-ad17-4c59-c8e6-2d0130dccd6a"
      },
      "execution_count": null,
      "outputs": [
        {
          "output_type": "execute_result",
          "data": {
            "text/plain": [
              "'kivi'"
            ],
            "application/vnd.google.colaboratory.intrinsic+json": {
              "type": "string"
            }
          },
          "metadata": {},
          "execution_count": 62
        }
      ]
    },
    {
      "cell_type": "code",
      "source": [
        "mive"
      ],
      "metadata": {
        "colab": {
          "base_uri": "https://localhost:8080/"
        },
        "id": "twbW81LrQDtI",
        "outputId": "62a988b7-976c-4eed-95eb-7c31627e1623"
      },
      "execution_count": null,
      "outputs": [
        {
          "output_type": "execute_result",
          "data": {
            "text/plain": [
              "['hulu', 'sib', 'portoghal', 'kivi']"
            ]
          },
          "metadata": {},
          "execution_count": 63
        }
      ]
    },
    {
      "cell_type": "code",
      "source": [
        "mive[1] = 'sib_ghermez'"
      ],
      "metadata": {
        "id": "paeDRrOAQL4r"
      },
      "execution_count": null,
      "outputs": []
    },
    {
      "cell_type": "code",
      "source": [
        "mive"
      ],
      "metadata": {
        "colab": {
          "base_uri": "https://localhost:8080/"
        },
        "id": "UfnZlDvNQRLx",
        "outputId": "8fe7a2c1-a27f-4b5f-93c0-69c6e043b31f"
      },
      "execution_count": null,
      "outputs": [
        {
          "output_type": "execute_result",
          "data": {
            "text/plain": [
              "['hulu', 'sib_ghermez', 'portoghal', 'kivi']"
            ]
          },
          "metadata": {},
          "execution_count": 65
        }
      ]
    },
    {
      "cell_type": "markdown",
      "source": [
        "> mikham character z ro dakhele sib_ghermez begiram"
      ],
      "metadata": {
        "id": "5NjTSgyLQZel"
      }
    },
    {
      "cell_type": "code",
      "source": [
        "mive[1][-1]"
      ],
      "metadata": {
        "colab": {
          "base_uri": "https://localhost:8080/",
          "height": 36
        },
        "id": "Mk1BFqagQSyO",
        "outputId": "923db0ef-4078-4f3b-d775-89bdc7d1cc8c"
      },
      "execution_count": null,
      "outputs": [
        {
          "output_type": "execute_result",
          "data": {
            "text/plain": [
              "'z'"
            ],
            "application/vnd.google.colaboratory.intrinsic+json": {
              "type": "string"
            }
          },
          "metadata": {},
          "execution_count": 75
        }
      ]
    },
    {
      "cell_type": "code",
      "source": [
        "mive_2 = mive"
      ],
      "metadata": {
        "id": "dOtJiQVkQ0Bi"
      },
      "execution_count": null,
      "outputs": []
    },
    {
      "cell_type": "code",
      "source": [
        "mive"
      ],
      "metadata": {
        "colab": {
          "base_uri": "https://localhost:8080/"
        },
        "id": "TQyde8htRLRY",
        "outputId": "8678090f-c72b-46b2-f36f-8d0a0ad40fa8"
      },
      "execution_count": null,
      "outputs": [
        {
          "output_type": "execute_result",
          "data": {
            "text/plain": [
              "['hulu', 'sib_ghermez', 'portoghal', 'kivi']"
            ]
          },
          "metadata": {},
          "execution_count": 77
        }
      ]
    },
    {
      "cell_type": "code",
      "source": [
        "mive_2"
      ],
      "metadata": {
        "colab": {
          "base_uri": "https://localhost:8080/"
        },
        "id": "-erLQXQgRMVd",
        "outputId": "90548e7b-24fc-44f1-99d8-e1ba69e92fd1"
      },
      "execution_count": null,
      "outputs": [
        {
          "output_type": "execute_result",
          "data": {
            "text/plain": [
              "['hulu', 'sib_ghermez', 'portoghal', 'kivi']"
            ]
          },
          "metadata": {},
          "execution_count": 78
        }
      ]
    },
    {
      "cell_type": "code",
      "source": [
        "mive_2[1] = 'sib_sabz'"
      ],
      "metadata": {
        "id": "qmEntLakRNut"
      },
      "execution_count": null,
      "outputs": []
    },
    {
      "cell_type": "code",
      "source": [
        "mive_2"
      ],
      "metadata": {
        "colab": {
          "base_uri": "https://localhost:8080/"
        },
        "id": "x81NqF1zRSBG",
        "outputId": "f6deca5f-1d0d-442d-91e2-b0e3a3209509"
      },
      "execution_count": null,
      "outputs": [
        {
          "output_type": "execute_result",
          "data": {
            "text/plain": [
              "['hulu', 'sib_sabz', 'portoghal', 'kivi']"
            ]
          },
          "metadata": {},
          "execution_count": 80
        }
      ]
    },
    {
      "cell_type": "code",
      "source": [
        "mive"
      ],
      "metadata": {
        "colab": {
          "base_uri": "https://localhost:8080/"
        },
        "id": "3eF1RR5iRSmJ",
        "outputId": "4e2ffd89-22de-4292-e04c-ceab9960a343"
      },
      "execution_count": null,
      "outputs": [
        {
          "output_type": "execute_result",
          "data": {
            "text/plain": [
              "['hulu', 'sib_sabz', 'portoghal', 'kivi']"
            ]
          },
          "metadata": {},
          "execution_count": 81
        }
      ]
    },
    {
      "cell_type": "markdown",
      "source": [
        "> agar khastim yek list ro taghir bedim va oon yeki taghir nakone bayad be komake `.copy()` in karo anjam bedim."
      ],
      "metadata": {
        "id": "EqwSN1v8SEuQ"
      }
    },
    {
      "cell_type": "code",
      "source": [
        "mive_2 = mive.copy()"
      ],
      "metadata": {
        "id": "JL6g7bq4RWPL"
      },
      "execution_count": null,
      "outputs": []
    },
    {
      "cell_type": "code",
      "source": [
        "mive_2"
      ],
      "metadata": {
        "colab": {
          "base_uri": "https://localhost:8080/"
        },
        "id": "3D8KgDQ3RwSH",
        "outputId": "f282e395-d691-496b-af7e-32c2e1557841"
      },
      "execution_count": null,
      "outputs": [
        {
          "output_type": "execute_result",
          "data": {
            "text/plain": [
              "['hulu', 'sib_sabz', 'portoghal', 'kivi']"
            ]
          },
          "metadata": {},
          "execution_count": 83
        }
      ]
    },
    {
      "cell_type": "code",
      "source": [
        "mive_2[0] = 'sib_ghermez'"
      ],
      "metadata": {
        "id": "XPEYIXIHRxn4"
      },
      "execution_count": null,
      "outputs": []
    },
    {
      "cell_type": "code",
      "source": [
        "mive_2"
      ],
      "metadata": {
        "colab": {
          "base_uri": "https://localhost:8080/"
        },
        "id": "qiJz-qtdR2P4",
        "outputId": "cef7ef5d-c3fd-4996-f54d-69ccabe33bb9"
      },
      "execution_count": null,
      "outputs": [
        {
          "output_type": "execute_result",
          "data": {
            "text/plain": [
              "['sib_ghermez', 'sib_sabz', 'portoghal', 'kivi']"
            ]
          },
          "metadata": {},
          "execution_count": 85
        }
      ]
    },
    {
      "cell_type": "code",
      "source": [
        "mive"
      ],
      "metadata": {
        "colab": {
          "base_uri": "https://localhost:8080/"
        },
        "id": "aXKEaFdAR20m",
        "outputId": "82b2f328-566f-49bc-d1d3-c2f8982e548b"
      },
      "execution_count": null,
      "outputs": [
        {
          "output_type": "execute_result",
          "data": {
            "text/plain": [
              "['hulu', 'sib_sabz', 'portoghal', 'kivi']"
            ]
          },
          "metadata": {},
          "execution_count": 86
        }
      ]
    },
    {
      "cell_type": "markdown",
      "source": [
        "## .append(object)\n",
        "\n",
        "miad va be akhare list e ma yek object ro ezafe mikone."
      ],
      "metadata": {
        "id": "bSKNxXDPR4JQ"
      }
    },
    {
      "cell_type": "code",
      "source": [
        "ex_list = [1, 2, 3]"
      ],
      "metadata": {
        "id": "iCumK8Q4S2s7"
      },
      "execution_count": null,
      "outputs": []
    },
    {
      "cell_type": "code",
      "source": [
        "ex_list.append('a')"
      ],
      "metadata": {
        "id": "DoX8zBnsS6RN"
      },
      "execution_count": null,
      "outputs": []
    },
    {
      "cell_type": "code",
      "source": [
        "ex_list"
      ],
      "metadata": {
        "colab": {
          "base_uri": "https://localhost:8080/"
        },
        "id": "RmTsle5iTEsn",
        "outputId": "f30d1869-82ec-48dc-846e-dc76fa2aacdd"
      },
      "execution_count": null,
      "outputs": [
        {
          "output_type": "execute_result",
          "data": {
            "text/plain": [
              "[1, 2, 3, 'a']"
            ]
          },
          "metadata": {},
          "execution_count": 99
        }
      ]
    },
    {
      "cell_type": "code",
      "source": [
        "ex_list.append(['b', 'c', 'd'])\n",
        "ex_list"
      ],
      "metadata": {
        "colab": {
          "base_uri": "https://localhost:8080/"
        },
        "id": "H8JkMPgnTHNW",
        "outputId": "3a27c253-7e2c-4530-9540-4b39addbd202"
      },
      "execution_count": null,
      "outputs": [
        {
          "output_type": "execute_result",
          "data": {
            "text/plain": [
              "[1, 2, 3, 'a', ['b', 'c', 'd']]"
            ]
          },
          "metadata": {},
          "execution_count": 100
        }
      ]
    },
    {
      "cell_type": "code",
      "source": [
        "len(ex_list)"
      ],
      "metadata": {
        "colab": {
          "base_uri": "https://localhost:8080/"
        },
        "id": "venvZiKoUvat",
        "outputId": "e65dd475-229b-4cc2-9d29-058ecb44e828"
      },
      "execution_count": null,
      "outputs": [
        {
          "output_type": "execute_result",
          "data": {
            "text/plain": [
              "5"
            ]
          },
          "metadata": {},
          "execution_count": 104
        }
      ]
    },
    {
      "cell_type": "markdown",
      "source": [
        "## .extend()"
      ],
      "metadata": {
        "id": "35wpcDqzTbxe"
      }
    },
    {
      "cell_type": "code",
      "source": [
        "ex_list_2 = [1, 2]"
      ],
      "metadata": {
        "id": "MKuxYgDxTkyd"
      },
      "execution_count": null,
      "outputs": []
    },
    {
      "cell_type": "code",
      "source": [
        "ex_list_2.extend(['b', 'c', 'd'])\n",
        "ex_list_2"
      ],
      "metadata": {
        "colab": {
          "base_uri": "https://localhost:8080/"
        },
        "id": "ZdLbt1xmTpIM",
        "outputId": "64abe265-4984-4a68-b0b2-dcecae248bd8"
      },
      "execution_count": null,
      "outputs": [
        {
          "output_type": "execute_result",
          "data": {
            "text/plain": [
              "[1, 2, 'b', 'c', 'd']"
            ]
          },
          "metadata": {},
          "execution_count": 102
        }
      ]
    }
  ]
}