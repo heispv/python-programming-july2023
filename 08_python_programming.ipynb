{
  "nbformat": 4,
  "nbformat_minor": 0,
  "metadata": {
    "colab": {
      "provenance": [],
      "authorship_tag": "ABX9TyPGKxEYcXU1ewy/hSCrfv/1",
      "include_colab_link": true
    },
    "kernelspec": {
      "name": "python3",
      "display_name": "Python 3"
    },
    "language_info": {
      "name": "python"
    }
  },
  "cells": [
    {
      "cell_type": "markdown",
      "metadata": {
        "id": "view-in-github",
        "colab_type": "text"
      },
      "source": [
        "<a href=\"https://colab.research.google.com/github/heispv/python-programming-july2023/blob/master/08_python_programming.ipynb\" target=\"_parent\"><img src=\"https://colab.research.google.com/assets/colab-badge.svg\" alt=\"Open In Colab\"/></a>"
      ]
    },
    {
      "cell_type": "markdown",
      "source": [
        "> Harchizi ke joloye while loop bashe tabdil be boolean mishe."
      ],
      "metadata": {
        "id": "m5wt5Fc69UmA"
      }
    },
    {
      "cell_type": "code",
      "execution_count": null,
      "metadata": {
        "colab": {
          "base_uri": "https://localhost:8080/"
        },
        "id": "m2M1y1TI8JX7",
        "outputId": "728ae6b0-8c78-49e1-f687-bff454642525"
      },
      "outputs": [
        {
          "output_type": "stream",
          "name": "stdout",
          "text": [
            "A is bigger than 2\n",
            "A is bigger than 2\n",
            "A is bigger than 2\n"
          ]
        }
      ],
      "source": [
        "a = 0\n",
        "while a < 3:\n",
        "    print('A is bigger than 2')\n",
        "    a += 1"
      ]
    },
    {
      "cell_type": "markdown",
      "source": [
        "> Vaghti tooye yek ghesmat az code emoon dakhele halghe be keyword e `break` miresim, halghe hamoonja shekaste mishe va baghie mohasebatesh anjam nemishe."
      ],
      "metadata": {
        "id": "a_QVcleF-W_W"
      }
    },
    {
      "cell_type": "code",
      "source": [
        "mistakes = 0\n",
        "\n",
        "while True:\n",
        "\n",
        "  if mistakes > 3:\n",
        "    print('Your phone is locked for 5 minutes.')\n",
        "    break\n",
        "\n",
        "  ans = input('Pass ro vared kon: ')\n",
        "\n",
        "  if ans == '123':\n",
        "    print('Password is correct.')\n",
        "    break\n",
        "  else:\n",
        "    print('wrong password.')\n",
        "    mistakes += 1\n",
        "    print(f'{4 - mistakes} attemps left.')"
      ],
      "metadata": {
        "colab": {
          "base_uri": "https://localhost:8080/"
        },
        "id": "yzXr-0359jd5",
        "outputId": "18f9366a-e9e5-46ef-c258-f140c686be3f"
      },
      "execution_count": null,
      "outputs": [
        {
          "output_type": "stream",
          "name": "stdout",
          "text": [
            "Pass ro vared kon: 10\n",
            "wrong password.\n",
            "3 attemps left.\n",
            "Pass ro vared kon: 123\n",
            "Password is correct.\n"
          ]
        }
      ]
    },
    {
      "cell_type": "markdown",
      "source": [
        "> keyword e `continue` miad baghie khat haro skip mikone va dobare micharkhe."
      ],
      "metadata": {
        "id": "Ej7ltrME_IfT"
      }
    },
    {
      "cell_type": "code",
      "source": [
        "for i in range(5):\n",
        "    if i in [1, 2]:\n",
        "        continue\n",
        "    print(i)"
      ],
      "metadata": {
        "colab": {
          "base_uri": "https://localhost:8080/"
        },
        "id": "7o9IekTH-ymV",
        "outputId": "1fffd692-ad01-4a16-ec96-7462607a4588"
      },
      "execution_count": null,
      "outputs": [
        {
          "output_type": "stream",
          "name": "stdout",
          "text": [
            "0\n",
            "3\n",
            "4\n"
          ]
        }
      ]
    },
    {
      "cell_type": "code",
      "source": [
        "i = 0\n",
        "while i <= 5:\n",
        "    print(i)\n",
        "    i += 1"
      ],
      "metadata": {
        "colab": {
          "base_uri": "https://localhost:8080/"
        },
        "id": "CemtI4ne_dWl",
        "outputId": "511c699c-2a2b-487b-95f6-7380ab8b45f5"
      },
      "execution_count": null,
      "outputs": [
        {
          "output_type": "stream",
          "name": "stdout",
          "text": [
            "0\n",
            "1\n",
            "2\n",
            "3\n",
            "4\n",
            "5\n"
          ]
        }
      ]
    },
    {
      "cell_type": "code",
      "source": [
        "x = int(input('Baze nahayi ro vared konid: '))\n",
        "\n",
        "num = 1\n",
        "num_list = []\n",
        "\n",
        "while num <= x:\n",
        "    # Baghimande adad fard bar 2 barabar ba 1 ast\n",
        "    if num % 2 == 1:\n",
        "        num_list.append(num)\n",
        "\n",
        "    num += 1\n",
        "\n",
        "print(num_list)"
      ],
      "metadata": {
        "colab": {
          "base_uri": "https://localhost:8080/"
        },
        "id": "sQsMelcnAIDY",
        "outputId": "b25e18eb-f8de-49d3-a3d8-13dac66d276f"
      },
      "execution_count": null,
      "outputs": [
        {
          "output_type": "stream",
          "name": "stdout",
          "text": [
            "Baze nahayi ro vared konid: 20\n",
            "[1, 3, 5, 7, 9, 11, 13, 15, 17, 19]\n"
          ]
        }
      ]
    },
    {
      "cell_type": "markdown",
      "source": [
        "> ```5! -> 5*4*3*2*1```"
      ],
      "metadata": {
        "id": "P3yu6lQ2BrVI"
      }
    },
    {
      "cell_type": "code",
      "source": [
        "factorial = int(input('Factorial che adadi ro mikhain mohasebe konid: '))\n",
        "\n",
        "ans = 1\n",
        "\n",
        "while factorial > 1:\n",
        "    ans *= factorial # ans = ans * factorial\n",
        "    factorial -= 1 # factorial = factorial - 1\n",
        "\n",
        "print(ans)"
      ],
      "metadata": {
        "colab": {
          "base_uri": "https://localhost:8080/"
        },
        "id": "DUvSVQzvA6V5",
        "outputId": "7bac2c14-7522-4a5a-f5a8-6f3a20136db7"
      },
      "execution_count": null,
      "outputs": [
        {
          "output_type": "stream",
          "name": "stdout",
          "text": [
            "Factorial che adadi ro mikhain mohasebe konid: 9\n",
            "362880\n"
          ]
        }
      ]
    },
    {
      "cell_type": "code",
      "source": [
        "my_list = [1, 2, 3, 4, 5]\n",
        "\n",
        "majmoo = 0\n",
        "\n",
        "for adad in my_list:\n",
        "    majmoo = majmoo + adad\n",
        "\n",
        "print(majmoo)"
      ],
      "metadata": {
        "colab": {
          "base_uri": "https://localhost:8080/"
        },
        "id": "pqzkAzHeDkky",
        "outputId": "0b1d4f1d-ce17-4e54-b44c-f18af1032417"
      },
      "execution_count": null,
      "outputs": [
        {
          "output_type": "stream",
          "name": "stdout",
          "text": [
            "15\n"
          ]
        }
      ]
    },
    {
      "cell_type": "code",
      "source": [
        "majmoo = 0\n",
        "\n",
        "for i in range(len(my_list)):\n",
        "    adad = my_list[i]\n",
        "    majmoo = majmoo + adad\n",
        "\n",
        "print(majmoo)"
      ],
      "metadata": {
        "colab": {
          "base_uri": "https://localhost:8080/"
        },
        "id": "ce07qs1xEI5h",
        "outputId": "86b4f04b-ac24-448a-afd7-ab86542d999e"
      },
      "execution_count": null,
      "outputs": [
        {
          "output_type": "stream",
          "name": "stdout",
          "text": [
            "15\n"
          ]
        }
      ]
    },
    {
      "cell_type": "code",
      "source": [
        "my_list = [1, 2, 3, 4, 5]\n",
        "# i        0  1  2\n",
        "\n",
        "i = 0\n",
        "majmoo = 0\n",
        "\n",
        "while i < len(my_list):\n",
        "    majmoo = majmoo + my_list[i]\n",
        "    i += 1\n",
        "\n",
        "print(majmoo)"
      ],
      "metadata": {
        "colab": {
          "base_uri": "https://localhost:8080/"
        },
        "id": "_OPX6CJSEm6Z",
        "outputId": "5b87464a-1666-4c76-ce52-41e4155a090f"
      },
      "execution_count": null,
      "outputs": [
        {
          "output_type": "stream",
          "name": "stdout",
          "text": [
            "15\n"
          ]
        }
      ]
    },
    {
      "cell_type": "code",
      "source": [
        "import random"
      ],
      "metadata": {
        "id": "91iLXav6GT1x"
      },
      "execution_count": null,
      "outputs": []
    },
    {
      "cell_type": "code",
      "source": [
        "random.randint(0, 10)"
      ],
      "metadata": {
        "colab": {
          "base_uri": "https://localhost:8080/"
        },
        "id": "sYQ-GqrBG6Lk",
        "outputId": "cc11caa4-0ddf-459d-8a77-63458e7241d5"
      },
      "execution_count": null,
      "outputs": [
        {
          "output_type": "execute_result",
          "data": {
            "text/plain": [
              "6"
            ]
          },
          "metadata": {},
          "execution_count": 44
        }
      ]
    },
    {
      "cell_type": "code",
      "source": [
        "adad_computer = random.randint(0, 10)\n",
        "\n",
        "hads = int(input('Hads khod ra vared konid: '))\n",
        "tedad_hads = 1\n",
        "\n",
        "while True:\n",
        "\n",
        "    if hads == adad_computer:\n",
        "        print('Hads shoma dorost ast.')\n",
        "        print(f'Ba {tedad_hads} ta hads be javab dorost residin:)')\n",
        "        break\n",
        "    else:\n",
        "        print('Hads shoma eshtebah ast.')\n",
        "        tedad_hads += 1\n",
        "        if hads > adad_computer:\n",
        "            print('* Bayad yek adad kuchik tar entekhab konid.')\n",
        "        else:\n",
        "            print('* Bayad yek adad bozorg tar entekhab konid.')\n",
        "        hads = int(input('Yek hadse dge bezanin: '))\n",
        "\n"
      ],
      "metadata": {
        "colab": {
          "base_uri": "https://localhost:8080/"
        },
        "id": "qo-UPbg7HL0K",
        "outputId": "44fa5966-969e-4a52-9f20-eadbeede0e52"
      },
      "execution_count": null,
      "outputs": [
        {
          "output_type": "stream",
          "name": "stdout",
          "text": [
            "Hads khod ra vared konid: 5\n",
            "Hads shoma eshtebah ast.\n",
            "* Bayad yek adad bozorg tar entekhab konid.\n",
            "Yek hadse dge bezanin: 6\n",
            "Hads shoma eshtebah ast.\n",
            "* Bayad yek adad bozorg tar entekhab konid.\n",
            "Yek hadse dge bezanin: 8\n",
            "Hads shoma eshtebah ast.\n",
            "* Bayad yek adad bozorg tar entekhab konid.\n",
            "Yek hadse dge bezanin: 9\n",
            "Hads shoma dorost ast.\n",
            "Ba 4 ta hads be javab dorost residin:)\n"
          ]
        }
      ]
    },
    {
      "cell_type": "code",
      "source": [
        "computer_choice = random.choice(['sang', 'kaghaz', 'gheichi'])\n",
        "\n",
        "user_choice = input('sang kaghaz ya gheichi ro type konid: ')\n",
        "\n",
        "print(f'Shoma {user_choice} avordin va computer {computer_choice} avord\\n')\n",
        "\n",
        "if (user_choice == 'sang' and computer_choice == 'gheichi') or (user_choice == 'kaghaz' and computer_choice == 'sang') or (user_choice == 'gheichi' and computer_choice == 'kaghaz'):\n",
        "    print('Shoma bordin :)')\n",
        "elif (computer_choice == 'sang' and user_choice == 'gheichi') or (computer_choice == 'kaghaz' and user_choice == 'sang') or (computer_choice == 'gheichi' and user_choice == 'kaghaz'):\n",
        "    print('Shoma bakhtin :(')\n",
        "else:\n",
        "    print('Mosavi :|')"
      ],
      "metadata": {
        "colab": {
          "base_uri": "https://localhost:8080/"
        },
        "id": "bK2Nlp5AHsby",
        "outputId": "028779a5-b541-4e20-b3e9-0220d23e5212"
      },
      "execution_count": null,
      "outputs": [
        {
          "output_type": "stream",
          "name": "stdout",
          "text": [
            "sang kaghaz ya gheichi ro type konid: sang\n",
            "Shoma sang avordin va computer gheichi avord\n",
            "\n",
            "Shoma bordin :)\n"
          ]
        }
      ]
    },
    {
      "cell_type": "code",
      "source": [],
      "metadata": {
        "id": "c9HqbV27MY2x"
      },
      "execution_count": null,
      "outputs": []
    }
  ]
}