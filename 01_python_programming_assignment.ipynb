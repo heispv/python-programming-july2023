{
  "nbformat": 4,
  "nbformat_minor": 0,
  "metadata": {
    "colab": {
      "provenance": [],
      "authorship_tag": "ABX9TyOpjCzaBu/OptnVwA1YzN/a",
      "include_colab_link": true
    },
    "kernelspec": {
      "name": "python3",
      "display_name": "Python 3"
    },
    "language_info": {
      "name": "python"
    }
  },
  "cells": [
    {
      "cell_type": "markdown",
      "metadata": {
        "id": "view-in-github",
        "colab_type": "text"
      },
      "source": [
        "<a href=\"https://colab.research.google.com/github/heispv/python-programming-july2023/blob/master/01_python_programming_assignment.ipynb\" target=\"_parent\"><img src=\"https://colab.research.google.com/assets/colab-badge.svg\" alt=\"Open In Colab\"/></a>"
      ]
    },
    {
      "cell_type": "markdown",
      "source": [
        "#1.\n",
        "Hasele taghsim adade `12` bar `5` ro be dast biarid.\n",
        "\n",
        "Deghat konid yek khuruji bayad be shekle `2.4` bashad.\n",
        "\n",
        "Yek khurji bayad `kharej ghesmat` va yek khuruji niz `baghimande` taghsim do adad bashad."
      ],
      "metadata": {
        "id": "nxHDQuS_j28Q"
      }
    },
    {
      "cell_type": "code",
      "execution_count": null,
      "metadata": {
        "id": "RRu3YSUBjq7c"
      },
      "outputs": [],
      "source": [
        "# Inja baraye tamrine avval - 1\n"
      ]
    },
    {
      "cell_type": "code",
      "source": [
        "# Inja baraye tamrine avval - 2\n"
      ],
      "metadata": {
        "id": "uN5p9tAxq01r"
      },
      "execution_count": null,
      "outputs": []
    },
    {
      "cell_type": "code",
      "source": [
        "# Inja baraye tamrine avval - 3\n"
      ],
      "metadata": {
        "id": "mOQkgDpgq1Iu"
      },
      "execution_count": null,
      "outputs": []
    },
    {
      "cell_type": "markdown",
      "source": [
        "#2.\n",
        "Adade `9` ro be tavan `2.3` beresanid."
      ],
      "metadata": {
        "id": "14bWm5JjkjcK"
      }
    },
    {
      "cell_type": "code",
      "source": [
        "# Inja baraye tamrine dovom\n"
      ],
      "metadata": {
        "id": "hw4ZFBJjqYQK"
      },
      "execution_count": null,
      "outputs": []
    },
    {
      "cell_type": "markdown",
      "source": [
        "#3.\n",
        "Be komake function haye mojood dar python `type` e adade `120.4` ro moshakhas konid va sepas be komake yek fuunction e digar oon ro tabdil be `adade sahih` konid."
      ],
      "metadata": {
        "id": "U9hdypi7qbeF"
      }
    },
    {
      "cell_type": "code",
      "source": [
        "# Inja baraye tamrine sevom - 1\n"
      ],
      "metadata": {
        "id": "rXJfGuLSqa7O"
      },
      "execution_count": null,
      "outputs": []
    },
    {
      "cell_type": "code",
      "source": [
        "# Inja baraye tamrine sevom - 2\n"
      ],
      "metadata": {
        "id": "VpGbKG83q8rB"
      },
      "execution_count": null,
      "outputs": []
    },
    {
      "cell_type": "markdown",
      "source": [
        "#4.\n",
        "Yek `list` tarif konin va dakhele oon `list` esme 4 ta az mive hayi ke doost darin ro benvisin."
      ],
      "metadata": {
        "id": "NAgOvc0Lu7g8"
      }
    },
    {
      "cell_type": "code",
      "source": [
        "# Inja baraye tamrine cheharom\n"
      ],
      "metadata": {
        "id": "vgBLYOGSvF3j"
      },
      "execution_count": null,
      "outputs": []
    }
  ]
}