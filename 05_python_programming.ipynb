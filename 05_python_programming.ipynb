{
  "nbformat": 4,
  "nbformat_minor": 0,
  "metadata": {
    "colab": {
      "provenance": [],
      "authorship_tag": "ABX9TyOQqp+Xq/KtVdv2Jp82OmG2",
      "include_colab_link": true
    },
    "kernelspec": {
      "name": "python3",
      "display_name": "Python 3"
    },
    "language_info": {
      "name": "python"
    }
  },
  "cells": [
    {
      "cell_type": "markdown",
      "metadata": {
        "id": "view-in-github",
        "colab_type": "text"
      },
      "source": [
        "<a href=\"https://colab.research.google.com/github/heispv/python-programming-july2023/blob/master/05_python_programming.ipynb\" target=\"_parent\"><img src=\"https://colab.research.google.com/assets/colab-badge.svg\" alt=\"Open In Colab\"/></a>"
      ]
    },
    {
      "cell_type": "markdown",
      "source": [
        "# Set\n",
        "\n",
        "listi ke hame object hash unique bashan.\n",
        "\n",
        "va oon haro ba `{}` moshakhas mikonim."
      ],
      "metadata": {
        "id": "ZQA0D8kNGuId"
      }
    },
    {
      "cell_type": "code",
      "source": [
        "my_list = [1, 2, 3, 3, 3, 4]\n",
        "my_set = set(my_list)\n",
        "print(my_set)"
      ],
      "metadata": {
        "colab": {
          "base_uri": "https://localhost:8080/"
        },
        "id": "keynTmhmG-MK",
        "outputId": "cb4a88ed-8cef-41ef-9dec-55e8760234e9"
      },
      "execution_count": null,
      "outputs": [
        {
          "output_type": "stream",
          "name": "stdout",
          "text": [
            "{1, 2, 3, 4}\n"
          ]
        }
      ]
    },
    {
      "cell_type": "code",
      "source": [
        "0 in my_set"
      ],
      "metadata": {
        "colab": {
          "base_uri": "https://localhost:8080/"
        },
        "id": "agReOGwUHHv4",
        "outputId": "e5305ddc-1126-455d-e215-3ff3721c131f"
      },
      "execution_count": null,
      "outputs": [
        {
          "output_type": "execute_result",
          "data": {
            "text/plain": [
              "False"
            ]
          },
          "metadata": {},
          "execution_count": 8
        }
      ]
    },
    {
      "cell_type": "code",
      "source": [
        "set_1 = {1, 2}\n",
        "set_2 = {3, 4, 5, 6, 7}"
      ],
      "metadata": {
        "id": "h1kXP8sMHmhD"
      },
      "execution_count": null,
      "outputs": []
    },
    {
      "cell_type": "markdown",
      "source": [
        "## .add()\n",
        "\n",
        "miad va be set i ke darin yek object ezafe mikone."
      ],
      "metadata": {
        "id": "fy-UhygeIM98"
      }
    },
    {
      "cell_type": "code",
      "source": [
        "set_1.add(3)"
      ],
      "metadata": {
        "id": "29ACrkd8IVrZ"
      },
      "execution_count": null,
      "outputs": []
    },
    {
      "cell_type": "code",
      "source": [
        "set_1, set_2"
      ],
      "metadata": {
        "colab": {
          "base_uri": "https://localhost:8080/"
        },
        "id": "0CPzz9QNIYhe",
        "outputId": "fee429ef-3dbc-4280-eca8-27dbe2da139e"
      },
      "execution_count": null,
      "outputs": [
        {
          "output_type": "execute_result",
          "data": {
            "text/plain": [
              "({1, 2, 3}, {3, 4, 5, 6, 7})"
            ]
          },
          "metadata": {},
          "execution_count": 13
        }
      ]
    },
    {
      "cell_type": "markdown",
      "source": [
        "## .difference()\n",
        "\n",
        "miad va moshakhas mikone ke che obj hayi dakhele set aval hast va dakhele sete dovom nist. ya amalan miad A-B ro baraye ma hesab mikone."
      ],
      "metadata": {
        "id": "OEhSA_dCIc14"
      }
    },
    {
      "cell_type": "code",
      "source": [
        "set_1.difference(set_2)"
      ],
      "metadata": {
        "colab": {
          "base_uri": "https://localhost:8080/"
        },
        "id": "lIsxuo94In05",
        "outputId": "028e56dd-44b5-4456-e076-e31ff5052bbf"
      },
      "execution_count": null,
      "outputs": [
        {
          "output_type": "execute_result",
          "data": {
            "text/plain": [
              "{1, 2}"
            ]
          },
          "metadata": {},
          "execution_count": 14
        }
      ]
    },
    {
      "cell_type": "code",
      "source": [
        "set_2.difference(set_1)"
      ],
      "metadata": {
        "colab": {
          "base_uri": "https://localhost:8080/"
        },
        "id": "hJOkCpDIIx5U",
        "outputId": "29263431-2612-4285-f53d-788aeb4eb8bb"
      },
      "execution_count": null,
      "outputs": [
        {
          "output_type": "execute_result",
          "data": {
            "text/plain": [
              "{4, 5, 6, 7}"
            ]
          },
          "metadata": {},
          "execution_count": 15
        }
      ]
    },
    {
      "cell_type": "code",
      "source": [
        "set_1, set_2"
      ],
      "metadata": {
        "colab": {
          "base_uri": "https://localhost:8080/"
        },
        "id": "q0wyolEPJCV4",
        "outputId": "4018a57a-f161-44d1-c5cf-a457a016521d"
      },
      "execution_count": null,
      "outputs": [
        {
          "output_type": "execute_result",
          "data": {
            "text/plain": [
              "({1, 2, 3}, {3, 4, 5, 6, 7})"
            ]
          },
          "metadata": {},
          "execution_count": 16
        }
      ]
    },
    {
      "cell_type": "markdown",
      "source": [
        "## .difference_update()\n",
        "\n",
        "miad va moshakhas mikone ke che obj hayi dakhele set aval hast va dakhele sete dovom nist.\n",
        "\n",
        "ya amalan miad A = A-B ro baraye ma hesab mikone.\n",
        "\n",
        "va dar enteha set hayi ke dashtim ro update mikone."
      ],
      "metadata": {
        "id": "hCj-1oc2JHZa"
      }
    },
    {
      "cell_type": "code",
      "source": [
        "set_1.difference_update(set_2)"
      ],
      "metadata": {
        "id": "nm4sQdcBJQDl"
      },
      "execution_count": null,
      "outputs": []
    },
    {
      "cell_type": "code",
      "source": [
        "set_1, set_2"
      ],
      "metadata": {
        "colab": {
          "base_uri": "https://localhost:8080/"
        },
        "id": "jNujM3prJTRP",
        "outputId": "af558a6d-4491-41a8-b6ef-42cacbd6819f"
      },
      "execution_count": null,
      "outputs": [
        {
          "output_type": "execute_result",
          "data": {
            "text/plain": [
              "({1, 2}, {3, 4, 5, 6, 7})"
            ]
          },
          "metadata": {},
          "execution_count": 20
        }
      ]
    },
    {
      "cell_type": "code",
      "source": [
        "set_1 = {1, 2, 3}\n",
        "set_2 = {3, 4, 5, 6, 7}"
      ],
      "metadata": {
        "id": "QJXpgXwkJUgu"
      },
      "execution_count": null,
      "outputs": []
    },
    {
      "cell_type": "code",
      "source": [
        "set_2.difference_update(set_1)\n",
        "set_2"
      ],
      "metadata": {
        "colab": {
          "base_uri": "https://localhost:8080/"
        },
        "id": "1RFV6ZlZJjtp",
        "outputId": "daa31d54-0a31-4a84-bcfd-08de1a250fec"
      },
      "execution_count": null,
      "outputs": [
        {
          "output_type": "execute_result",
          "data": {
            "text/plain": [
              "{4, 5, 6, 7}"
            ]
          },
          "metadata": {},
          "execution_count": 22
        }
      ]
    },
    {
      "cell_type": "markdown",
      "source": [
        "## .discard()\n",
        "\n",
        "miad va yek object ro agar dakhele oon set vujud dasht hazf mikone va oon set ro update mikone."
      ],
      "metadata": {
        "id": "YsjcZ4AfJnqE"
      }
    },
    {
      "cell_type": "code",
      "source": [
        "set_1 = {1, 2, 3}\n",
        "set_2 = {3, 4, 5, 6, 7}"
      ],
      "metadata": {
        "id": "Osz8lNAfJu2s"
      },
      "execution_count": null,
      "outputs": []
    },
    {
      "cell_type": "code",
      "source": [
        "set_1.discard(2)"
      ],
      "metadata": {
        "id": "qG3seJKKJwRD"
      },
      "execution_count": null,
      "outputs": []
    },
    {
      "cell_type": "code",
      "source": [
        "set_1"
      ],
      "metadata": {
        "colab": {
          "base_uri": "https://localhost:8080/"
        },
        "id": "cpFS-Z-gJ5OP",
        "outputId": "e99d882a-022d-4170-ee3f-a583e6e88515"
      },
      "execution_count": null,
      "outputs": [
        {
          "output_type": "execute_result",
          "data": {
            "text/plain": [
              "{1, 3}"
            ]
          },
          "metadata": {},
          "execution_count": 25
        }
      ]
    },
    {
      "cell_type": "markdown",
      "source": [
        "## .intersection()\n",
        "\n",
        "miad va eshterak do majmoo ro hesab mikone."
      ],
      "metadata": {
        "id": "7jFjeY75J7Hg"
      }
    },
    {
      "cell_type": "code",
      "source": [
        "set_1 = {1, 2, 3}\n",
        "set_2 = {3, 4, 5, 6, 7}"
      ],
      "metadata": {
        "id": "VyRg-oMdKJhI"
      },
      "execution_count": null,
      "outputs": []
    },
    {
      "cell_type": "code",
      "source": [
        "set_1.intersection(set_2)"
      ],
      "metadata": {
        "colab": {
          "base_uri": "https://localhost:8080/"
        },
        "id": "VMjOnkOfKMCi",
        "outputId": "76081296-32c4-415a-aed5-6f8bb3e4e614"
      },
      "execution_count": null,
      "outputs": [
        {
          "output_type": "execute_result",
          "data": {
            "text/plain": [
              "{3}"
            ]
          },
          "metadata": {},
          "execution_count": 28
        }
      ]
    },
    {
      "cell_type": "markdown",
      "source": [
        "## .intersection_update()\n",
        "\n",
        "miad va eshterak do majmoo ro hesab mikone.\n",
        "\n",
        "A = A (eshterak) B"
      ],
      "metadata": {
        "id": "WCMddkOeKPNr"
      }
    },
    {
      "cell_type": "code",
      "source": [
        "set_1 = {1, 2, 3}\n",
        "set_2 = {3, 4, 5, 6, 7}"
      ],
      "metadata": {
        "id": "yVRGQ3O6Kafa"
      },
      "execution_count": null,
      "outputs": []
    },
    {
      "cell_type": "code",
      "source": [
        "set_1.intersection_update(set_2)"
      ],
      "metadata": {
        "id": "nBLD1EHOKb_X"
      },
      "execution_count": null,
      "outputs": []
    },
    {
      "cell_type": "code",
      "source": [
        "set_1, set_2"
      ],
      "metadata": {
        "colab": {
          "base_uri": "https://localhost:8080/"
        },
        "id": "dK1aqYDzKeck",
        "outputId": "e0949ee9-b7eb-4c26-c635-05b8d3d37820"
      },
      "execution_count": null,
      "outputs": [
        {
          "output_type": "execute_result",
          "data": {
            "text/plain": [
              "({3}, {3, 4, 5, 6, 7})"
            ]
          },
          "metadata": {},
          "execution_count": 31
        }
      ]
    },
    {
      "cell_type": "code",
      "source": [
        "set_1 = {1, 2, 3}\n",
        "set_2 = {3, 4, 5, 6, 7}"
      ],
      "metadata": {
        "id": "ojTFaUs7Kil5"
      },
      "execution_count": null,
      "outputs": []
    },
    {
      "cell_type": "code",
      "source": [
        "set_2.intersection_update(set_1)"
      ],
      "metadata": {
        "id": "IYmWBFCuKxWh"
      },
      "execution_count": null,
      "outputs": []
    },
    {
      "cell_type": "code",
      "source": [
        "set_1, set_2"
      ],
      "metadata": {
        "colab": {
          "base_uri": "https://localhost:8080/"
        },
        "id": "mpHDrvIhK0vf",
        "outputId": "7ffc601b-cc1d-47a2-f3d3-2a3dac5a680f"
      },
      "execution_count": null,
      "outputs": [
        {
          "output_type": "execute_result",
          "data": {
            "text/plain": [
              "({1, 2, 3}, {3})"
            ]
          },
          "metadata": {},
          "execution_count": 34
        }
      ]
    },
    {
      "cell_type": "markdown",
      "source": [
        "## isdisjoint()\n",
        "\n",
        "miad va bema mige ke aya do majmoo eshterak nadaran?\n"
      ],
      "metadata": {
        "id": "Hp2_i-9AK1ed"
      }
    },
    {
      "cell_type": "code",
      "source": [
        "set_1 = {1, 2, 3}\n",
        "set_2 = {3, 4, 5, 6, 7}"
      ],
      "metadata": {
        "id": "CdyoZeSDK7h3"
      },
      "execution_count": null,
      "outputs": []
    },
    {
      "cell_type": "code",
      "source": [
        "set_1.isdisjoint(set_2)"
      ],
      "metadata": {
        "colab": {
          "base_uri": "https://localhost:8080/"
        },
        "id": "iLJ0grkiK9nq",
        "outputId": "aae8f977-fbaf-4ebf-a74d-2de3a2e509c1"
      },
      "execution_count": null,
      "outputs": [
        {
          "output_type": "execute_result",
          "data": {
            "text/plain": [
              "False"
            ]
          },
          "metadata": {},
          "execution_count": 36
        }
      ]
    },
    {
      "cell_type": "code",
      "source": [
        "set_1 = {1, 2}\n",
        "set_2 = {3, 4, 5, 6, 7}"
      ],
      "metadata": {
        "id": "ay9r8PoiLMRf"
      },
      "execution_count": null,
      "outputs": []
    },
    {
      "cell_type": "code",
      "source": [
        "set_1.isdisjoint(set_2)"
      ],
      "metadata": {
        "colab": {
          "base_uri": "https://localhost:8080/"
        },
        "id": "7AoaLWAkLQG-",
        "outputId": "98586f19-eb11-499e-a6d1-b71bd6b60f36"
      },
      "execution_count": null,
      "outputs": [
        {
          "output_type": "execute_result",
          "data": {
            "text/plain": [
              "True"
            ]
          },
          "metadata": {},
          "execution_count": 38
        }
      ]
    },
    {
      "cell_type": "markdown",
      "source": [
        "## .union()\n",
        "\n",
        "miad va be ma ejtema do majmoo ro barmigardoone."
      ],
      "metadata": {
        "id": "OHBneqkgLQ_7"
      }
    },
    {
      "cell_type": "code",
      "source": [
        "set_1 = {1, 2, 3}\n",
        "set_2 = {3, 4, 5, 6, 7}"
      ],
      "metadata": {
        "id": "PtFtCJlhLhE7"
      },
      "execution_count": null,
      "outputs": []
    },
    {
      "cell_type": "code",
      "source": [
        "set_1.union(set_2)"
      ],
      "metadata": {
        "colab": {
          "base_uri": "https://localhost:8080/"
        },
        "id": "VYVIo4ZoLhbc",
        "outputId": "cdbb2698-e568-4176-a7fa-53988d1c9c98"
      },
      "execution_count": null,
      "outputs": [
        {
          "output_type": "execute_result",
          "data": {
            "text/plain": [
              "{1, 2, 3, 4, 5, 6, 7}"
            ]
          },
          "metadata": {},
          "execution_count": 40
        }
      ]
    },
    {
      "cell_type": "code",
      "source": [
        "set_1, set_2"
      ],
      "metadata": {
        "colab": {
          "base_uri": "https://localhost:8080/"
        },
        "id": "moZja_vSLmjL",
        "outputId": "b56d25f2-b1d5-4e7f-9eca-c853fdab18a5"
      },
      "execution_count": null,
      "outputs": [
        {
          "output_type": "execute_result",
          "data": {
            "text/plain": [
              "({1, 2, 3}, {3, 4, 5, 6, 7})"
            ]
          },
          "metadata": {},
          "execution_count": 41
        }
      ]
    },
    {
      "cell_type": "markdown",
      "source": [
        "## .issubset()\n",
        "\n",
        "aya set 1 zir majmoo set 2 hast?"
      ],
      "metadata": {
        "id": "8tnucVwZLrfN"
      }
    },
    {
      "cell_type": "code",
      "source": [
        "set_1 = {1, 2}\n",
        "set_2 = {1, 2, 3, 4}"
      ],
      "metadata": {
        "id": "gorsoHqXL7YU"
      },
      "execution_count": null,
      "outputs": []
    },
    {
      "cell_type": "code",
      "source": [
        "set_1.issubset(set_2)"
      ],
      "metadata": {
        "colab": {
          "base_uri": "https://localhost:8080/"
        },
        "id": "uX8shgWEL_Vk",
        "outputId": "45aac176-0c5b-4b8d-93f2-a010d69537a4"
      },
      "execution_count": null,
      "outputs": [
        {
          "output_type": "execute_result",
          "data": {
            "text/plain": [
              "True"
            ]
          },
          "metadata": {},
          "execution_count": 44
        }
      ]
    },
    {
      "cell_type": "code",
      "source": [
        "set_2.issubset(set_1)"
      ],
      "metadata": {
        "colab": {
          "base_uri": "https://localhost:8080/"
        },
        "id": "Q8pmqgPfMBqD",
        "outputId": "7ee0df1c-048c-4bd5-8823-bdbdfd59c635"
      },
      "execution_count": null,
      "outputs": [
        {
          "output_type": "execute_result",
          "data": {
            "text/plain": [
              "False"
            ]
          },
          "metadata": {},
          "execution_count": 45
        }
      ]
    },
    {
      "cell_type": "markdown",
      "source": [
        "## .issuperset()\n",
        "\n",
        "aya zir majmoo 1 daraye zir majmoo 2 hast?"
      ],
      "metadata": {
        "id": "xl7-Hp6nMEhL"
      }
    },
    {
      "cell_type": "code",
      "source": [
        "set_2.issuperset(set_1)"
      ],
      "metadata": {
        "colab": {
          "base_uri": "https://localhost:8080/"
        },
        "id": "4Gg9h6ijML0h",
        "outputId": "562dbced-ce38-4d24-9334-c2a309fc38ac"
      },
      "execution_count": null,
      "outputs": [
        {
          "output_type": "execute_result",
          "data": {
            "text/plain": [
              "True"
            ]
          },
          "metadata": {},
          "execution_count": 46
        }
      ]
    },
    {
      "cell_type": "markdown",
      "source": [
        "# Conditional Formatting\n",
        "\n",
        "Baraye inke biaim va yek seri sharayet moshakhas konim va bar asase oon sharayet yek seri khat az code hamoon ro ejra bokonim va yek seri khat haro nadide begirim.\n",
        "\n",
        "* harchizi joloye if va elif va else tabdil be boolean mishan.\n",
        "\n",
        "* Bayad hamishe havasetoon be indentation bashe."
      ],
      "metadata": {
        "id": "EoiXgXkEMNGR"
      }
    },
    {
      "cell_type": "code",
      "source": [
        "password = True\n",
        "\n",
        "if password:\n",
        "  print('hello')\n",
        "  print('bye')\n",
        "print('done')"
      ],
      "metadata": {
        "colab": {
          "base_uri": "https://localhost:8080/"
        },
        "id": "RreFzmBvNtnp",
        "outputId": "0102af9d-4862-4caa-ac4e-eb0ff110dbc3"
      },
      "execution_count": null,
      "outputs": [
        {
          "output_type": "stream",
          "name": "stdout",
          "text": [
            "hello\n",
            "bye\n",
            "done\n"
          ]
        }
      ]
    },
    {
      "cell_type": "code",
      "source": [
        "password = False\n",
        "\n",
        "if password:\n",
        "  print('hello')\n",
        "  print('bye')\n",
        "print('done')"
      ],
      "metadata": {
        "colab": {
          "base_uri": "https://localhost:8080/"
        },
        "id": "pDcrTJorOJ8Y",
        "outputId": "33cfa6c0-8a26-4065-989b-6261d9b6b101"
      },
      "execution_count": null,
      "outputs": [
        {
          "output_type": "stream",
          "name": "stdout",
          "text": [
            "done\n"
          ]
        }
      ]
    },
    {
      "cell_type": "code",
      "source": [
        "password = False\n",
        "\n",
        "if password:\n",
        "  print('Your password is correct.')\n",
        "  print('first')\n",
        "else:\n",
        "  print('Wrong password')\n",
        "\n",
        "print('done')"
      ],
      "metadata": {
        "colab": {
          "base_uri": "https://localhost:8080/"
        },
        "id": "BPu0aKxyO_gy",
        "outputId": "c503cdaf-0748-4593-b17b-50899db56d78"
      },
      "execution_count": null,
      "outputs": [
        {
          "output_type": "stream",
          "name": "stdout",
          "text": [
            "Wrong password\n",
            "done\n"
          ]
        }
      ]
    },
    {
      "cell_type": "markdown",
      "source": [
        "> keyword e `and` yani hardo statement bayad True bashan."
      ],
      "metadata": {
        "id": "On5H3IebQtka"
      }
    },
    {
      "cell_type": "code",
      "source": [
        "True and True"
      ],
      "metadata": {
        "colab": {
          "base_uri": "https://localhost:8080/"
        },
        "id": "f9bxdx3mQ4Zb",
        "outputId": "203e2c90-44cf-424b-f7c3-5d619ce50f58"
      },
      "execution_count": null,
      "outputs": [
        {
          "output_type": "execute_result",
          "data": {
            "text/plain": [
              "True"
            ]
          },
          "metadata": {},
          "execution_count": 65
        }
      ]
    },
    {
      "cell_type": "code",
      "source": [
        "True and False"
      ],
      "metadata": {
        "colab": {
          "base_uri": "https://localhost:8080/"
        },
        "id": "NsV8EnWwQ6gE",
        "outputId": "c6b066fb-1d2e-4edf-df1b-b8292da22bf9"
      },
      "execution_count": null,
      "outputs": [
        {
          "output_type": "execute_result",
          "data": {
            "text/plain": [
              "False"
            ]
          },
          "metadata": {},
          "execution_count": 66
        }
      ]
    },
    {
      "cell_type": "code",
      "source": [
        "True and False and True and True and True"
      ],
      "metadata": {
        "colab": {
          "base_uri": "https://localhost:8080/"
        },
        "id": "ZWv5ze3-Q8NB",
        "outputId": "bc672b68-f0f3-4854-807b-c72a9ed34f07"
      },
      "execution_count": null,
      "outputs": [
        {
          "output_type": "execute_result",
          "data": {
            "text/plain": [
              "False"
            ]
          },
          "metadata": {},
          "execution_count": 67
        }
      ]
    },
    {
      "cell_type": "markdown",
      "source": [
        "> keyword e `or` agar yek doone True bashe hame True mishe."
      ],
      "metadata": {
        "id": "mVGStE2QRBW5"
      }
    },
    {
      "cell_type": "code",
      "source": [
        "True or False"
      ],
      "metadata": {
        "colab": {
          "base_uri": "https://localhost:8080/"
        },
        "id": "t6uXAHxjRKlq",
        "outputId": "590406ec-8c0e-4077-c56c-02069450533f"
      },
      "execution_count": null,
      "outputs": [
        {
          "output_type": "execute_result",
          "data": {
            "text/plain": [
              "True"
            ]
          },
          "metadata": {},
          "execution_count": 68
        }
      ]
    },
    {
      "cell_type": "code",
      "source": [
        "True or False or False"
      ],
      "metadata": {
        "colab": {
          "base_uri": "https://localhost:8080/"
        },
        "id": "hfeznGAVRNC1",
        "outputId": "19b387cc-8951-4736-d741-749f23ee3585"
      },
      "execution_count": null,
      "outputs": [
        {
          "output_type": "execute_result",
          "data": {
            "text/plain": [
              "True"
            ]
          },
          "metadata": {},
          "execution_count": 69
        }
      ]
    },
    {
      "cell_type": "markdown",
      "source": [
        "> keyword `not` miad va harchizi ke jolosh bashe ro barax mikone."
      ],
      "metadata": {
        "id": "f4hMXSl2RcSG"
      }
    },
    {
      "cell_type": "code",
      "source": [
        "not True"
      ],
      "metadata": {
        "colab": {
          "base_uri": "https://localhost:8080/"
        },
        "id": "ayjMkIU7Rhow",
        "outputId": "251828e8-9980-48d0-816f-3741a67d4c9f"
      },
      "execution_count": null,
      "outputs": [
        {
          "output_type": "execute_result",
          "data": {
            "text/plain": [
              "False"
            ]
          },
          "metadata": {},
          "execution_count": 70
        }
      ]
    },
    {
      "cell_type": "code",
      "source": [
        "not False"
      ],
      "metadata": {
        "colab": {
          "base_uri": "https://localhost:8080/"
        },
        "id": "IMlqfPrYRi2J",
        "outputId": "ca3340ab-6e42-4135-8206-7c8bcc238541"
      },
      "execution_count": null,
      "outputs": [
        {
          "output_type": "execute_result",
          "data": {
            "text/plain": [
              "True"
            ]
          },
          "metadata": {},
          "execution_count": 71
        }
      ]
    },
    {
      "cell_type": "code",
      "source": [
        "username = False\n",
        "password = True\n",
        "\n",
        "if username and password:\n",
        "  print('Welcome')\n",
        "elif username or password:\n",
        "  print('Your password is incorrect.')\n"
      ],
      "metadata": {
        "colab": {
          "base_uri": "https://localhost:8080/"
        },
        "id": "7OHcKNL6SME9",
        "outputId": "67140f90-7760-4b3d-9788-fddddf95575c"
      },
      "execution_count": null,
      "outputs": [
        {
          "output_type": "stream",
          "name": "stdout",
          "text": [
            "Your password is incorrect.\n"
          ]
        }
      ]
    },
    {
      "cell_type": "markdown",
      "source": [
        "> pas agar az or estefade konim agar username True bashe va password False bashe bazam be ma mige Your password is incorrect ke nemikhaim injuri bashe."
      ],
      "metadata": {
        "id": "9XGy8scGS940"
      }
    },
    {
      "cell_type": "code",
      "source": [
        "username = True\n",
        "password = False\n",
        "\n",
        "if username and password:\n",
        "  print('Welcome')\n",
        "elif (username) and (not password):\n",
        "  #   True      and  not False\n",
        "  #   True      and  True\n",
        "  #           True\n",
        "  print('Your password is incorrect.')\n",
        "else:\n",
        "  print('Please sign up.')"
      ],
      "metadata": {
        "colab": {
          "base_uri": "https://localhost:8080/"
        },
        "id": "A2VUZSPaPmef",
        "outputId": "2df5b42e-0f89-47f5-be29-bccb79e7c416"
      },
      "execution_count": null,
      "outputs": [
        {
          "output_type": "stream",
          "name": "stdout",
          "text": [
            "Your password is incorrect.\n"
          ]
        }
      ]
    },
    {
      "cell_type": "code",
      "source": [
        "if False:\n",
        "  print('Welcome')\n",
        "elif False:\n",
        "  print('Your password is incorrect.')\n",
        "else:\n",
        "  print('Please sign up.')"
      ],
      "metadata": {
        "colab": {
          "base_uri": "https://localhost:8080/"
        },
        "id": "5tceqipGSSmq",
        "outputId": "c3b5a285-e63e-41f5-b2de-33438da6c913"
      },
      "execution_count": null,
      "outputs": [
        {
          "output_type": "stream",
          "name": "stdout",
          "text": [
            "Welcome\n"
          ]
        }
      ]
    },
    {
      "cell_type": "markdown",
      "source": [
        "> pas ma mitoonim `if` khali dashte bashim, mitoonim `if, else` dashte bashim mitoonim `if, elif` dashte bashim va mitoonim `if, elif, else` dashte bashim."
      ],
      "metadata": {
        "id": "VvZrXavSTgvD"
      }
    },
    {
      "cell_type": "code",
      "source": [
        "# condition_true if condition else condition_false"
      ],
      "metadata": {
        "id": "DRmet6DtUA6n"
      },
      "execution_count": null,
      "outputs": []
    },
    {
      "cell_type": "markdown",
      "source": [
        "## Ternary operator"
      ],
      "metadata": {
        "id": "ZjTtF74rU2Cx"
      }
    },
    {
      "cell_type": "code",
      "source": [
        "username = False\n",
        "\n",
        "print('hello') if username else print('bye')"
      ],
      "metadata": {
        "colab": {
          "base_uri": "https://localhost:8080/"
        },
        "id": "ugG3nsJEUjsO",
        "outputId": "87b8c033-b70e-4b78-eeb5-6a34ad814645"
      },
      "execution_count": null,
      "outputs": [
        {
          "output_type": "stream",
          "name": "stdout",
          "text": [
            "bye\n"
          ]
        }
      ]
    },
    {
      "cell_type": "markdown",
      "source": [
        "## Logical Operator\n",
        "\n",
        "* `>`\n",
        "* `<`\n",
        "* `>=`\n",
        "* `<=`\n",
        "* `==`\n",
        "* `!=`"
      ],
      "metadata": {
        "id": "GSiNnJR8Uua6"
      }
    },
    {
      "cell_type": "code",
      "source": [
        "grade = float(input('Nomre khod ra vared konid[hatman be adad]: '))\n",
        "\n",
        "if grade >= 12:\n",
        "  print('Shoma dars ro ghabool shodin.')\n",
        "else:\n",
        "  print('Moteasefam, dars ro pass nashodin.')"
      ],
      "metadata": {
        "colab": {
          "base_uri": "https://localhost:8080/"
        },
        "id": "HhRZKf9PVWmy",
        "outputId": "a3e6216e-004d-433f-9e49-8f47bf10f700"
      },
      "execution_count": null,
      "outputs": [
        {
          "output_type": "stream",
          "name": "stdout",
          "text": [
            "Nomre khod ra vared konid[hatman be adad]: 11.3\n",
            "Moteasefam, dars ro pass nashodin.\n"
          ]
        }
      ]
    },
    {
      "cell_type": "code",
      "source": [
        "19 >= 19"
      ],
      "metadata": {
        "colab": {
          "base_uri": "https://localhost:8080/"
        },
        "id": "AiaRszh5WW4H",
        "outputId": "2f62e11a-214f-4962-b8fc-6a8866e92845"
      },
      "execution_count": null,
      "outputs": [
        {
          "output_type": "execute_result",
          "data": {
            "text/plain": [
              "True"
            ]
          },
          "metadata": {},
          "execution_count": 90
        }
      ]
    },
    {
      "cell_type": "code",
      "source": [
        "19 > 19"
      ],
      "metadata": {
        "colab": {
          "base_uri": "https://localhost:8080/"
        },
        "id": "FpXbew7dWbMB",
        "outputId": "9fe182f9-b2d0-4699-8bb3-3b1454c2c2c1"
      },
      "execution_count": null,
      "outputs": [
        {
          "output_type": "execute_result",
          "data": {
            "text/plain": [
              "False"
            ]
          },
          "metadata": {},
          "execution_count": 92
        }
      ]
    },
    {
      "cell_type": "code",
      "source": [
        "grade = 92\n",
        "\n",
        "if grade >= 80:\n",
        "  grade = 'B'\n",
        "elif grade >= 90:\n",
        "  grade = 'A'\n",
        "\n",
        "print(f'Your grade is {grade}')"
      ],
      "metadata": {
        "colab": {
          "base_uri": "https://localhost:8080/"
        },
        "id": "dvRjvvb2Vtlj",
        "outputId": "9fd25407-f175-4189-ae5e-8421ed7adf50"
      },
      "execution_count": null,
      "outputs": [
        {
          "output_type": "stream",
          "name": "stdout",
          "text": [
            "Your grade is B\n"
          ]
        }
      ]
    },
    {
      "cell_type": "markdown",
      "source": [
        "> deghat konim ke hamin karo agar block haro be soorate zir jabeja konim dorost mishe."
      ],
      "metadata": {
        "id": "UflcmD0zXLAh"
      }
    },
    {
      "cell_type": "code",
      "source": [
        "grade = 30\n",
        "\n",
        "if grade >= 90:\n",
        "  grade = 'A'\n",
        "elif grade >= 80:\n",
        "  grade = 'B'\n",
        "elif grade >= 70:\n",
        "  grade = 'C'\n",
        "elif grade >= 60:\n",
        "  grade = 'D'\n",
        "elif grade >= 50:\n",
        "  grade = 'E'\n",
        "else:\n",
        "  grade = 'F'\n",
        "\n",
        "print(f'Your grade is {grade}')"
      ],
      "metadata": {
        "colab": {
          "base_uri": "https://localhost:8080/"
        },
        "id": "vEfP0yjYXVSX",
        "outputId": "6edd9c46-a136-4fd3-82ca-ab1e99b90d74"
      },
      "execution_count": null,
      "outputs": [
        {
          "output_type": "stream",
          "name": "stdout",
          "text": [
            "Your grade is F\n"
          ]
        }
      ]
    },
    {
      "cell_type": "code",
      "source": [],
      "metadata": {
        "id": "XfO3Y2psXZqZ"
      },
      "execution_count": null,
      "outputs": []
    }
  ]
}