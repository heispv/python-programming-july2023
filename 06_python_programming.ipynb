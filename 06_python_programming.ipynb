{
  "nbformat": 4,
  "nbformat_minor": 0,
  "metadata": {
    "colab": {
      "provenance": [],
      "authorship_tag": "ABX9TyOZ5AGC6X5l8HOayZjEguNf",
      "include_colab_link": true
    },
    "kernelspec": {
      "name": "python3",
      "display_name": "Python 3"
    },
    "language_info": {
      "name": "python"
    }
  },
  "cells": [
    {
      "cell_type": "markdown",
      "metadata": {
        "id": "view-in-github",
        "colab_type": "text"
      },
      "source": [
        "<a href=\"https://colab.research.google.com/github/heispv/python-programming-july2023/blob/master/06_python_programming.ipynb\" target=\"_parent\"><img src=\"https://colab.research.google.com/assets/colab-badge.svg\" alt=\"Open In Colab\"/></a>"
      ]
    },
    {
      "cell_type": "code",
      "execution_count": 1,
      "metadata": {
        "id": "q3ljw3Nt0ZK4"
      },
      "outputs": [],
      "source": [
        "a = 2"
      ]
    },
    {
      "cell_type": "code",
      "source": [
        "b"
      ],
      "metadata": {
        "colab": {
          "base_uri": "https://localhost:8080/",
          "height": 170
        },
        "id": "vG_p6Vrg2gKg",
        "outputId": "a461d80e-0746-4ac9-93ba-2ab8da7f65d4"
      },
      "execution_count": 2,
      "outputs": [
        {
          "output_type": "error",
          "ename": "NameError",
          "evalue": "ignored",
          "traceback": [
            "\u001b[0;31m---------------------------------------------------------------------------\u001b[0m",
            "\u001b[0;31mNameError\u001b[0m                                 Traceback (most recent call last)",
            "\u001b[0;32m<ipython-input-2-89e6c98d9288>\u001b[0m in \u001b[0;36m<cell line: 1>\u001b[0;34m()\u001b[0m\n\u001b[0;32m----> 1\u001b[0;31m \u001b[0mb\u001b[0m\u001b[0;34m\u001b[0m\u001b[0;34m\u001b[0m\u001b[0m\n\u001b[0m",
            "\u001b[0;31mNameError\u001b[0m: name 'b' is not defined"
          ]
        }
      ]
    },
    {
      "cell_type": "code",
      "source": [
        "a != 2 and b == 2"
      ],
      "metadata": {
        "colab": {
          "base_uri": "https://localhost:8080/"
        },
        "id": "tyDDPDYD2ijH",
        "outputId": "57ffcfac-76c2-4c4e-d8c0-51c0cd3fd452"
      },
      "execution_count": 5,
      "outputs": [
        {
          "output_type": "execute_result",
          "data": {
            "text/plain": [
              "False"
            ]
          },
          "metadata": {},
          "execution_count": 5
        }
      ]
    },
    {
      "cell_type": "markdown",
      "source": [
        "Mikhaim yek barname benvisim ke az user vurudi begire va bebine ke oon adad + hast ya -"
      ],
      "metadata": {
        "id": "l8hrWsCg2pyK"
      }
    },
    {
      "cell_type": "code",
      "source": [
        "num = float(input('Adad khod ra vared konid: '))\n",
        "\n",
        "if num > 0:\n",
        "  print('Your number is +')\n",
        "elif num < 0:\n",
        "  print('Your number is -')\n",
        "else:\n",
        "  print('You entered 0')"
      ],
      "metadata": {
        "colab": {
          "base_uri": "https://localhost:8080/"
        },
        "id": "hIUy1VDq3poH",
        "outputId": "5b0fd3b5-466e-47e2-e545-d8bf1ec209e3"
      },
      "execution_count": 9,
      "outputs": [
        {
          "output_type": "stream",
          "name": "stdout",
          "text": [
            "Adad khod ra vared konid: 0\n",
            "You entered 0\n"
          ]
        }
      ]
    },
    {
      "cell_type": "markdown",
      "source": [
        "> deghat konim ke dar code e pain, 0 ro miad jozve adade + dar nazar migire. ama agar khastim baraye sefr darkol yek sharte dge vared bokonim, bayad be soorate bala code ro bezanim."
      ],
      "metadata": {
        "id": "JosBwE4l4hAx"
      }
    },
    {
      "cell_type": "code",
      "source": [
        "num = float(input('Adad khod ra vared konid: '))\n",
        "\n",
        "if num >= 0:\n",
        "  print('Your number is +')\n",
        "else:\n",
        "  print('Your number is -')"
      ],
      "metadata": {
        "colab": {
          "base_uri": "https://localhost:8080/"
        },
        "id": "nRpKoN3d4AmC",
        "outputId": "0b29e3e4-419a-42d9-a575-c728a7bcae0b"
      },
      "execution_count": 11,
      "outputs": [
        {
          "output_type": "stream",
          "name": "stdout",
          "text": [
            "Adad khod ra vared konid: 0\n",
            "Your number is +\n"
          ]
        }
      ]
    },
    {
      "cell_type": "markdown",
      "source": [
        "Yek barname benvisid ke tashkhis bede adad vared shode zoj hast ya fard."
      ],
      "metadata": {
        "id": "XHDz3K5D4RlN"
      }
    },
    {
      "cell_type": "code",
      "source": [
        "2 % 2"
      ],
      "metadata": {
        "colab": {
          "base_uri": "https://localhost:8080/"
        },
        "id": "bJJRaSwJ5Uet",
        "outputId": "6bc2826b-6c68-4f9e-c9f6-84fcf3dbd7e4"
      },
      "execution_count": 13,
      "outputs": [
        {
          "output_type": "execute_result",
          "data": {
            "text/plain": [
              "0"
            ]
          },
          "metadata": {},
          "execution_count": 13
        }
      ]
    },
    {
      "cell_type": "code",
      "source": [
        "num = int(input('Adad khod ra vared konid: '))\n",
        "\n",
        "if num % 2 == 0: #adad zoj\n",
        "  print('Zoj')\n",
        "else:\n",
        "  print('Fard')"
      ],
      "metadata": {
        "colab": {
          "base_uri": "https://localhost:8080/"
        },
        "id": "jQzv5ye_5Iyv",
        "outputId": "08c0d9b9-8035-4e41-fada-e20394a30085"
      },
      "execution_count": 15,
      "outputs": [
        {
          "output_type": "stream",
          "name": "stdout",
          "text": [
            "Adad khod ra vared konid: 6\n",
            "Zoj\n"
          ]
        }
      ]
    },
    {
      "cell_type": "markdown",
      "source": [
        "> raveshe pain error mide chon input e adade ashari ro nemitoonim be int tabdil konim"
      ],
      "metadata": {
        "id": "IWnld-uS8GR4"
      }
    },
    {
      "cell_type": "code",
      "source": [
        "num = input('Adad khod ra vared konid: ')\n",
        "\n",
        "int_num = round(float(num))\n",
        "float_num = float(num)\n",
        "\n",
        "print(f'int: {int_num}\\nfloat: {float_num}')"
      ],
      "metadata": {
        "colab": {
          "base_uri": "https://localhost:8080/",
          "height": 260
        },
        "id": "wCEC1kHA6u4N",
        "outputId": "42dbf964-4d13-476c-dfc7-d91640678bd3"
      },
      "execution_count": 16,
      "outputs": [
        {
          "name": "stdout",
          "output_type": "stream",
          "text": [
            "Adad khod ra vared konid: 15.2\n"
          ]
        },
        {
          "output_type": "error",
          "ename": "ValueError",
          "evalue": "ignored",
          "traceback": [
            "\u001b[0;31m---------------------------------------------------------------------------\u001b[0m",
            "\u001b[0;31mValueError\u001b[0m                                Traceback (most recent call last)",
            "\u001b[0;32m<ipython-input-16-47f8299ea8d9>\u001b[0m in \u001b[0;36m<cell line: 3>\u001b[0;34m()\u001b[0m\n\u001b[1;32m      1\u001b[0m \u001b[0mnum\u001b[0m \u001b[0;34m=\u001b[0m \u001b[0minput\u001b[0m\u001b[0;34m(\u001b[0m\u001b[0;34m'Adad khod ra vared konid: '\u001b[0m\u001b[0;34m)\u001b[0m\u001b[0;34m\u001b[0m\u001b[0;34m\u001b[0m\u001b[0m\n\u001b[1;32m      2\u001b[0m \u001b[0;34m\u001b[0m\u001b[0m\n\u001b[0;32m----> 3\u001b[0;31m \u001b[0mint_num\u001b[0m \u001b[0;34m=\u001b[0m \u001b[0mint\u001b[0m\u001b[0;34m(\u001b[0m\u001b[0mnum\u001b[0m\u001b[0;34m)\u001b[0m\u001b[0;34m\u001b[0m\u001b[0;34m\u001b[0m\u001b[0m\n\u001b[0m\u001b[1;32m      4\u001b[0m \u001b[0mfloat_num\u001b[0m \u001b[0;34m=\u001b[0m \u001b[0mfloat\u001b[0m\u001b[0;34m(\u001b[0m\u001b[0mnum\u001b[0m\u001b[0;34m)\u001b[0m\u001b[0;34m\u001b[0m\u001b[0;34m\u001b[0m\u001b[0m\n\u001b[1;32m      5\u001b[0m \u001b[0;34m\u001b[0m\u001b[0m\n",
            "\u001b[0;31mValueError\u001b[0m: invalid literal for int() with base 10: '15.2'"
          ]
        }
      ]
    },
    {
      "cell_type": "markdown",
      "source": [
        "> in ravesh ok e ama havesoom bashe age adademoon asharesh az 0.5 bishtar bashe adad be bala round mishe."
      ],
      "metadata": {
        "id": "u5rL6pk28LoF"
      }
    },
    {
      "cell_type": "code",
      "source": [
        "num = input('Adad khod ra vared konid: ')\n",
        "round(float(num))"
      ],
      "metadata": {
        "colab": {
          "base_uri": "https://localhost:8080/"
        },
        "id": "1wzM-E4a7FOW",
        "outputId": "c047f29d-f55c-48cd-e250-0b9552b4a015"
      },
      "execution_count": 21,
      "outputs": [
        {
          "name": "stdout",
          "output_type": "stream",
          "text": [
            "Adad khod ra vared konid: 15.2\n"
          ]
        },
        {
          "output_type": "execute_result",
          "data": {
            "text/plain": [
              "15"
            ]
          },
          "metadata": {},
          "execution_count": 21
        }
      ]
    },
    {
      "cell_type": "code",
      "source": [
        "num = input('Adad khod ra vared konid: ')\n",
        "\n",
        "float_num = float(num)\n",
        "int_num = int(float_num)\n",
        "\n",
        "print(f'int: {int_num}\\nfloat: {float_num}')"
      ],
      "metadata": {
        "colab": {
          "base_uri": "https://localhost:8080/"
        },
        "id": "dcFkAxcc7e8-",
        "outputId": "b368d9c7-ef8e-472c-b19c-d65524b8f954"
      },
      "execution_count": 29,
      "outputs": [
        {
          "output_type": "stream",
          "name": "stdout",
          "text": [
            "Adad khod ra vared konid: 15.6\n",
            "int: 15\n",
            "float: 15.6\n"
          ]
        }
      ]
    },
    {
      "cell_type": "markdown",
      "source": [
        "> agar khastin yek seri khat ro entekhab konin va hamaro baham be andazeye indentation jolo ya aghab bebarin bayad az shortcut e `ctrl + {` va `ctrl + }` estefade konin."
      ],
      "metadata": {
        "id": "G6Z1PKYm82cU"
      }
    },
    {
      "cell_type": "code",
      "source": [
        "num = input('Adad khod ra vared konid: ')\n",
        "\n",
        "float_num = float(num)\n",
        "int_num = int(float_num)\n",
        "\n",
        "if float_num == int_num: # yani int vared kardim\n",
        "  if int_num % 2 == 0:\n",
        "    print('Zoj')\n",
        "  else:\n",
        "    print('Fard')\n",
        "else:\n",
        "  print('Shoma int vared nakardin.')"
      ],
      "metadata": {
        "colab": {
          "base_uri": "https://localhost:8080/"
        },
        "id": "_Fzq0xNE8Xw-",
        "outputId": "c6eb2db7-86ef-491c-c76b-6c51bbca4215"
      },
      "execution_count": 34,
      "outputs": [
        {
          "output_type": "stream",
          "name": "stdout",
          "text": [
            "Adad khod ra vared konid: 1.2\n",
            "Shoma int vared nakardin.\n"
          ]
        }
      ]
    },
    {
      "cell_type": "code",
      "source": [
        "def is_int_or_float(s):\n",
        "    if s.isdigit():\n",
        "        return True\n",
        "\n",
        "    if s.count('.') == 1 and all(char.isdigit() or char == '.' for char in s):\n",
        "        return True\n",
        "\n",
        "    return False"
      ],
      "metadata": {
        "id": "U3FS_gUsAUzn"
      },
      "execution_count": 53,
      "outputs": []
    },
    {
      "cell_type": "code",
      "source": [
        "num = input('Adad khod ra vared konid: ')\n",
        "\n",
        "if is_int_or_float(num):\n",
        "  float_num = float(num)\n",
        "  int_num = int(float_num)\n",
        "  if float_num == int_num: # yani int vared kardim\n",
        "    if int_num % 2 == 0:\n",
        "      print('Zoj')\n",
        "    else:\n",
        "      print('Fard')\n",
        "  else:\n",
        "    print('Shoma int vared nakardin.')\n",
        "else:\n",
        "  print('shoma aslan adad vared nakardin.')"
      ],
      "metadata": {
        "colab": {
          "base_uri": "https://localhost:8080/"
        },
        "id": "qFFjrsKS9acB",
        "outputId": "6501c83c-df84-4263-a7ad-b022e628c0dd"
      },
      "execution_count": 57,
      "outputs": [
        {
          "output_type": "stream",
          "name": "stdout",
          "text": [
            "Adad khod ra vared konid: 1.2\n",
            "Shoma int vared nakardin.\n"
          ]
        }
      ]
    },
    {
      "cell_type": "markdown",
      "source": [
        "Ye list darim mikhaim check konim ke object dakhele list ha ya."
      ],
      "metadata": {
        "id": "j6UGmDcZB89o"
      }
    },
    {
      "cell_type": "code",
      "source": [
        "my_list = ['mesvak', 'goje', 'noon', 'nooshabe']"
      ],
      "metadata": {
        "id": "AS0Inun2DOD-"
      },
      "execution_count": 64,
      "outputs": []
    },
    {
      "cell_type": "code",
      "source": [
        "to_check = input('Chi mikhay check koni: ')\n",
        "\n",
        "if to_check in my_list:\n",
        "  print('Object dakhele list hast.')\n",
        "else:\n",
        "  print('Object dakhele list nist...')\n",
        "  my_list.append(to_check)\n",
        "  print(f'List updated\\nUpdated list: {my_list}')"
      ],
      "metadata": {
        "colab": {
          "base_uri": "https://localhost:8080/"
        },
        "id": "gk8Qk3YpDlAY",
        "outputId": "6cc09d06-4935-430f-969d-7cc940753579"
      },
      "execution_count": 66,
      "outputs": [
        {
          "output_type": "stream",
          "name": "stdout",
          "text": [
            "Chi mikhay check koni: ab madani\n",
            "Object dakhele list nist...\n",
            "List updated\n",
            "Updated list: ['mesvak', 'goje', 'noon', 'nooshabe', 'ab madani']\n"
          ]
        }
      ]
    },
    {
      "cell_type": "markdown",
      "source": [
        "Check konim ke aya ba adade vared shode mishe mosalas keshid yana."
      ],
      "metadata": {
        "id": "QiSzBlkBEz4D"
      }
    },
    {
      "cell_type": "code",
      "source": [
        "a = float(input('Zel A ro vared konid: '))\n",
        "b = float(input('Zel B ro vared konid: '))\n",
        "c = float(input('Zel C ro vared konid: '))\n",
        "\n",
        "if (a + b > c) and (a + c > b) and (b + c > a):\n",
        "  print('Mitoonim mosalas bekeshim')\n",
        "else:\n",
        "  print('Ba in adad nemitoonim mosalas bekeshim.')"
      ],
      "metadata": {
        "colab": {
          "base_uri": "https://localhost:8080/"
        },
        "id": "9dwm0XLEG0Pt",
        "outputId": "0e5e0a5d-7821-45ab-afe1-0afb6118b5ac"
      },
      "execution_count": 71,
      "outputs": [
        {
          "output_type": "stream",
          "name": "stdout",
          "text": [
            "Zel A ro vared konid: 3\n",
            "Zel B ro vared konid: 5\n",
            "Zel C ro vared konid: 6\n",
            "Mitoonim mosalas bekeshim\n"
          ]
        }
      ]
    },
    {
      "cell_type": "code",
      "source": [],
      "metadata": {
        "id": "i28fco-VHR5K"
      },
      "execution_count": null,
      "outputs": []
    }
  ]
}