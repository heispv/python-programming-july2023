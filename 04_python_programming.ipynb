{
  "nbformat": 4,
  "nbformat_minor": 0,
  "metadata": {
    "colab": {
      "provenance": [],
      "authorship_tag": "ABX9TyMROj2KVwMHIgx/mTKZ1ym9",
      "include_colab_link": true
    },
    "kernelspec": {
      "name": "python3",
      "display_name": "Python 3"
    },
    "language_info": {
      "name": "python"
    }
  },
  "cells": [
    {
      "cell_type": "markdown",
      "metadata": {
        "id": "view-in-github",
        "colab_type": "text"
      },
      "source": [
        "<a href=\"https://colab.research.google.com/github/heispv/python-programming-july2023/blob/master/04_python_programming.ipynb\" target=\"_parent\"><img src=\"https://colab.research.google.com/assets/colab-badge.svg\" alt=\"Open In Colab\"/></a>"
      ]
    },
    {
      "cell_type": "code",
      "execution_count": 22,
      "metadata": {
        "colab": {
          "base_uri": "https://localhost:8080/"
        },
        "id": "MYI74nddxaZo",
        "outputId": "b0b635f5-8033-4eed-e1a0-7281c26c24fc"
      },
      "outputs": [
        {
          "output_type": "execute_result",
          "data": {
            "text/plain": [
              "4"
            ]
          },
          "metadata": {},
          "execution_count": 22
        }
      ],
      "source": [
        "num = 3.9\n",
        "round(num)"
      ]
    },
    {
      "cell_type": "code",
      "source": [
        "sahih = int(num)\n",
        "sahih"
      ],
      "metadata": {
        "colab": {
          "base_uri": "https://localhost:8080/"
        },
        "id": "YqVopyLezB7K",
        "outputId": "4167a0c2-6ee0-4ec9-fee9-d8a08fdf87c8"
      },
      "execution_count": 23,
      "outputs": [
        {
          "output_type": "execute_result",
          "data": {
            "text/plain": [
              "3"
            ]
          },
          "metadata": {},
          "execution_count": 23
        }
      ]
    },
    {
      "cell_type": "code",
      "source": [
        "kharej_ghesmate_ashari = ((num - sahih) * 10) // 5\n",
        "kharej_ghesmate_ashari"
      ],
      "metadata": {
        "colab": {
          "base_uri": "https://localhost:8080/"
        },
        "id": "CF96NLLwzvI9",
        "outputId": "afceb463-375b-4be8-b687-8abb158438d7"
      },
      "execution_count": 24,
      "outputs": [
        {
          "output_type": "execute_result",
          "data": {
            "text/plain": [
              "1.0"
            ]
          },
          "metadata": {},
          "execution_count": 24
        }
      ]
    },
    {
      "cell_type": "code",
      "source": [
        "ans = int(sahih + kharej_ghesmate_ashari)\n",
        "ans"
      ],
      "metadata": {
        "colab": {
          "base_uri": "https://localhost:8080/"
        },
        "id": "b9C68IZmz_uI",
        "outputId": "d3edeb15-c21e-4de2-d0c7-c4194b03cfd3"
      },
      "execution_count": 25,
      "outputs": [
        {
          "output_type": "execute_result",
          "data": {
            "text/plain": [
              "4"
            ]
          },
          "metadata": {},
          "execution_count": 25
        }
      ]
    },
    {
      "cell_type": "markdown",
      "source": [
        "# List..."
      ],
      "metadata": {
        "id": "NY7nfQWX0lAs"
      }
    },
    {
      "cell_type": "markdown",
      "source": [
        "## .insert(index, object)\n",
        "\n",
        "miad va ghable index i ke moshakhas kardim oon object ro gharar mide."
      ],
      "metadata": {
        "id": "UouKU0JP2Oms"
      }
    },
    {
      "cell_type": "code",
      "source": [
        "my_list = [1, 2, 3, 4]\n",
        "#  index   0, 1, 2, 3\n",
        "my_list"
      ],
      "metadata": {
        "colab": {
          "base_uri": "https://localhost:8080/"
        },
        "id": "QCGZJd0G1uUS",
        "outputId": "2cbd24d9-e4af-4acb-ffd7-a52f64902e72"
      },
      "execution_count": 32,
      "outputs": [
        {
          "output_type": "execute_result",
          "data": {
            "text/plain": [
              "[1, 2, 3, 4]"
            ]
          },
          "metadata": {},
          "execution_count": 32
        }
      ]
    },
    {
      "cell_type": "code",
      "source": [
        "my_list.insert(2, 'x')"
      ],
      "metadata": {
        "id": "fKF1UgWs1ziU"
      },
      "execution_count": 33,
      "outputs": []
    },
    {
      "cell_type": "code",
      "source": [
        "my_list"
      ],
      "metadata": {
        "colab": {
          "base_uri": "https://localhost:8080/"
        },
        "id": "_ThdExcc2Ha4",
        "outputId": "4ec9dc77-05a9-4a8b-eb65-a98b551c3981"
      },
      "execution_count": 34,
      "outputs": [
        {
          "output_type": "execute_result",
          "data": {
            "text/plain": [
              "[1, 2, 'x', 3, 4]"
            ]
          },
          "metadata": {},
          "execution_count": 34
        }
      ]
    },
    {
      "cell_type": "markdown",
      "source": [
        "## .pop(index)\n",
        "\n",
        "miad va obj i ke tooye oon index hast ro remove mikone va oon ro return mikone."
      ],
      "metadata": {
        "id": "K5HXsISK2MU8"
      }
    },
    {
      "cell_type": "code",
      "source": [
        "poped_obj = my_list.pop(2)"
      ],
      "metadata": {
        "id": "6EehJC5T2rpB"
      },
      "execution_count": 35,
      "outputs": []
    },
    {
      "cell_type": "code",
      "source": [
        "my_list"
      ],
      "metadata": {
        "colab": {
          "base_uri": "https://localhost:8080/"
        },
        "id": "UC9D5krQ27cI",
        "outputId": "4d54aac9-d121-4331-94a8-ca776e1e5c4a"
      },
      "execution_count": 36,
      "outputs": [
        {
          "output_type": "execute_result",
          "data": {
            "text/plain": [
              "[1, 2, 3, 4]"
            ]
          },
          "metadata": {},
          "execution_count": 36
        }
      ]
    },
    {
      "cell_type": "code",
      "source": [
        "poped_obj"
      ],
      "metadata": {
        "colab": {
          "base_uri": "https://localhost:8080/",
          "height": 35
        },
        "id": "8tOpBHVx29Fz",
        "outputId": "b4f3e30b-9b21-485f-b03e-3d326521d7e1"
      },
      "execution_count": 37,
      "outputs": [
        {
          "output_type": "execute_result",
          "data": {
            "text/plain": [
              "'x'"
            ],
            "application/vnd.google.colaboratory.intrinsic+json": {
              "type": "string"
            }
          },
          "metadata": {},
          "execution_count": 37
        }
      ]
    },
    {
      "cell_type": "markdown",
      "source": [
        "## .remove(value)\n",
        "\n",
        "miad va object i ke moshakhas kardim ro baraye ma remove mikone, havasemoon bashe ke khuruji nadare va oon list ro edit mikone."
      ],
      "metadata": {
        "id": "Tw6rJ1qF4p48"
      }
    },
    {
      "cell_type": "code",
      "source": [
        "ex_list_2 = ['a', 'b', 2, 'b', 2, 3]"
      ],
      "metadata": {
        "id": "lyRPUrHc4wgJ"
      },
      "execution_count": 67,
      "outputs": []
    },
    {
      "cell_type": "code",
      "source": [
        "ex_list_2.remove('b')"
      ],
      "metadata": {
        "id": "NYb1DBjb4y7_"
      },
      "execution_count": 68,
      "outputs": []
    },
    {
      "cell_type": "code",
      "source": [
        "ex_list_2"
      ],
      "metadata": {
        "colab": {
          "base_uri": "https://localhost:8080/"
        },
        "id": "Rp22ta285Kqy",
        "outputId": "c336655f-2b99-4e97-da12-5f3950499756"
      },
      "execution_count": 69,
      "outputs": [
        {
          "output_type": "execute_result",
          "data": {
            "text/plain": [
              "['a', 2, 'b', 2, 3]"
            ]
          },
          "metadata": {},
          "execution_count": 69
        }
      ]
    },
    {
      "cell_type": "markdown",
      "source": [
        "## .count(object)\n",
        "\n",
        "miad va tedad bar hayi ke oon object tooye list tekrar shode ro be ma bar migardoone."
      ],
      "metadata": {
        "id": "gaiiVT093FGp"
      }
    },
    {
      "cell_type": "code",
      "source": [
        "my_list.append(4)\n",
        "my_list"
      ],
      "metadata": {
        "colab": {
          "base_uri": "https://localhost:8080/"
        },
        "id": "2xi7gIMt3kJS",
        "outputId": "f4bc64c2-c523-4c91-b7ab-cfb8cae802b2"
      },
      "execution_count": 38,
      "outputs": [
        {
          "output_type": "execute_result",
          "data": {
            "text/plain": [
              "[1, 2, 3, 4, 4]"
            ]
          },
          "metadata": {},
          "execution_count": 38
        }
      ]
    },
    {
      "cell_type": "code",
      "source": [
        "num_4 = my_list.count(4)\n",
        "num_4"
      ],
      "metadata": {
        "colab": {
          "base_uri": "https://localhost:8080/"
        },
        "id": "mvD8TcaH3bqE",
        "outputId": "0af8d13b-c7d7-4aaa-e86b-45d94b4ee32c"
      },
      "execution_count": 41,
      "outputs": [
        {
          "output_type": "execute_result",
          "data": {
            "text/plain": [
              "2"
            ]
          },
          "metadata": {},
          "execution_count": 41
        }
      ]
    },
    {
      "cell_type": "code",
      "source": [
        "ex_list = [1, 2, 3, [1, 2], [1, 2], 'xy']"
      ],
      "metadata": {
        "id": "Q2dwdfng3qeF"
      },
      "execution_count": 46,
      "outputs": []
    },
    {
      "cell_type": "code",
      "source": [
        "len(ex_list)"
      ],
      "metadata": {
        "colab": {
          "base_uri": "https://localhost:8080/"
        },
        "id": "70uJhkFH3-46",
        "outputId": "3e275c4c-0275-4d83-8fd4-480d0aa74b62"
      },
      "execution_count": 47,
      "outputs": [
        {
          "output_type": "execute_result",
          "data": {
            "text/plain": [
              "6"
            ]
          },
          "metadata": {},
          "execution_count": 47
        }
      ]
    },
    {
      "cell_type": "code",
      "source": [
        "ex_list.count(2)"
      ],
      "metadata": {
        "colab": {
          "base_uri": "https://localhost:8080/"
        },
        "id": "zvSCtsY94HPP",
        "outputId": "5236f027-ae76-4627-b50a-ea6bcee5cd03"
      },
      "execution_count": 48,
      "outputs": [
        {
          "output_type": "execute_result",
          "data": {
            "text/plain": [
              "1"
            ]
          },
          "metadata": {},
          "execution_count": 48
        }
      ]
    },
    {
      "cell_type": "code",
      "source": [
        "ex_list.count([1, 2])"
      ],
      "metadata": {
        "colab": {
          "base_uri": "https://localhost:8080/"
        },
        "id": "VMM02d1j4OpJ",
        "outputId": "ba853f4a-bb74-4741-861b-507658d7699c"
      },
      "execution_count": 49,
      "outputs": [
        {
          "output_type": "execute_result",
          "data": {
            "text/plain": [
              "2"
            ]
          },
          "metadata": {},
          "execution_count": 49
        }
      ]
    },
    {
      "cell_type": "markdown",
      "source": [
        "## .index(obj)\n",
        "\n",
        "miad va be ma index e oon object ro bar migardoone"
      ],
      "metadata": {
        "id": "lDRDVZ3C4S6J"
      }
    },
    {
      "cell_type": "code",
      "source": [
        "my_list = [1, 1, 1, 'x', 2, 2, 2, 3]"
      ],
      "metadata": {
        "id": "doaJzseM50_b"
      },
      "execution_count": 70,
      "outputs": []
    },
    {
      "cell_type": "code",
      "source": [
        "my_list.index('x')"
      ],
      "metadata": {
        "colab": {
          "base_uri": "https://localhost:8080/"
        },
        "id": "EWYAdAPp55nM",
        "outputId": "18f44b1b-930f-4069-9d9d-64dce8072979"
      },
      "execution_count": 71,
      "outputs": [
        {
          "output_type": "execute_result",
          "data": {
            "text/plain": [
              "3"
            ]
          },
          "metadata": {},
          "execution_count": 71
        }
      ]
    },
    {
      "cell_type": "code",
      "source": [
        "my_list.index(1)"
      ],
      "metadata": {
        "colab": {
          "base_uri": "https://localhost:8080/"
        },
        "id": "Qho5Cwl557YP",
        "outputId": "1b90ef09-4998-44e8-ba6f-e484cb026e63"
      },
      "execution_count": 72,
      "outputs": [
        {
          "output_type": "execute_result",
          "data": {
            "text/plain": [
              "0"
            ]
          },
          "metadata": {},
          "execution_count": 72
        }
      ]
    },
    {
      "cell_type": "markdown",
      "source": [
        "## .reverse()\n",
        "\n",
        "miad va my_list ro barax mikone."
      ],
      "metadata": {
        "id": "Cg8qXJ4v6br-"
      }
    },
    {
      "cell_type": "code",
      "source": [
        "my_list.reverse()"
      ],
      "metadata": {
        "id": "ocWy7RaR60bW"
      },
      "execution_count": 73,
      "outputs": []
    },
    {
      "cell_type": "code",
      "source": [
        "my_list"
      ],
      "metadata": {
        "colab": {
          "base_uri": "https://localhost:8080/"
        },
        "id": "aLnIFbvv62cr",
        "outputId": "57bde113-8f19-4009-f737-08a52799ee91"
      },
      "execution_count": 74,
      "outputs": [
        {
          "output_type": "execute_result",
          "data": {
            "text/plain": [
              "[3, 2, 2, 2, 'x', 1, 1, 1]"
            ]
          },
          "metadata": {},
          "execution_count": 74
        }
      ]
    },
    {
      "cell_type": "code",
      "source": [
        "my_list = my_list[::-1]\n",
        "my_list"
      ],
      "metadata": {
        "colab": {
          "base_uri": "https://localhost:8080/"
        },
        "id": "rvvu24uB64Sq",
        "outputId": "456fc910-36b4-4344-a923-52a9baf53f28"
      },
      "execution_count": 75,
      "outputs": [
        {
          "output_type": "execute_result",
          "data": {
            "text/plain": [
              "[1, 1, 1, 'x', 2, 2, 2, 3]"
            ]
          },
          "metadata": {},
          "execution_count": 75
        }
      ]
    },
    {
      "cell_type": "code",
      "source": [
        "ex_list = [4, 3, 2, 1, 5, 10, 100]\n",
        "ex_list.sort()\n",
        "ex_list"
      ],
      "metadata": {
        "colab": {
          "base_uri": "https://localhost:8080/"
        },
        "id": "pIUkSeJY7NMv",
        "outputId": "27ceecf5-6feb-467d-b31f-32addce124b5"
      },
      "execution_count": 78,
      "outputs": [
        {
          "output_type": "execute_result",
          "data": {
            "text/plain": [
              "[1, 2, 3, 4, 5, 10, 100]"
            ]
          },
          "metadata": {},
          "execution_count": 78
        }
      ]
    },
    {
      "cell_type": "code",
      "source": [
        "ex_list_2 = ['a', 'B', 'A', 'c', 'z']\n",
        "ex_list_2.sort()\n",
        "ex_list_2"
      ],
      "metadata": {
        "colab": {
          "base_uri": "https://localhost:8080/"
        },
        "id": "XACXqtsO7Xa7",
        "outputId": "913a6674-4153-43c0-d811-c4b19dd2a623"
      },
      "execution_count": 79,
      "outputs": [
        {
          "output_type": "execute_result",
          "data": {
            "text/plain": [
              "['A', 'B', 'a', 'c', 'z']"
            ]
          },
          "metadata": {},
          "execution_count": 79
        }
      ]
    },
    {
      "cell_type": "markdown",
      "source": [
        "> yek keyword darim dakhele python be name `in` va miad mibine ke yek chizi dakhele object i ke tarif kardim hast ya nist."
      ],
      "metadata": {
        "id": "Q1N2__SF7ttT"
      }
    },
    {
      "cell_type": "code",
      "source": [
        "'a' in ex_list_2"
      ],
      "metadata": {
        "colab": {
          "base_uri": "https://localhost:8080/"
        },
        "id": "cxiTJ7np76Cc",
        "outputId": "4bd28879-8b18-45ed-d111-798d09d39aad"
      },
      "execution_count": 83,
      "outputs": [
        {
          "output_type": "execute_result",
          "data": {
            "text/plain": [
              "True"
            ]
          },
          "metadata": {},
          "execution_count": 83
        }
      ]
    },
    {
      "cell_type": "code",
      "source": [
        "2 in ex_list_2"
      ],
      "metadata": {
        "colab": {
          "base_uri": "https://localhost:8080/"
        },
        "id": "iMH9lC7g8AMj",
        "outputId": "cc84f9dd-cf1b-418f-f768-b73c1e3dae7c"
      },
      "execution_count": 84,
      "outputs": [
        {
          "output_type": "execute_result",
          "data": {
            "text/plain": [
              "False"
            ]
          },
          "metadata": {},
          "execution_count": 84
        }
      ]
    },
    {
      "cell_type": "markdown",
      "source": [
        "## range(start, stop, [step])\n",
        "\n",
        "or `range(stop)`"
      ],
      "metadata": {
        "id": "BYv1ZQqI8G1A"
      }
    },
    {
      "cell_type": "code",
      "source": [
        "list(range(5, 20))"
      ],
      "metadata": {
        "colab": {
          "base_uri": "https://localhost:8080/"
        },
        "id": "ZNF6gp2A8R8z",
        "outputId": "7ec98f1c-e5f3-49b9-f4d9-8c1161a3a971"
      },
      "execution_count": 87,
      "outputs": [
        {
          "output_type": "execute_result",
          "data": {
            "text/plain": [
              "[5, 6, 7, 8, 9, 10, 11, 12, 13, 14, 15, 16, 17, 18, 19]"
            ]
          },
          "metadata": {},
          "execution_count": 87
        }
      ]
    },
    {
      "cell_type": "code",
      "source": [
        "list(range(10))"
      ],
      "metadata": {
        "colab": {
          "base_uri": "https://localhost:8080/"
        },
        "id": "yeQEArfO8U9m",
        "outputId": "77a3df02-3fc6-4d36-86ae-93a15a7ec371"
      },
      "execution_count": 88,
      "outputs": [
        {
          "output_type": "execute_result",
          "data": {
            "text/plain": [
              "[0, 1, 2, 3, 4, 5, 6, 7, 8, 9]"
            ]
          },
          "metadata": {},
          "execution_count": 88
        }
      ]
    },
    {
      "cell_type": "code",
      "source": [
        "list(range(5, 20, 2))"
      ],
      "metadata": {
        "colab": {
          "base_uri": "https://localhost:8080/"
        },
        "id": "If9brZHi8psk",
        "outputId": "766437b3-0202-464c-a264-f4f2392d6ee7"
      },
      "execution_count": 89,
      "outputs": [
        {
          "output_type": "execute_result",
          "data": {
            "text/plain": [
              "[5, 7, 9, 11, 13, 15, 17, 19]"
            ]
          },
          "metadata": {},
          "execution_count": 89
        }
      ]
    },
    {
      "cell_type": "code",
      "source": [
        "a, b, c = [1, 2, 3]\n",
        "print(f'a: {a}\\nb: {b}\\nc: {c}')"
      ],
      "metadata": {
        "colab": {
          "base_uri": "https://localhost:8080/"
        },
        "id": "HLEErZNY812z",
        "outputId": "2951f124-c85b-415e-c3f8-b48b0e3a639a"
      },
      "execution_count": 91,
      "outputs": [
        {
          "output_type": "stream",
          "name": "stdout",
          "text": [
            "a: 1\n",
            "b: 2\n",
            "c: 3\n"
          ]
        }
      ]
    },
    {
      "cell_type": "code",
      "source": [
        "a, b, *c, d = [1, 2, 3, 4, 5, 6, 7]\n",
        "print(f'a: {a}\\nb: {b}\\nc: {c}\\nd: {d}')"
      ],
      "metadata": {
        "colab": {
          "base_uri": "https://localhost:8080/"
        },
        "id": "ejYbu4Qq9N7G",
        "outputId": "078cde85-5dda-48ef-a89a-4b9e8630c3a4"
      },
      "execution_count": 96,
      "outputs": [
        {
          "output_type": "stream",
          "name": "stdout",
          "text": [
            "a: 1\n",
            "b: 2\n",
            "c: [3, 4, 5, 6]\n",
            "d: 7\n"
          ]
        }
      ]
    },
    {
      "cell_type": "markdown",
      "source": [
        "# Tuple\n",
        "\n",
        "Listi ke gheire ghabele taghir hastesh.\n",
        "\n"
      ],
      "metadata": {
        "id": "WyenH8N09Y6d"
      }
    },
    {
      "cell_type": "code",
      "source": [
        "my_tuple = (1, 2, 4.3, [1, 2], {'name': 'jack'}, (1, 2, 3))\n",
        "len(my_tuple)"
      ],
      "metadata": {
        "colab": {
          "base_uri": "https://localhost:8080/"
        },
        "id": "89O8vVXI_M56",
        "outputId": "caa47027-78da-4043-d967-5ecaea3da6c3"
      },
      "execution_count": 97,
      "outputs": [
        {
          "output_type": "execute_result",
          "data": {
            "text/plain": [
              "6"
            ]
          },
          "metadata": {},
          "execution_count": 97
        }
      ]
    },
    {
      "cell_type": "code",
      "source": [
        "my_tuple[5]"
      ],
      "metadata": {
        "colab": {
          "base_uri": "https://localhost:8080/"
        },
        "id": "L5IJXS3D_b5R",
        "outputId": "fee2d709-0e82-47e9-b578-53647f8058d8"
      },
      "execution_count": 98,
      "outputs": [
        {
          "output_type": "execute_result",
          "data": {
            "text/plain": [
              "(1, 2, 3)"
            ]
          },
          "metadata": {},
          "execution_count": 98
        }
      ]
    },
    {
      "cell_type": "code",
      "source": [
        "my_tuple[2] = 3"
      ],
      "metadata": {
        "colab": {
          "base_uri": "https://localhost:8080/",
          "height": 166
        },
        "id": "jUBtC2Fj_haK",
        "outputId": "fba22d16-b865-4e87-99d6-9ca9f18473fb"
      },
      "execution_count": 99,
      "outputs": [
        {
          "output_type": "error",
          "ename": "TypeError",
          "evalue": "ignored",
          "traceback": [
            "\u001b[0;31m---------------------------------------------------------------------------\u001b[0m",
            "\u001b[0;31mTypeError\u001b[0m                                 Traceback (most recent call last)",
            "\u001b[0;32m<ipython-input-99-b49643ee8aba>\u001b[0m in \u001b[0;36m<cell line: 1>\u001b[0;34m()\u001b[0m\n\u001b[0;32m----> 1\u001b[0;31m \u001b[0mmy_tuple\u001b[0m\u001b[0;34m[\u001b[0m\u001b[0;36m2\u001b[0m\u001b[0;34m]\u001b[0m \u001b[0;34m=\u001b[0m \u001b[0;36m3\u001b[0m\u001b[0;34m\u001b[0m\u001b[0;34m\u001b[0m\u001b[0m\n\u001b[0m",
            "\u001b[0;31mTypeError\u001b[0m: 'tuple' object does not support item assignment"
          ]
        }
      ]
    },
    {
      "cell_type": "markdown",
      "source": [
        "> tuple faghat dota method dare ke kamelan ham mesle list ha hastesh. oon do method ebaratand az `count()`  a `index()`"
      ],
      "metadata": {
        "id": "ZnsR5QQj_p97"
      }
    },
    {
      "cell_type": "markdown",
      "source": [
        "# Dictionary\n",
        "\n",
        "dictionary ha daraye `key` va `value` hastan va shoma dge tooye dict ha chizi be name index nadarin, chon amalan index haye shoma hamoon `key` ha shoma hastesh."
      ],
      "metadata": {
        "id": "5X8IfRV2AInd"
      }
    },
    {
      "cell_type": "code",
      "source": [
        "information = {\n",
        "    100.1: 'Lara',\n",
        "    (1, 2, 3): 'Croft',\n",
        "    'age': 26\n",
        "}"
      ],
      "metadata": {
        "id": "aH3EvJlJAXJD"
      },
      "execution_count": 117,
      "outputs": []
    },
    {
      "cell_type": "code",
      "source": [
        "information"
      ],
      "metadata": {
        "colab": {
          "base_uri": "https://localhost:8080/"
        },
        "id": "H6MWar66AoGs",
        "outputId": "c9962228-8be3-4549-9a04-bde4843165cc"
      },
      "execution_count": 118,
      "outputs": [
        {
          "output_type": "execute_result",
          "data": {
            "text/plain": [
              "{100.1: 'Lara', (1, 2, 3): 'Croft', 'age': 26}"
            ]
          },
          "metadata": {},
          "execution_count": 118
        }
      ]
    },
    {
      "cell_type": "markdown",
      "source": [
        "> `key` ha dakhele dictionary faghat object haye immutable hastan, yani object hayi ke gheire ghabele taghir hastan.\n",
        "\n",
        "* int\n",
        "* float\n",
        "* str\n",
        "* tuple"
      ],
      "metadata": {
        "id": "DNeYp0XiBFvj"
      }
    },
    {
      "cell_type": "code",
      "source": [
        "information['age']"
      ],
      "metadata": {
        "colab": {
          "base_uri": "https://localhost:8080/"
        },
        "id": "_F_MESJJBwRD",
        "outputId": "de2df468-6198-47b9-faa0-b1b9acaed828"
      },
      "execution_count": 120,
      "outputs": [
        {
          "output_type": "execute_result",
          "data": {
            "text/plain": [
              "26"
            ]
          },
          "metadata": {},
          "execution_count": 120
        }
      ]
    },
    {
      "cell_type": "code",
      "source": [
        "information[100.1]"
      ],
      "metadata": {
        "colab": {
          "base_uri": "https://localhost:8080/",
          "height": 35
        },
        "id": "PWHrj1xKApvx",
        "outputId": "39687ac2-a09f-47c1-8c65-c578a25f940e"
      },
      "execution_count": 116,
      "outputs": [
        {
          "output_type": "execute_result",
          "data": {
            "text/plain": [
              "'Lara'"
            ],
            "application/vnd.google.colaboratory.intrinsic+json": {
              "type": "string"
            }
          },
          "metadata": {},
          "execution_count": 116
        }
      ]
    },
    {
      "cell_type": "code",
      "source": [
        "information[(1, 2, 3)]"
      ],
      "metadata": {
        "colab": {
          "base_uri": "https://localhost:8080/",
          "height": 35
        },
        "id": "XxCwAvGwA2QA",
        "outputId": "7e3a22cf-8d59-417d-bb73-86b8d7ae56d9"
      },
      "execution_count": 119,
      "outputs": [
        {
          "output_type": "execute_result",
          "data": {
            "text/plain": [
              "'Croft'"
            ],
            "application/vnd.google.colaboratory.intrinsic+json": {
              "type": "string"
            }
          },
          "metadata": {},
          "execution_count": 119
        }
      ]
    },
    {
      "cell_type": "markdown",
      "source": [
        "> `value` ha mitoonan harchizi bashan."
      ],
      "metadata": {
        "id": "MFKW94EHBuDL"
      }
    },
    {
      "cell_type": "code",
      "source": [
        "new_info = {\n",
        "    'name': 'Lara',\n",
        "    'family': 'Croft',\n",
        "    'age': 26\n",
        "}"
      ],
      "metadata": {
        "id": "54TnAl7uB_BL"
      },
      "execution_count": 126,
      "outputs": []
    },
    {
      "cell_type": "code",
      "source": [
        "new_info['name'] = 'Sam'\n",
        "new_info"
      ],
      "metadata": {
        "colab": {
          "base_uri": "https://localhost:8080/"
        },
        "id": "6g3a_pgeCH-B",
        "outputId": "113394bb-95cb-427c-8550-78d80c2b054a"
      },
      "execution_count": 127,
      "outputs": [
        {
          "output_type": "execute_result",
          "data": {
            "text/plain": [
              "{'name': 'Sam', 'family': 'Croft', 'age': 26}"
            ]
          },
          "metadata": {},
          "execution_count": 127
        }
      ]
    },
    {
      "cell_type": "code",
      "source": [
        "new_info['info']"
      ],
      "metadata": {
        "colab": {
          "base_uri": "https://localhost:8080/",
          "height": 166
        },
        "id": "yLru2rYFCNjx",
        "outputId": "adcea2e6-0830-49a9-c2f9-6bf24d60ca46"
      },
      "execution_count": 128,
      "outputs": [
        {
          "output_type": "error",
          "ename": "KeyError",
          "evalue": "ignored",
          "traceback": [
            "\u001b[0;31m---------------------------------------------------------------------------\u001b[0m",
            "\u001b[0;31mKeyError\u001b[0m                                  Traceback (most recent call last)",
            "\u001b[0;32m<ipython-input-128-65063378d088>\u001b[0m in \u001b[0;36m<cell line: 1>\u001b[0;34m()\u001b[0m\n\u001b[0;32m----> 1\u001b[0;31m \u001b[0mnew_info\u001b[0m\u001b[0;34m[\u001b[0m\u001b[0;34m'info'\u001b[0m\u001b[0;34m]\u001b[0m\u001b[0;34m\u001b[0m\u001b[0;34m\u001b[0m\u001b[0m\n\u001b[0m",
            "\u001b[0;31mKeyError\u001b[0m: 'info'"
          ]
        }
      ]
    },
    {
      "cell_type": "code",
      "source": [
        "# baraye inke yek pair key va value ezafe konim\n",
        "new_info['info'] = 'London'"
      ],
      "metadata": {
        "id": "XUDxEW1QCUQ4"
      },
      "execution_count": 129,
      "outputs": []
    },
    {
      "cell_type": "code",
      "source": [
        "new_info"
      ],
      "metadata": {
        "colab": {
          "base_uri": "https://localhost:8080/"
        },
        "id": "bzHV8q_HCcxj",
        "outputId": "49634bb0-6e5e-43ba-e068-8f3ce678adb1"
      },
      "execution_count": 130,
      "outputs": [
        {
          "output_type": "execute_result",
          "data": {
            "text/plain": [
              "{'name': 'Sam', 'family': 'Croft', 'age': 26, 'info': 'London'}"
            ]
          },
          "metadata": {},
          "execution_count": 130
        }
      ]
    },
    {
      "cell_type": "markdown",
      "source": [
        "> keyword e `in` miad mibine ke oon obj ozve `key` haye oon `dict` hast ya na."
      ],
      "metadata": {
        "id": "lCSDcfKlC4R5"
      }
    },
    {
      "cell_type": "code",
      "source": [
        "'name' in new_info"
      ],
      "metadata": {
        "colab": {
          "base_uri": "https://localhost:8080/"
        },
        "id": "-BARXFDcCeUf",
        "outputId": "c8829028-86aa-456c-c3ee-3f9f33206db6"
      },
      "execution_count": 131,
      "outputs": [
        {
          "output_type": "execute_result",
          "data": {
            "text/plain": [
              "True"
            ]
          },
          "metadata": {},
          "execution_count": 131
        }
      ]
    },
    {
      "cell_type": "code",
      "source": [
        "'Sam' in new_info"
      ],
      "metadata": {
        "colab": {
          "base_uri": "https://localhost:8080/"
        },
        "id": "dspuEcHiCwCU",
        "outputId": "5d785255-4bfe-4abc-9179-f179761729a4"
      },
      "execution_count": 132,
      "outputs": [
        {
          "output_type": "execute_result",
          "data": {
            "text/plain": [
              "False"
            ]
          },
          "metadata": {},
          "execution_count": 132
        }
      ]
    },
    {
      "cell_type": "markdown",
      "source": [
        "> agar khastim dakhele `value` haye dictionary becharkhim mitoonim az method e `.values()` estefade konim."
      ],
      "metadata": {
        "id": "5zTRssFkDMVd"
      }
    },
    {
      "cell_type": "code",
      "source": [
        "'Sam' in new_info.values()"
      ],
      "metadata": {
        "colab": {
          "base_uri": "https://localhost:8080/"
        },
        "id": "NpYIzq02C0cU",
        "outputId": "50945e6c-db78-492c-9a93-3fbc98b6c010"
      },
      "execution_count": 133,
      "outputs": [
        {
          "output_type": "execute_result",
          "data": {
            "text/plain": [
              "True"
            ]
          },
          "metadata": {},
          "execution_count": 133
        }
      ]
    },
    {
      "cell_type": "markdown",
      "source": [
        "> baraye inke dakhele `key` haye oon dictionary becharkhe."
      ],
      "metadata": {
        "id": "RdkrigfJD1EF"
      }
    },
    {
      "cell_type": "code",
      "source": [
        "'name' in new_info.keys()"
      ],
      "metadata": {
        "colab": {
          "base_uri": "https://localhost:8080/"
        },
        "id": "yVCnY5X8DLcE",
        "outputId": "7a0500c7-cded-4eb3-85f7-4ec05cea37f0"
      },
      "execution_count": 134,
      "outputs": [
        {
          "output_type": "execute_result",
          "data": {
            "text/plain": [
              "True"
            ]
          },
          "metadata": {},
          "execution_count": 134
        }
      ]
    },
    {
      "cell_type": "markdown",
      "source": [
        "> Baraye inke bebinin yek pair e madde nazaremoon aya dakhele dictionary hast ya na."
      ],
      "metadata": {
        "id": "pI_bfPLdDtli"
      }
    },
    {
      "cell_type": "code",
      "source": [
        "('age', 26) in new_info.items()"
      ],
      "metadata": {
        "colab": {
          "base_uri": "https://localhost:8080/"
        },
        "id": "fa5ctkAIDYFG",
        "outputId": "8e96e8f2-d4d1-49b0-b8b7-f63d90cebc74"
      },
      "execution_count": 138,
      "outputs": [
        {
          "output_type": "execute_result",
          "data": {
            "text/plain": [
              "True"
            ]
          },
          "metadata": {},
          "execution_count": 138
        }
      ]
    }
  ]
}