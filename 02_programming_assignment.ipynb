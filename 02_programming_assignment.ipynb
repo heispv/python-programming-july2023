{
  "nbformat": 4,
  "nbformat_minor": 0,
  "metadata": {
    "colab": {
      "provenance": [],
      "authorship_tag": "ABX9TyOGdU9ZqH6x2CGOuXJ+HtqZ",
      "include_colab_link": true
    },
    "kernelspec": {
      "name": "python3",
      "display_name": "Python 3"
    },
    "language_info": {
      "name": "python"
    }
  },
  "cells": [
    {
      "cell_type": "markdown",
      "metadata": {
        "id": "view-in-github",
        "colab_type": "text"
      },
      "source": [
        "<a href=\"https://colab.research.google.com/github/heispv/python-programming-july2023/blob/master/02_programming_assignment.ipynb\" target=\"_parent\"><img src=\"https://colab.research.google.com/assets/colab-badge.svg\" alt=\"Open In Colab\"/></a>"
      ]
    },
    {
      "cell_type": "markdown",
      "source": [
        "#1.\n",
        "Barnamei benvisid va yek adad ra dakhele variable `adade_aval` va yek adad digar ra dakhele variable `adade_dovom` berizid.\n",
        "\n",
        "zarb, taghsim, va zarb do adade aval bar dovom ra hesab konid va har kodam ra dakhele variable haye marboote zakhire konid."
      ],
      "metadata": {
        "id": "OqgIZP_NK1PW"
      }
    },
    {
      "cell_type": "code",
      "execution_count": null,
      "metadata": {
        "id": "Kn7CgQyXKzoV"
      },
      "outputs": [],
      "source": [
        "# code shoma baraye tamrine aval\n"
      ]
    },
    {
      "cell_type": "markdown",
      "source": [
        "#2.\n",
        "\n",
        "Barnamei benvisid va yek `adade ashari` ra dakhele variable e `my_num` zakhire konid. sepas be komake function haye marboote oon adad ro gerd konid va natije ro dakhele yek variable jadid zakhire konid."
      ],
      "metadata": {
        "id": "bjml2K7kLZv_"
      }
    },
    {
      "cell_type": "code",
      "source": [
        "# code shoma baraye tamrine dovom\n"
      ],
      "metadata": {
        "id": "zm4Sgx1DQyoh"
      },
      "execution_count": null,
      "outputs": []
    },
    {
      "cell_type": "markdown",
      "source": [
        "#3.\n",
        "\n",
        "***(Barname Mohem va nokte dar)*** Yek barname benvisid va function e `round()` ro ba estefade az function e `int()` va har chize dgei ke yad gereftid piade sazi konid.\n",
        "\n",
        "deghat konid ke function e `round()` agar adadi ke ashare anha az 5 kamtar bashad begirad be pain round mikonad va agar ashar bozorgtar mosavi 5 bashad anra be bala round mikonad."
      ],
      "metadata": {
        "id": "07827d48P2yH"
      }
    },
    {
      "cell_type": "code",
      "source": [
        "# code shoma baraye tamrine sevom\n"
      ],
      "metadata": {
        "id": "ech5q1oKQ0kO"
      },
      "execution_count": null,
      "outputs": []
    },
    {
      "cell_type": "markdown",
      "source": [
        "#4.\n",
        "\n",
        "Yek barname benvisid ke `esm` `family` `sen` va `shahre mahale tavalod` ro az user begire va payami ro be oon hamrah be etelaatesh namayesh bede.\n",
        "\n",
        "be tore mesal agar esm e shakhs Lara, family oon Jackson, sen esh 24, va shahre mahale tavalodesh Paris hastesh, khurji madde nazar bayad `daghighan` be shekl zir bashad.\n",
        "\n",
        "```\n",
        "Salam Lara Jackson, khosh oomadi.\n",
        "Sen e shoma 24 sal ast.\n",
        "\n",
        "Shoma dar shahre Paris be donya oomadi.\n",
        "```\n",
        "\n",
        "Be fasele beyne khat ha va jomalat deghat konid."
      ],
      "metadata": {
        "id": "Ml2FFshvQ2L1"
      }
    },
    {
      "cell_type": "code",
      "source": [
        "# code shoma baraye tamrine cheharom\n"
      ],
      "metadata": {
        "id": "OGokNhm1Q1xv"
      },
      "execution_count": null,
      "outputs": []
    },
    {
      "cell_type": "markdown",
      "source": [
        "#5.\n",
        "\n",
        "Code zir ro kamel konid."
      ],
      "metadata": {
        "id": "rhLHhtPfS-p9"
      }
    },
    {
      "cell_type": "code",
      "source": [
        "my_sentence = 'There is a problem here.'\n",
        "\n",
        "# Dakhele square bracket ro ba index haye dorost por konid\n",
        "# ta kalamati ke tebghe esm e variable hast az str e my_sentence\n",
        "# estekhraj beshe\n",
        "there_word = my_sentence[]\n",
        "print(f'There: {there_word}\\n')\n",
        "\n",
        "problem_word = my_sentence[]\n",
        "print(f'problem: {problem_word}\\n')\n",
        "\n",
        "ereh_word = my_sentence[]\n",
        "print(f'Barax e kalameye here: {ereh_word}\\n')\n",
        "\n",
        "mlop_word = my_sentence[]\n",
        "print(f'Barax e kalameye problem va yeki dar miun: {mlop_word}')"
      ],
      "metadata": {
        "id": "IR6SyeoyS-PQ"
      },
      "execution_count": null,
      "outputs": []
    }
  ]
}