{
  "nbformat": 4,
  "nbformat_minor": 0,
  "metadata": {
    "colab": {
      "provenance": [],
      "authorship_tag": "ABX9TyPDMtwoe7BDYT/qpST1BkG7",
      "include_colab_link": true
    },
    "kernelspec": {
      "name": "python3",
      "display_name": "Python 3"
    },
    "language_info": {
      "name": "python"
    }
  },
  "cells": [
    {
      "cell_type": "markdown",
      "metadata": {
        "id": "view-in-github",
        "colab_type": "text"
      },
      "source": [
        "<a href=\"https://colab.research.google.com/github/heispv/python-programming-july2023/blob/master/07_python_programming_assignment.ipynb\" target=\"_parent\"><img src=\"https://colab.research.google.com/assets/colab-badge.svg\" alt=\"Open In Colab\"/></a>"
      ]
    },
    {
      "cell_type": "markdown",
      "source": [
        "#1.\n",
        "Barnamei benvisid ke az user vurudi begirad va BMI oon shakhs ro be komake ghad va vazn oon hesab kone. Deghat konid ke be komake while bayad vurudi joori bashad ke agar user bejaye adad str vared kard be user neshoon bede ke vurudi faghat bayad adad bashad va nemitoonin string vared konid (bayad in ghesmat ro dakhele yek halghe while gharar bedin) va agar dorost bood BMI oon shakhs ro hesab kone va behesh namayesh bede. Hamchenin BMI oon ro ba meghdare monasebe BMI moghayese kone va bege ke ezafe vazn dare, kambood vazn dare ya vazesh normal hastesh.\n",
        "\n",
        "* Chon search kardan yeki az mohem tarin ghesmat haye barname nevisi hastesh, khodetoon bayad search konid va bebinin BMI chejuri mohasebe mishe va BMI ideal bar asase ghad cheghad hastesh."
      ],
      "metadata": {
        "id": "3JBTiS8Rm6XK"
      }
    },
    {
      "cell_type": "code",
      "source": [],
      "metadata": {
        "id": "8S-BRtdHn6db"
      },
      "execution_count": null,
      "outputs": []
    }
  ]
}