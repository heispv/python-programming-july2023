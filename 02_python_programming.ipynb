{
  "nbformat": 4,
  "nbformat_minor": 0,
  "metadata": {
    "colab": {
      "provenance": [],
      "authorship_tag": "ABX9TyPlz0cnlVrmgKjMZs8BzdKw",
      "include_colab_link": true
    },
    "kernelspec": {
      "name": "python3",
      "display_name": "Python 3"
    },
    "language_info": {
      "name": "python"
    }
  },
  "cells": [
    {
      "cell_type": "markdown",
      "metadata": {
        "id": "view-in-github",
        "colab_type": "text"
      },
      "source": [
        "<a href=\"https://colab.research.google.com/github/heispv/python-programming-july2023/blob/master/02_python_programming.ipynb\" target=\"_parent\"><img src=\"https://colab.research.google.com/assets/colab-badge.svg\" alt=\"Open In Colab\"/></a>"
      ]
    },
    {
      "cell_type": "markdown",
      "source": [
        "Operator precedence\n",
        "\n",
        "1. `()`\n",
        "2. `**`\n",
        "3. `*` and `/`\n",
        "4. `+` and `-`"
      ],
      "metadata": {
        "id": "ftTAnhh0vi0H"
      }
    },
    {
      "cell_type": "code",
      "execution_count": null,
      "metadata": {
        "colab": {
          "base_uri": "https://localhost:8080/"
        },
        "id": "3O_JL-U5vM4j",
        "outputId": "36ca36d4-2662-48d3-a333-2562dc50fa0f"
      },
      "outputs": [
        {
          "output_type": "execute_result",
          "data": {
            "text/plain": [
              "14"
            ]
          },
          "metadata": {},
          "execution_count": 1
        }
      ],
      "source": [
        "2 + 3 * 4"
      ]
    },
    {
      "cell_type": "code",
      "source": [
        "(2 + 3) * 4"
      ],
      "metadata": {
        "colab": {
          "base_uri": "https://localhost:8080/"
        },
        "id": "4iZCAktRvxcu",
        "outputId": "f1edf664-4ddf-4927-9cc4-472a93342ef6"
      },
      "execution_count": null,
      "outputs": [
        {
          "output_type": "execute_result",
          "data": {
            "text/plain": [
              "20"
            ]
          },
          "metadata": {},
          "execution_count": 2
        }
      ]
    },
    {
      "cell_type": "markdown",
      "source": [
        "# Tuple\n",
        "\n",
        "listi ke gheire ghabele taghir hastesh"
      ],
      "metadata": {
        "id": "Ia3iy2BJwNCu"
      }
    },
    {
      "cell_type": "code",
      "source": [
        "(1, 2, 3)"
      ],
      "metadata": {
        "colab": {
          "base_uri": "https://localhost:8080/"
        },
        "id": "tbtVMefKv2fx",
        "outputId": "e542b60b-07c7-40be-fffc-ef71328c4129"
      },
      "execution_count": null,
      "outputs": [
        {
          "output_type": "execute_result",
          "data": {
            "text/plain": [
              "(1, 2, 3)"
            ]
          },
          "metadata": {},
          "execution_count": 3
        }
      ]
    },
    {
      "cell_type": "code",
      "source": [
        "type((1, 2, 3))"
      ],
      "metadata": {
        "colab": {
          "base_uri": "https://localhost:8080/"
        },
        "id": "xM3WX9eKwdLe",
        "outputId": "9c01cd0f-0f66-4785-ef95-dd8a19f9f922"
      },
      "execution_count": null,
      "outputs": [
        {
          "output_type": "execute_result",
          "data": {
            "text/plain": [
              "tuple"
            ]
          },
          "metadata": {},
          "execution_count": 4
        }
      ]
    },
    {
      "cell_type": "markdown",
      "source": [
        "# Dictionary\n",
        "\n",
        "daraye `key` va `value` hastesh"
      ],
      "metadata": {
        "id": "NMP1ywUUwe2E"
      }
    },
    {
      "cell_type": "code",
      "source": [
        "{\n",
        "    'name': 'jack',\n",
        "    'family_name': 'jackson',\n",
        "    'age': 12\n",
        "}"
      ],
      "metadata": {
        "colab": {
          "base_uri": "https://localhost:8080/"
        },
        "id": "T7IZCLeIwojU",
        "outputId": "2a5c2800-8d0c-4b38-8e4c-8a5a7b0d5d2a"
      },
      "execution_count": null,
      "outputs": [
        {
          "output_type": "execute_result",
          "data": {
            "text/plain": [
              "{'name': 'jack', 'family_name': 'jackson', 'age': 12}"
            ]
          },
          "metadata": {},
          "execution_count": 5
        }
      ]
    },
    {
      "cell_type": "markdown",
      "source": [
        "# Boolean\n",
        "\n",
        "TRUE/FALSE\n",
        "\n",
        "1/0\n",
        "\n",
        "presence/absence"
      ],
      "metadata": {
        "id": "Zeh4kMrQw_Up"
      }
    },
    {
      "cell_type": "code",
      "source": [
        "True"
      ],
      "metadata": {
        "colab": {
          "base_uri": "https://localhost:8080/"
        },
        "id": "s1NnMUrfxPVO",
        "outputId": "9e8da483-2a14-4095-a1ad-f8f4a6cfdd3c"
      },
      "execution_count": null,
      "outputs": [
        {
          "output_type": "execute_result",
          "data": {
            "text/plain": [
              "True"
            ]
          },
          "metadata": {},
          "execution_count": 6
        }
      ]
    },
    {
      "cell_type": "code",
      "source": [
        "False"
      ],
      "metadata": {
        "colab": {
          "base_uri": "https://localhost:8080/"
        },
        "id": "thgMltE1xWDp",
        "outputId": "dbbc716f-88a1-4402-b1d0-de258db981ad"
      },
      "execution_count": null,
      "outputs": [
        {
          "output_type": "execute_result",
          "data": {
            "text/plain": [
              "False"
            ]
          },
          "metadata": {},
          "execution_count": 7
        }
      ]
    },
    {
      "cell_type": "markdown",
      "source": [
        "> boolean hame adada True hastesh be gheir az 0"
      ],
      "metadata": {
        "id": "0z00qjgcxgBX"
      }
    },
    {
      "cell_type": "code",
      "source": [
        "bool(100)"
      ],
      "metadata": {
        "colab": {
          "base_uri": "https://localhost:8080/"
        },
        "id": "GbagzTJ0xXKN",
        "outputId": "bf15c292-9737-4082-e593-2fc9590e104d"
      },
      "execution_count": null,
      "outputs": [
        {
          "output_type": "execute_result",
          "data": {
            "text/plain": [
              "True"
            ]
          },
          "metadata": {},
          "execution_count": 8
        }
      ]
    },
    {
      "cell_type": "code",
      "source": [
        "bool(0)"
      ],
      "metadata": {
        "colab": {
          "base_uri": "https://localhost:8080/"
        },
        "id": "yuHqJnVwxebZ",
        "outputId": "8c0ccebb-fcfb-46af-f1e8-115a74bd0223"
      },
      "execution_count": null,
      "outputs": [
        {
          "output_type": "execute_result",
          "data": {
            "text/plain": [
              "False"
            ]
          },
          "metadata": {},
          "execution_count": 9
        }
      ]
    },
    {
      "cell_type": "code",
      "source": [
        "bool([])"
      ],
      "metadata": {
        "colab": {
          "base_uri": "https://localhost:8080/"
        },
        "id": "OdZNNn4oxlBw",
        "outputId": "99e8ecf5-d4c2-4810-f1c1-a9a73ae75d1e"
      },
      "execution_count": null,
      "outputs": [
        {
          "output_type": "execute_result",
          "data": {
            "text/plain": [
              "False"
            ]
          },
          "metadata": {},
          "execution_count": 10
        }
      ]
    },
    {
      "cell_type": "code",
      "source": [
        "bool([1])"
      ],
      "metadata": {
        "colab": {
          "base_uri": "https://localhost:8080/"
        },
        "id": "Lp8e2Ea2xqNX",
        "outputId": "fb2c5511-6d25-4a78-e4b5-e1434c950f57"
      },
      "execution_count": null,
      "outputs": [
        {
          "output_type": "execute_result",
          "data": {
            "text/plain": [
              "True"
            ]
          },
          "metadata": {},
          "execution_count": 11
        }
      ]
    },
    {
      "cell_type": "markdown",
      "source": [
        "# Variable\n",
        "\n",
        "moteghayer ha baraye in estefade mishan ke shoma yek chizi ro dakhelesh zakhire konin.\n",
        "\n",
        "* variable ha ba adad nemitoonan shuru beshan.\n",
        "* ba underline mitoonan shuru beshan.\n",
        "* snake_case behtare ke bashan.\n",
        "* capital letter fargh mikone.\n",
        "* nabayad keyword e python bashe."
      ],
      "metadata": {
        "id": "woGgvYFixr83"
      }
    },
    {
      "cell_type": "code",
      "source": [
        "my_number = 5"
      ],
      "metadata": {
        "id": "UQbj7fC3x-p5"
      },
      "execution_count": null,
      "outputs": []
    },
    {
      "cell_type": "code",
      "source": [
        "my_Number = 10"
      ],
      "metadata": {
        "id": "IuSKCcuWzghG"
      },
      "execution_count": null,
      "outputs": []
    },
    {
      "cell_type": "code",
      "source": [
        "my_Number"
      ],
      "metadata": {
        "colab": {
          "base_uri": "https://localhost:8080/"
        },
        "id": "GLoptteezEOt",
        "outputId": "ef789f3a-b71c-4bd9-9b58-fb1e7ef4c76e"
      },
      "execution_count": null,
      "outputs": [
        {
          "output_type": "execute_result",
          "data": {
            "text/plain": [
              "10"
            ]
          },
          "metadata": {},
          "execution_count": 14
        }
      ]
    },
    {
      "cell_type": "code",
      "source": [
        "_my_number = 1"
      ],
      "metadata": {
        "id": "oeeci_sDy6F0"
      },
      "execution_count": null,
      "outputs": []
    },
    {
      "cell_type": "code",
      "source": [
        "_my_number"
      ],
      "metadata": {
        "colab": {
          "base_uri": "https://localhost:8080/"
        },
        "id": "tCl24k5XzDRD",
        "outputId": "a6bfe7a7-1808-4409-d534-840c10342a20"
      },
      "execution_count": null,
      "outputs": [
        {
          "output_type": "execute_result",
          "data": {
            "text/plain": [
              "1"
            ]
          },
          "metadata": {},
          "execution_count": 16
        }
      ]
    },
    {
      "cell_type": "code",
      "source": [
        "name = 'lara'\n",
        "name"
      ],
      "metadata": {
        "colab": {
          "base_uri": "https://localhost:8080/",
          "height": 36
        },
        "id": "wKDJO1Myzkh3",
        "outputId": "4abcc162-2711-4347-d7ed-b4c63e3c1eb6"
      },
      "execution_count": null,
      "outputs": [
        {
          "output_type": "execute_result",
          "data": {
            "text/plain": [
              "'lara'"
            ],
            "application/vnd.google.colaboratory.intrinsic+json": {
              "type": "string"
            }
          },
          "metadata": {},
          "execution_count": 18
        }
      ]
    },
    {
      "cell_type": "code",
      "source": [
        "my_list = [1, 2, 3, 4]\n",
        "my_list"
      ],
      "metadata": {
        "colab": {
          "base_uri": "https://localhost:8080/"
        },
        "id": "Nae8LtQX0Bdt",
        "outputId": "e28ef3ed-8aac-4dac-a7b7-0c0a1f2d3cf8"
      },
      "execution_count": null,
      "outputs": [
        {
          "output_type": "execute_result",
          "data": {
            "text/plain": [
              "[1, 2, 3, 4]"
            ]
          },
          "metadata": {},
          "execution_count": 19
        }
      ]
    },
    {
      "cell_type": "code",
      "source": [
        "my_list = 'hello'\n",
        "my_list"
      ],
      "metadata": {
        "colab": {
          "base_uri": "https://localhost:8080/",
          "height": 36
        },
        "id": "iu09GIql0Gya",
        "outputId": "1f2effa9-213c-47c3-8b63-fe2ba773575f"
      },
      "execution_count": null,
      "outputs": [
        {
          "output_type": "execute_result",
          "data": {
            "text/plain": [
              "'hello'"
            ],
            "application/vnd.google.colaboratory.intrinsic+json": {
              "type": "string"
            }
          },
          "metadata": {},
          "execution_count": 20
        }
      ]
    },
    {
      "cell_type": "markdown",
      "source": [
        "> agar khastin az yek constant (meghdare sabet) estefade konin behtare ke az capital letter estefade konin."
      ],
      "metadata": {
        "id": "sCt61B5t0UFT"
      }
    },
    {
      "cell_type": "code",
      "source": [
        "MY_CONSTANT = 5"
      ],
      "metadata": {
        "id": "ZO9fWfsu0oek"
      },
      "execution_count": null,
      "outputs": []
    },
    {
      "cell_type": "code",
      "source": [
        "my_name, my_age = 'Peter', 24"
      ],
      "metadata": {
        "id": "fqDNWJyo0qjs"
      },
      "execution_count": null,
      "outputs": []
    },
    {
      "cell_type": "code",
      "source": [
        "my_name"
      ],
      "metadata": {
        "colab": {
          "base_uri": "https://localhost:8080/",
          "height": 36
        },
        "id": "cuymZy-T07i_",
        "outputId": "a9ad9769-25be-467d-a676-d8996c5bb561"
      },
      "execution_count": null,
      "outputs": [
        {
          "output_type": "execute_result",
          "data": {
            "text/plain": [
              "'Peter'"
            ],
            "application/vnd.google.colaboratory.intrinsic+json": {
              "type": "string"
            }
          },
          "metadata": {},
          "execution_count": 23
        }
      ]
    },
    {
      "cell_type": "code",
      "source": [
        "my_age"
      ],
      "metadata": {
        "colab": {
          "base_uri": "https://localhost:8080/"
        },
        "id": "FKJ6ajgb08Ue",
        "outputId": "0adb3071-897d-4c0a-c804-08528ad211d7"
      },
      "execution_count": null,
      "outputs": [
        {
          "output_type": "execute_result",
          "data": {
            "text/plain": [
              "24"
            ]
          },
          "metadata": {},
          "execution_count": 24
        }
      ]
    },
    {
      "cell_type": "markdown",
      "source": [
        "# functions int & float"
      ],
      "metadata": {
        "id": "dVjRcIe00846"
      }
    },
    {
      "cell_type": "code",
      "source": [
        "# ghadre motlagh\n",
        "ghadre_motlagh = abs(-5)"
      ],
      "metadata": {
        "id": "Mx4OkD-j1VNC"
      },
      "execution_count": null,
      "outputs": []
    },
    {
      "cell_type": "code",
      "source": [
        "ghadre_motlagh"
      ],
      "metadata": {
        "colab": {
          "base_uri": "https://localhost:8080/"
        },
        "id": "aeZyv1MI1icg",
        "outputId": "f959f59e-9ed9-45bb-da57-bb237e196fba"
      },
      "execution_count": null,
      "outputs": [
        {
          "output_type": "execute_result",
          "data": {
            "text/plain": [
              "5"
            ]
          },
          "metadata": {},
          "execution_count": 27
        }
      ]
    },
    {
      "cell_type": "code",
      "source": [
        "round(3.4)"
      ],
      "metadata": {
        "colab": {
          "base_uri": "https://localhost:8080/"
        },
        "id": "qsWzxsAA1oCz",
        "outputId": "282151c6-bab4-40c1-db23-a511f7ea3b13"
      },
      "execution_count": null,
      "outputs": [
        {
          "output_type": "execute_result",
          "data": {
            "text/plain": [
              "3"
            ]
          },
          "metadata": {},
          "execution_count": 28
        }
      ]
    },
    {
      "cell_type": "code",
      "source": [
        "round(3.6)"
      ],
      "metadata": {
        "colab": {
          "base_uri": "https://localhost:8080/"
        },
        "id": "FrrlBbGM11-9",
        "outputId": "82c36256-53a8-45c4-ffea-0fefacedfa6e"
      },
      "execution_count": null,
      "outputs": [
        {
          "output_type": "execute_result",
          "data": {
            "text/plain": [
              "4"
            ]
          },
          "metadata": {},
          "execution_count": 29
        }
      ]
    },
    {
      "cell_type": "markdown",
      "source": [
        "> bazi az function alave bar vurudi asli ke bayad beheshoon bedim yek seri vurudi optional am daran. betore mesal vaghti ke az round estefade mikonim mitoonim be komake `,` vurudi dovom ke amalan tedade ashar haye ma baraye gerd kardan hast ro moshakhas konim va agar hichi nadim amalan adade maro bedoone ashar baraye ma gerd mikone."
      ],
      "metadata": {
        "id": "jXrxqc702TLN"
      }
    },
    {
      "cell_type": "code",
      "source": [
        "round(3.345678, 3)"
      ],
      "metadata": {
        "colab": {
          "base_uri": "https://localhost:8080/"
        },
        "id": "VJUDffvC139-",
        "outputId": "fb0992c4-3904-407d-b89a-715cdb95e9de"
      },
      "execution_count": null,
      "outputs": [
        {
          "output_type": "execute_result",
          "data": {
            "text/plain": [
              "3.346"
            ]
          },
          "metadata": {},
          "execution_count": 30
        }
      ]
    },
    {
      "cell_type": "code",
      "source": [
        "pow(3, 2) # 3 ** 2"
      ],
      "metadata": {
        "colab": {
          "base_uri": "https://localhost:8080/"
        },
        "id": "H8uoIYuC2O_3",
        "outputId": "613578ff-cb1c-4d67-8231-ce70286f5bb1"
      },
      "execution_count": null,
      "outputs": [
        {
          "output_type": "execute_result",
          "data": {
            "text/plain": [
              "9"
            ]
          },
          "metadata": {},
          "execution_count": 32
        }
      ]
    },
    {
      "cell_type": "markdown",
      "source": [
        "# Strings in depth"
      ],
      "metadata": {
        "id": "OstMwXwA29qh"
      }
    },
    {
      "cell_type": "code",
      "source": [
        "my_sentence = '''hello my name is jack\n",
        "I'm 20 years old'''"
      ],
      "metadata": {
        "id": "lsn2n8ph3KJ3"
      },
      "execution_count": null,
      "outputs": []
    },
    {
      "cell_type": "code",
      "source": [
        "my_sentence"
      ],
      "metadata": {
        "colab": {
          "base_uri": "https://localhost:8080/",
          "height": 36
        },
        "id": "6DaZNxyJ3wrE",
        "outputId": "76a6329f-2bb0-427e-89e3-4f449cf56b90"
      },
      "execution_count": null,
      "outputs": [
        {
          "output_type": "execute_result",
          "data": {
            "text/plain": [
              "\"hello my name is jack\\nI'm 20 years old\""
            ],
            "application/vnd.google.colaboratory.intrinsic+json": {
              "type": "string"
            }
          },
          "metadata": {},
          "execution_count": 43
        }
      ]
    },
    {
      "cell_type": "code",
      "source": [
        "print(my_sentence)"
      ],
      "metadata": {
        "colab": {
          "base_uri": "https://localhost:8080/"
        },
        "id": "geLrVjIS3XXE",
        "outputId": "1a150ddc-5e39-4c23-aede-37ea4f97a895"
      },
      "execution_count": null,
      "outputs": [
        {
          "output_type": "stream",
          "name": "stdout",
          "text": [
            "hello my name is jack\n",
            "I'm 20 years old\n"
          ]
        }
      ]
    },
    {
      "cell_type": "markdown",
      "source": [
        "## Escape characters\n",
        "\n",
        "* \\n -> baraye inke bere khate badi\n",
        "* \\t -> yani inke tab bezan\n",
        "* \\ -> agar badesh `'` ya `\"` oomad oono nadide begir.\n"
      ],
      "metadata": {
        "id": "jHyFtKnP4HoU"
      }
    },
    {
      "cell_type": "code",
      "source": [
        "print('hello I\\'m 20 years old')"
      ],
      "metadata": {
        "colab": {
          "base_uri": "https://localhost:8080/"
        },
        "id": "53UjVwqu4hLP",
        "outputId": "b4ce993f-e5d3-4399-8274-9b0cbdb5433e"
      },
      "execution_count": null,
      "outputs": [
        {
          "output_type": "stream",
          "name": "stdout",
          "text": [
            "hello I'm 20 years old\n"
          ]
        }
      ]
    },
    {
      "cell_type": "code",
      "source": [
        "name = 'jack'\n",
        "family = 'jackson'\n",
        "print(name + ' ' + family)"
      ],
      "metadata": {
        "colab": {
          "base_uri": "https://localhost:8080/"
        },
        "id": "iIJvroFy4p7l",
        "outputId": "45db5504-caee-4981-9f5d-a07f0459b78e"
      },
      "execution_count": null,
      "outputs": [
        {
          "output_type": "stream",
          "name": "stdout",
          "text": [
            "jack jackson\n"
          ]
        }
      ]
    },
    {
      "cell_type": "code",
      "source": [
        "name * 2"
      ],
      "metadata": {
        "colab": {
          "base_uri": "https://localhost:8080/",
          "height": 36
        },
        "id": "JC9fO_B55VC1",
        "outputId": "65a53c52-d617-4fb5-c73c-c3af6c68c375"
      },
      "execution_count": null,
      "outputs": [
        {
          "output_type": "execute_result",
          "data": {
            "text/plain": [
              "'jackjack'"
            ],
            "application/vnd.google.colaboratory.intrinsic+json": {
              "type": "string"
            }
          },
          "metadata": {},
          "execution_count": 53
        }
      ]
    },
    {
      "cell_type": "markdown",
      "source": [
        "> zamani ke mikhaim az `f-string` estefade konim bayad bayad ghablaz `'` yek `f` bezarim va variable hamoon or dakhele `{}` gharar bedim."
      ],
      "metadata": {
        "id": "V13ZajE36bj9"
      }
    },
    {
      "cell_type": "code",
      "source": [
        "name = 'Lara'\n",
        "family_name = 'Croft'\n",
        "age = 28\n",
        "\n",
        "print(f'Hello {name} {family_name} you are {age} years old.')"
      ],
      "metadata": {
        "colab": {
          "base_uri": "https://localhost:8080/"
        },
        "id": "9aF_vFiY5oe7",
        "outputId": "c4e7e6dc-d9a4-4e40-83b0-c38e3851e464"
      },
      "execution_count": null,
      "outputs": [
        {
          "output_type": "stream",
          "name": "stdout",
          "text": [
            "Hello Lara Croft you are 28 years old.\n"
          ]
        }
      ]
    },
    {
      "cell_type": "markdown",
      "source": [
        "## input\n",
        "\n",
        "Baraye inke shoma yek vurudi az user etoon begirin va oon or dakhele yek variable zakhire bokonin."
      ],
      "metadata": {
        "id": "covSjDuI6vnJ"
      }
    },
    {
      "cell_type": "code",
      "source": [
        "name = input('Esme khod ra vared konid: ')\n",
        "family_name = input('Famili khod ra vared bokonid: ')\n",
        "age = input('Chand saletoon hast: ')\n",
        "\n",
        "print(f'Hello {name} {family_name} you are {age} years old.')"
      ],
      "metadata": {
        "colab": {
          "base_uri": "https://localhost:8080/"
        },
        "id": "K2_9rkiF8O8j",
        "outputId": "eb139d52-4f15-4ecb-b4c1-1c501833edd9"
      },
      "execution_count": null,
      "outputs": [
        {
          "output_type": "stream",
          "name": "stdout",
          "text": [
            "Esme khod ra vared konid: Tom\n",
            "Famili khod ra vared bokonid: Jackson\n",
            "Chand saletoon hast: 24\n",
            "Hello Tom Jackson you are 24 years old.\n"
          ]
        }
      ]
    },
    {
      "cell_type": "markdown",
      "source": [
        "## indexing\n",
        "\n",
        "`string[start:stop:step]`\n",
        "\n",
        "Baraye ine ke betoonim be jahaye mokhtalefe reshte dasresi dashte bashim.\n",
        "\n",
        "* be in mozoo deghat bokonim ke hamishe index ha az adade `0` shuru mishan."
      ],
      "metadata": {
        "id": "c56HSQ--8Y_h"
      }
    },
    {
      "cell_type": "code",
      "source": [
        "info = 'hello dear'\n",
        "#       0123456789"
      ],
      "metadata": {
        "id": "YX7_7J-Q9KEP"
      },
      "execution_count": null,
      "outputs": []
    },
    {
      "cell_type": "code",
      "source": [
        "info[0]"
      ],
      "metadata": {
        "colab": {
          "base_uri": "https://localhost:8080/",
          "height": 36
        },
        "id": "zHsAqc289tIj",
        "outputId": "ff6abd8b-3a5e-485e-e73a-add348d442d1"
      },
      "execution_count": null,
      "outputs": [
        {
          "output_type": "execute_result",
          "data": {
            "text/plain": [
              "'h'"
            ],
            "application/vnd.google.colaboratory.intrinsic+json": {
              "type": "string"
            }
          },
          "metadata": {},
          "execution_count": 63
        }
      ]
    },
    {
      "cell_type": "code",
      "source": [
        "info[7]"
      ],
      "metadata": {
        "colab": {
          "base_uri": "https://localhost:8080/",
          "height": 36
        },
        "id": "A4wZkTIB9zV_",
        "outputId": "5e84f66f-54bf-47c2-f807-b4bb75224ac6"
      },
      "execution_count": null,
      "outputs": [
        {
          "output_type": "execute_result",
          "data": {
            "text/plain": [
              "'e'"
            ],
            "application/vnd.google.colaboratory.intrinsic+json": {
              "type": "string"
            }
          },
          "metadata": {},
          "execution_count": 64
        }
      ]
    },
    {
      "cell_type": "markdown",
      "source": [
        "> Havasemoon bashe ke vaghti migim `info[0:4]` yani az index 0 ta 4 be gheir az 4."
      ],
      "metadata": {
        "id": "OqrAh2OF-TSr"
      }
    },
    {
      "cell_type": "code",
      "source": [
        "# slicing -> be komake :\n",
        "info[0:5]"
      ],
      "metadata": {
        "colab": {
          "base_uri": "https://localhost:8080/",
          "height": 36
        },
        "id": "GauzdI2993KY",
        "outputId": "07478fcb-17a1-4f36-bf92-1cb18167804c"
      },
      "execution_count": null,
      "outputs": [
        {
          "output_type": "execute_result",
          "data": {
            "text/plain": [
              "'hello'"
            ],
            "application/vnd.google.colaboratory.intrinsic+json": {
              "type": "string"
            }
          },
          "metadata": {},
          "execution_count": 66
        }
      ]
    },
    {
      "cell_type": "code",
      "source": [
        "# mitoonim start o nadim\n",
        "info[:5]"
      ],
      "metadata": {
        "colab": {
          "base_uri": "https://localhost:8080/",
          "height": 36
        },
        "id": "jCoAqoz1-siV",
        "outputId": "25b01372-51cf-4059-fd6d-e4b300b54f92"
      },
      "execution_count": null,
      "outputs": [
        {
          "output_type": "execute_result",
          "data": {
            "text/plain": [
              "'hello'"
            ],
            "application/vnd.google.colaboratory.intrinsic+json": {
              "type": "string"
            }
          },
          "metadata": {},
          "execution_count": 69
        }
      ]
    },
    {
      "cell_type": "code",
      "source": [
        "# baraye inke dota begirim\n",
        "info[1], info[8]"
      ],
      "metadata": {
        "colab": {
          "base_uri": "https://localhost:8080/"
        },
        "id": "5CFBc4xQ_AFH",
        "outputId": "f6539371-4daf-461b-cd66-856e79257c19"
      },
      "execution_count": null,
      "outputs": [
        {
          "output_type": "execute_result",
          "data": {
            "text/plain": [
              "('e', 'a')"
            ]
          },
          "metadata": {},
          "execution_count": 72
        }
      ]
    },
    {
      "cell_type": "code",
      "source": [
        "info[0:10]"
      ],
      "metadata": {
        "colab": {
          "base_uri": "https://localhost:8080/",
          "height": 36
        },
        "id": "p8KOT-E2-Ji7",
        "outputId": "0a6409b3-9e0a-445a-c3ad-034ace027099"
      },
      "execution_count": null,
      "outputs": [
        {
          "output_type": "execute_result",
          "data": {
            "text/plain": [
              "'hello dear'"
            ],
            "application/vnd.google.colaboratory.intrinsic+json": {
              "type": "string"
            }
          },
          "metadata": {},
          "execution_count": 67
        }
      ]
    },
    {
      "cell_type": "code",
      "source": [
        "info[6:]"
      ],
      "metadata": {
        "colab": {
          "base_uri": "https://localhost:8080/",
          "height": 36
        },
        "id": "s5_7tzj3-fw8",
        "outputId": "845ea47a-d3f0-4510-8a08-3fe482eacd91"
      },
      "execution_count": null,
      "outputs": [
        {
          "output_type": "execute_result",
          "data": {
            "text/plain": [
              "'dear'"
            ],
            "application/vnd.google.colaboratory.intrinsic+json": {
              "type": "string"
            }
          },
          "metadata": {},
          "execution_count": 73
        }
      ]
    },
    {
      "cell_type": "code",
      "source": [
        "print(info)"
      ],
      "metadata": {
        "colab": {
          "base_uri": "https://localhost:8080/"
        },
        "id": "2btFtj9X_mJ2",
        "outputId": "49d62603-6f13-4538-ac7c-531c8d854a61"
      },
      "execution_count": null,
      "outputs": [
        {
          "output_type": "stream",
          "name": "stdout",
          "text": [
            "hello dear\n"
          ]
        }
      ]
    },
    {
      "cell_type": "code",
      "source": [
        "info[1:7:2]"
      ],
      "metadata": {
        "colab": {
          "base_uri": "https://localhost:8080/",
          "height": 36
        },
        "id": "Y73hL19N-kkV",
        "outputId": "e3921650-6fa8-4260-b14a-06de3f573e6f"
      },
      "execution_count": null,
      "outputs": [
        {
          "output_type": "execute_result",
          "data": {
            "text/plain": [
              "'el '"
            ],
            "application/vnd.google.colaboratory.intrinsic+json": {
              "type": "string"
            }
          },
          "metadata": {},
          "execution_count": 75
        }
      ]
    },
    {
      "cell_type": "code",
      "source": [
        "info[::2]"
      ],
      "metadata": {
        "colab": {
          "base_uri": "https://localhost:8080/",
          "height": 36
        },
        "id": "BNEAuIby_1Tm",
        "outputId": "aad8643c-4c44-49ce-9a95-b44316c6f92b"
      },
      "execution_count": null,
      "outputs": [
        {
          "output_type": "execute_result",
          "data": {
            "text/plain": [
              "'hloda'"
            ],
            "application/vnd.google.colaboratory.intrinsic+json": {
              "type": "string"
            }
          },
          "metadata": {},
          "execution_count": 79
        }
      ]
    },
    {
      "cell_type": "markdown",
      "source": [
        "> age step amo - bezaram amalan barax step barmidare."
      ],
      "metadata": {
        "id": "GDl93e4IAyAc"
      }
    },
    {
      "cell_type": "code",
      "source": [
        "info[::-1]"
      ],
      "metadata": {
        "colab": {
          "base_uri": "https://localhost:8080/",
          "height": 36
        },
        "id": "sQwpb3ejAXhz",
        "outputId": "b8376955-59fc-471b-eb2c-831f616a2524"
      },
      "execution_count": null,
      "outputs": [
        {
          "output_type": "execute_result",
          "data": {
            "text/plain": [
              "'raed olleh'"
            ],
            "application/vnd.google.colaboratory.intrinsic+json": {
              "type": "string"
            }
          },
          "metadata": {},
          "execution_count": 82
        }
      ]
    },
    {
      "cell_type": "code",
      "source": [
        "info"
      ],
      "metadata": {
        "colab": {
          "base_uri": "https://localhost:8080/",
          "height": 36
        },
        "id": "zYXgc6oaAiYh",
        "outputId": "3ca5723a-9740-41b8-9c32-a09068841a0f"
      },
      "execution_count": null,
      "outputs": [
        {
          "output_type": "execute_result",
          "data": {
            "text/plain": [
              "'hello dear'"
            ],
            "application/vnd.google.colaboratory.intrinsic+json": {
              "type": "string"
            }
          },
          "metadata": {},
          "execution_count": 83
        }
      ]
    },
    {
      "cell_type": "markdown",
      "source": [
        "> vaghti ke stop ya stop ro manfi mizarim engar dare az akhar mishmore index haro.\n",
        "\n",
        "* be in nokte deghat konim ke dar halate addi index ha az `0` shuru mishan ama zamani ke mikhaim az adade manfi estefade konim az `-1` shuru mishan."
      ],
      "metadata": {
        "id": "mUMbFCtOBTLR"
      }
    },
    {
      "cell_type": "code",
      "source": [
        "info[-1]"
      ],
      "metadata": {
        "colab": {
          "base_uri": "https://localhost:8080/",
          "height": 36
        },
        "id": "3jJemypNA9fU",
        "outputId": "60992c9d-9538-4843-9c36-28e377c584e9"
      },
      "execution_count": null,
      "outputs": [
        {
          "output_type": "execute_result",
          "data": {
            "text/plain": [
              "'r'"
            ],
            "application/vnd.google.colaboratory.intrinsic+json": {
              "type": "string"
            }
          },
          "metadata": {},
          "execution_count": 84
        }
      ]
    },
    {
      "cell_type": "code",
      "source": [
        "info[-1:-9:-1]"
      ],
      "metadata": {
        "colab": {
          "base_uri": "https://localhost:8080/",
          "height": 36
        },
        "id": "9n7MTh27BE28",
        "outputId": "ef2b13d1-2d35-4215-ba6b-aea0561e97f8"
      },
      "execution_count": null,
      "outputs": [
        {
          "output_type": "execute_result",
          "data": {
            "text/plain": [
              "'raed oll'"
            ],
            "application/vnd.google.colaboratory.intrinsic+json": {
              "type": "string"
            }
          },
          "metadata": {},
          "execution_count": 86
        }
      ]
    },
    {
      "cell_type": "markdown",
      "source": [
        "> agar bekhain toole yek reshte ro mohasebe konin az function `len()` estefade mikonin."
      ],
      "metadata": {
        "id": "aWXsyCUcBuZz"
      }
    },
    {
      "cell_type": "code",
      "source": [
        "len(info)"
      ],
      "metadata": {
        "colab": {
          "base_uri": "https://localhost:8080/"
        },
        "id": "LZBQ8e1hBgnb",
        "outputId": "8c5b445a-c2b1-46a2-c477-ff61c503c4fd"
      },
      "execution_count": null,
      "outputs": [
        {
          "output_type": "execute_result",
          "data": {
            "text/plain": [
              "10"
            ]
          },
          "metadata": {},
          "execution_count": 87
        }
      ]
    },
    {
      "cell_type": "code",
      "source": [],
      "metadata": {
        "id": "ZtxUywHsBz9i"
      },
      "execution_count": null,
      "outputs": []
    }
  ]
}