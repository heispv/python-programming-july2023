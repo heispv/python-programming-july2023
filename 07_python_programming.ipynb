{
  "nbformat": 4,
  "nbformat_minor": 0,
  "metadata": {
    "colab": {
      "provenance": [],
      "authorship_tag": "ABX9TyM4WtXhE6k0ljR7KI/cut5Q",
      "include_colab_link": true
    },
    "kernelspec": {
      "name": "python3",
      "display_name": "Python 3"
    },
    "language_info": {
      "name": "python"
    }
  },
  "cells": [
    {
      "cell_type": "markdown",
      "metadata": {
        "id": "view-in-github",
        "colab_type": "text"
      },
      "source": [
        "<a href=\"https://colab.research.google.com/github/heispv/python-programming-july2023/blob/master/07_python_programming.ipynb\" target=\"_parent\"><img src=\"https://colab.research.google.com/assets/colab-badge.svg\" alt=\"Open In Colab\"/></a>"
      ]
    },
    {
      "cell_type": "markdown",
      "source": [
        "# Loop\n",
        "\n",
        "ma darkol tooye python do model loop darim\n",
        "\n",
        "1. for loop\n",
        "2. while loop\n",
        "\n",
        "ba tavajoh be niazi ke darim mitoonim az harkudum azin halghe ha estefade bokonim."
      ],
      "metadata": {
        "id": "EejjM9sQIJRO"
      }
    },
    {
      "cell_type": "markdown",
      "source": [
        "## For loop\n",
        "\n",
        "```\n",
        "for sth in sth:\n",
        "  do_sth\n",
        "```"
      ],
      "metadata": {
        "id": "MPkM0ojyIbFM"
      }
    },
    {
      "cell_type": "code",
      "source": [
        "my_list = ['mesvak', 'goje', 'noon', 'ab']\n",
        "\n",
        "for kharid in my_list:\n",
        "  print(kharid)"
      ],
      "metadata": {
        "colab": {
          "base_uri": "https://localhost:8080/"
        },
        "id": "uRS6ih_6Jw7s",
        "outputId": "347902cb-48cc-473d-d088-4b3838e7e8fb"
      },
      "execution_count": 1,
      "outputs": [
        {
          "output_type": "stream",
          "name": "stdout",
          "text": [
            "mesvak\n",
            "goje\n",
            "noon\n",
            "ab\n"
          ]
        }
      ]
    },
    {
      "cell_type": "markdown",
      "source": [
        "> ma mitoonim tooye hame data type hayi ke iterable hastan becharkhim va az loop estefade konim.\n",
        "\n",
        "* list - tuple - str - dict"
      ],
      "metadata": {
        "id": "ANI67sZhJ_Aa"
      }
    },
    {
      "cell_type": "code",
      "source": [
        "my_word = 'hello'\n",
        "\n",
        "for char in my_word:\n",
        "  print(f'the word is: {char}')"
      ],
      "metadata": {
        "colab": {
          "base_uri": "https://localhost:8080/"
        },
        "id": "Mb-rS_4oKzYZ",
        "outputId": "480caf04-df2d-400e-e465-b945a2d374d2"
      },
      "execution_count": 11,
      "outputs": [
        {
          "output_type": "stream",
          "name": "stdout",
          "text": [
            "the word is: h\n",
            "the word is: e\n",
            "the word is: l\n",
            "the word is: l\n",
            "the word is: o\n"
          ]
        }
      ]
    },
    {
      "cell_type": "code",
      "source": [
        "my_dict = {\n",
        "    'name': 'Ali',\n",
        "    'family': 'Mohamadi',\n",
        "    'age': 13\n",
        "}\n",
        "\n",
        "for sth in my_dict:\n",
        "  print(sth)"
      ],
      "metadata": {
        "colab": {
          "base_uri": "https://localhost:8080/"
        },
        "id": "k2TMrGiOLD8r",
        "outputId": "e7c92c27-bb82-4bf3-fdfa-e589bcc33b6e"
      },
      "execution_count": 3,
      "outputs": [
        {
          "output_type": "stream",
          "name": "stdout",
          "text": [
            "name\n",
            "family\n",
            "age\n"
          ]
        }
      ]
    },
    {
      "cell_type": "code",
      "source": [
        "my_dict = {\n",
        "    'name': 'Ali',\n",
        "    'family': 'Mohamadi',\n",
        "    'age': 13\n",
        "}\n",
        "\n",
        "for sth in my_dict.values():\n",
        "  print(sth)"
      ],
      "metadata": {
        "colab": {
          "base_uri": "https://localhost:8080/"
        },
        "id": "AdSgR2YfLgQQ",
        "outputId": "77cee42c-eb4e-4809-d854-1998ab0ed9f6"
      },
      "execution_count": 4,
      "outputs": [
        {
          "output_type": "stream",
          "name": "stdout",
          "text": [
            "Ali\n",
            "Mohamadi\n",
            "13\n"
          ]
        }
      ]
    },
    {
      "cell_type": "code",
      "source": [
        "my_dict = {\n",
        "    'name': 'Ali',\n",
        "    'family': 'Mohamadi',\n",
        "    'age': 13\n",
        "}\n",
        "\n",
        "for sth in my_dict.items():\n",
        "  print(sth)"
      ],
      "metadata": {
        "colab": {
          "base_uri": "https://localhost:8080/"
        },
        "id": "DC5bWtlkLsOw",
        "outputId": "35de74dc-a1f3-4f76-f071-9f326d39928c"
      },
      "execution_count": 5,
      "outputs": [
        {
          "output_type": "stream",
          "name": "stdout",
          "text": [
            "('name', 'Ali')\n",
            "('family', 'Mohamadi')\n",
            "('age', 13)\n"
          ]
        }
      ]
    },
    {
      "cell_type": "code",
      "source": [
        "first, second = ('name', 'Ali')"
      ],
      "metadata": {
        "id": "N5u_1oJmLxxS"
      },
      "execution_count": 6,
      "outputs": []
    },
    {
      "cell_type": "code",
      "source": [
        "my_dict = {\n",
        "    'name': 'Ali',\n",
        "    'family': 'Mohamadi',\n",
        "    'age': 13\n",
        "}\n",
        "\n",
        "for key, value in my_dict.items():\n",
        "  print(f'The key is: {key}\\nThe value is: {value}\\n\\n')"
      ],
      "metadata": {
        "colab": {
          "base_uri": "https://localhost:8080/"
        },
        "id": "dItww2TiMA9j",
        "outputId": "68a01924-b555-417a-e837-959733a01548"
      },
      "execution_count": 9,
      "outputs": [
        {
          "output_type": "stream",
          "name": "stdout",
          "text": [
            "The key is: name\n",
            "The value is: Ali\n",
            "\n",
            "\n",
            "The key is: family\n",
            "The value is: Mohamadi\n",
            "\n",
            "\n",
            "The key is: age\n",
            "The value is: 13\n",
            "\n",
            "\n"
          ]
        }
      ]
    },
    {
      "cell_type": "code",
      "source": [
        "my_list = ['mesvak', 'goje', 'noon', 'ab']\n",
        "\n",
        "len(my_list)"
      ],
      "metadata": {
        "colab": {
          "base_uri": "https://localhost:8080/"
        },
        "id": "SgZU67kDMyYy",
        "outputId": "c6da125f-52cd-4403-e037-0588147c72c9"
      },
      "execution_count": 12,
      "outputs": [
        {
          "output_type": "execute_result",
          "data": {
            "text/plain": [
              "4"
            ]
          },
          "metadata": {},
          "execution_count": 12
        }
      ]
    },
    {
      "cell_type": "code",
      "source": [
        "tedad = 0\n",
        "\n",
        "for kharid in my_list:\n",
        "  tedad = tedad + 1\n",
        "\n",
        "print(tedad)"
      ],
      "metadata": {
        "colab": {
          "base_uri": "https://localhost:8080/"
        },
        "id": "5nnC4jZOM9HG",
        "outputId": "20a8f408-1183-4582-ad5a-3171409abe03"
      },
      "execution_count": 15,
      "outputs": [
        {
          "output_type": "stream",
          "name": "stdout",
          "text": [
            "4\n"
          ]
        }
      ]
    },
    {
      "cell_type": "code",
      "source": [
        "my_str = 'Hello Friends'\n",
        "len(my_str)"
      ],
      "metadata": {
        "colab": {
          "base_uri": "https://localhost:8080/"
        },
        "id": "yjPf3x0GNrlM",
        "outputId": "4af5caf9-1cb0-4fec-d524-03c31cdc1f1c"
      },
      "execution_count": 16,
      "outputs": [
        {
          "output_type": "execute_result",
          "data": {
            "text/plain": [
              "13"
            ]
          },
          "metadata": {},
          "execution_count": 16
        }
      ]
    },
    {
      "cell_type": "code",
      "source": [
        "tedad = 0\n",
        "\n",
        "for harf in my_str:\n",
        "  tedad = tedad + 1\n",
        "\n",
        "print(tedad)"
      ],
      "metadata": {
        "colab": {
          "base_uri": "https://localhost:8080/"
        },
        "id": "0nn8I80MOLrK",
        "outputId": "651a27f4-dcb3-4002-96cd-a6f1f7f7fc6e"
      },
      "execution_count": 18,
      "outputs": [
        {
          "output_type": "stream",
          "name": "stdout",
          "text": [
            "13\n"
          ]
        }
      ]
    },
    {
      "cell_type": "code",
      "source": [
        "the_list = [1, 2, 10, 20]\n",
        "sum(the_list)"
      ],
      "metadata": {
        "colab": {
          "base_uri": "https://localhost:8080/"
        },
        "id": "SUwiyi4zOPCo",
        "outputId": "411d5957-9375-4c2b-d27b-d4e72a70cd8f"
      },
      "execution_count": 20,
      "outputs": [
        {
          "output_type": "execute_result",
          "data": {
            "text/plain": [
              "33"
            ]
          },
          "metadata": {},
          "execution_count": 20
        }
      ]
    },
    {
      "cell_type": "code",
      "source": [
        "majmoo = 0\n",
        "\n",
        "for num in the_list:\n",
        "  majmoo = majmoo + num\n",
        "\n",
        "print(majmoo)"
      ],
      "metadata": {
        "colab": {
          "base_uri": "https://localhost:8080/"
        },
        "id": "XX00iRJ1OdFj",
        "outputId": "26d33b43-c3ac-475f-9ed4-40fe0119b3ac"
      },
      "execution_count": 21,
      "outputs": [
        {
          "output_type": "stream",
          "name": "stdout",
          "text": [
            "33\n"
          ]
        }
      ]
    },
    {
      "cell_type": "code",
      "source": [
        "my_list = ['mesvak', 'goje', 'noon', 'ab']\n",
        "\n",
        "kalame_num = 0\n",
        "\n",
        "for kalame in my_list:\n",
        "  harf_num = 0\n",
        "  kalame_num += 1 # kalame_num = kalame_num + 1\n",
        "  for harf in kalame:\n",
        "    harf_num += 1\n",
        "    print(f'Harfe {harf_num} kalameye {kalame_num} ({kalame}): {harf}')"
      ],
      "metadata": {
        "colab": {
          "base_uri": "https://localhost:8080/"
        },
        "id": "TVdqU3gqO8pC",
        "outputId": "8fe45fd2-ba12-41c4-a101-04d445ad8e66"
      },
      "execution_count": 32,
      "outputs": [
        {
          "output_type": "stream",
          "name": "stdout",
          "text": [
            "Harfe 0 kalameye 1 (mesvak): m\n",
            "Harfe 1 kalameye 1 (mesvak): e\n",
            "Harfe 2 kalameye 1 (mesvak): s\n",
            "Harfe 3 kalameye 1 (mesvak): v\n",
            "Harfe 4 kalameye 1 (mesvak): a\n",
            "Harfe 5 kalameye 1 (mesvak): k\n",
            "Harfe 0 kalameye 2 (goje): g\n",
            "Harfe 1 kalameye 2 (goje): o\n",
            "Harfe 2 kalameye 2 (goje): j\n",
            "Harfe 3 kalameye 2 (goje): e\n",
            "Harfe 0 kalameye 3 (noon): n\n",
            "Harfe 1 kalameye 3 (noon): o\n",
            "Harfe 2 kalameye 3 (noon): o\n",
            "Harfe 3 kalameye 3 (noon): n\n",
            "Harfe 0 kalameye 4 (ab): a\n",
            "Harfe 1 kalameye 4 (ab): b\n"
          ]
        }
      ]
    },
    {
      "cell_type": "code",
      "source": [
        "for i in range(5): # [0, 1, 2, 3, 4]\n",
        "  print(f'{i}: hello')"
      ],
      "metadata": {
        "colab": {
          "base_uri": "https://localhost:8080/"
        },
        "id": "mr7WyEQUUxp8",
        "outputId": "201d2ec9-9a90-42ac-8c50-441b7817afeb"
      },
      "execution_count": 43,
      "outputs": [
        {
          "output_type": "stream",
          "name": "stdout",
          "text": [
            "0: hello\n",
            "1: hello\n",
            "2: hello\n",
            "3: hello\n",
            "4: hello\n"
          ]
        }
      ]
    },
    {
      "cell_type": "code",
      "source": [
        "for i, char in enumerate('hello'):\n",
        "  print(f'{i}: {char}')"
      ],
      "metadata": {
        "colab": {
          "base_uri": "https://localhost:8080/"
        },
        "id": "vgqNjseNVuUo",
        "outputId": "83566ddb-71a8-4291-b06f-432587200977"
      },
      "execution_count": 49,
      "outputs": [
        {
          "output_type": "stream",
          "name": "stdout",
          "text": [
            "0: h\n",
            "1: e\n",
            "2: l\n",
            "3: l\n",
            "4: o\n"
          ]
        }
      ]
    },
    {
      "cell_type": "markdown",
      "source": [
        "## while Loop\n",
        "\n",
        "zamani ke nemidoonim mikhaim cheghad becharkhim ya mikhaim yek shart baraye halghamoon tain bokonim."
      ],
      "metadata": {
        "id": "Sy2_vdwjYCqn"
      }
    },
    {
      "cell_type": "code",
      "source": [
        "a = 0\n",
        "\n",
        "while a < 1:\n",
        "  print('a')\n",
        "  a += 1"
      ],
      "metadata": {
        "colab": {
          "base_uri": "https://localhost:8080/"
        },
        "id": "9PpMsA3lY3mR",
        "outputId": "2b8ec63b-b020-499b-c1d8-d27485f14e06"
      },
      "execution_count": 53,
      "outputs": [
        {
          "output_type": "stream",
          "name": "stdout",
          "text": [
            "a\n"
          ]
        }
      ]
    },
    {
      "cell_type": "code",
      "source": [
        "mistakes = 0\n",
        "\n",
        "while True:\n",
        "\n",
        "  if mistakes > 3:\n",
        "    print('Your phone is locked for 5 minutes.')\n",
        "    break\n",
        "\n",
        "  ans = input('Pass ro vared kon: ')\n",
        "\n",
        "  if ans == '123':\n",
        "    print('Password is correct.')\n",
        "    break\n",
        "  else:\n",
        "    print('wrong password.')\n",
        "    mistakes += 1\n",
        "    print(f'{4 - mistakes} attemps left.')"
      ],
      "metadata": {
        "colab": {
          "base_uri": "https://localhost:8080/"
        },
        "id": "GJylWoX9ZEtJ",
        "outputId": "5a286a61-fecb-4283-8be3-fd8aefb1af8b"
      },
      "execution_count": 61,
      "outputs": [
        {
          "output_type": "stream",
          "name": "stdout",
          "text": [
            "Pass ro vared kon: 2\n",
            "wrong password.\n",
            "3 attemps left.\n",
            "Pass ro vared kon: 1\n",
            "wrong password.\n",
            "2 attemps left.\n",
            "Pass ro vared kon: 1\n",
            "wrong password.\n",
            "1 attemps left.\n",
            "Pass ro vared kon: 5\n",
            "wrong password.\n",
            "0 attemps left.\n",
            "Your phone is locked for 5 minutes.\n"
          ]
        }
      ]
    },
    {
      "cell_type": "markdown",
      "source": [
        "> be komake keyword e `break` shoma mitoonin halghe ro beshkoonin."
      ],
      "metadata": {
        "id": "Tk7xaK05Z5Ax"
      }
    },
    {
      "cell_type": "code",
      "source": [],
      "metadata": {
        "id": "aQyv1C1dbPfc"
      },
      "execution_count": null,
      "outputs": []
    }
  ]
}