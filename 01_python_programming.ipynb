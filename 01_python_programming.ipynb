{
  "nbformat": 4,
  "nbformat_minor": 0,
  "metadata": {
    "colab": {
      "provenance": [],
      "authorship_tag": "ABX9TyMwjbMcyxO/Nwq2SdHjcLZ8",
      "include_colab_link": true
    },
    "kernelspec": {
      "name": "python3",
      "display_name": "Python 3"
    },
    "language_info": {
      "name": "python"
    }
  },
  "cells": [
    {
      "cell_type": "markdown",
      "metadata": {
        "id": "view-in-github",
        "colab_type": "text"
      },
      "source": [
        "<a href=\"https://colab.research.google.com/github/heispv/python-programming-july2023/blob/master/01_python_programming.ipynb\" target=\"_parent\"><img src=\"https://colab.research.google.com/assets/colab-badge.svg\" alt=\"Open In Colab\"/></a>"
      ]
    },
    {
      "cell_type": "markdown",
      "source": [
        "# Using Python as a calculator\n",
        "* mitoonim adad ro jam konim `+`\n",
        "* mitoonim adad ro dar ham zarb konim `*`\n",
        "* mitoonim adad ro be tavan ham dge beresoonim `**`\n",
        "* mitoonim adad ro bar ham taghsim konim `/`\n",
        "* mitoonim kharej ghesmat taghsim ro begirim `//`\n",
        "* mitoonim baghimande taghsim ro begirim `%`"
      ],
      "metadata": {
        "id": "WHnoH1lSDk6m"
      }
    },
    {
      "cell_type": "code",
      "source": [
        "# adad ro baham dge jam konin\n",
        "2 + 3"
      ],
      "metadata": {
        "colab": {
          "base_uri": "https://localhost:8080/"
        },
        "id": "KE-65Qd4Dse0",
        "outputId": "f29040a7-5e45-4e13-c5d2-92ff8c04c950"
      },
      "execution_count": 1,
      "outputs": [
        {
          "output_type": "execute_result",
          "data": {
            "text/plain": [
              "5"
            ]
          },
          "metadata": {},
          "execution_count": 1
        }
      ]
    },
    {
      "cell_type": "code",
      "source": [
        "# dota adade ashari ro baham jam konim\n",
        "1.2 + 3.7"
      ],
      "metadata": {
        "colab": {
          "base_uri": "https://localhost:8080/"
        },
        "id": "zaB4ivuZD4q7",
        "outputId": "fac7b5dd-d14f-4002-d8cf-d1c40f3a0bcc"
      },
      "execution_count": 2,
      "outputs": [
        {
          "output_type": "execute_result",
          "data": {
            "text/plain": [
              "4.9"
            ]
          },
          "metadata": {},
          "execution_count": 2
        }
      ]
    },
    {
      "cell_type": "code",
      "source": [
        "# mitoonim adad ro dar ham zarb konim\n",
        "2 * 3.2"
      ],
      "metadata": {
        "colab": {
          "base_uri": "https://localhost:8080/"
        },
        "id": "aB9F5Zi8D-qS",
        "outputId": "c8feeedd-6a60-4ab1-f414-fd624728538b"
      },
      "execution_count": 5,
      "outputs": [
        {
          "output_type": "execute_result",
          "data": {
            "text/plain": [
              "6.4"
            ]
          },
          "metadata": {},
          "execution_count": 5
        }
      ]
    },
    {
      "cell_type": "code",
      "source": [
        "# mitoonim adad ro be tavan ham dge beresoonim\n",
        "2.1 ** 4.4"
      ],
      "metadata": {
        "colab": {
          "base_uri": "https://localhost:8080/"
        },
        "id": "sHWCDDcwFqQ7",
        "outputId": "9b56e402-08e9-452f-b09e-64b327940758"
      },
      "execution_count": 11,
      "outputs": [
        {
          "output_type": "execute_result",
          "data": {
            "text/plain": [
              "26.167660513569075"
            ]
          },
          "metadata": {},
          "execution_count": 11
        }
      ]
    },
    {
      "cell_type": "code",
      "source": [
        "# mitoonim do adad ro bar ham taghsim konim\n",
        "9 / 4"
      ],
      "metadata": {
        "colab": {
          "base_uri": "https://localhost:8080/"
        },
        "id": "Kq2cQNM-EK-r",
        "outputId": "d6e1c530-70a3-4394-a20d-93dae189e8ab"
      },
      "execution_count": 6,
      "outputs": [
        {
          "output_type": "execute_result",
          "data": {
            "text/plain": [
              "2.25"
            ]
          },
          "metadata": {},
          "execution_count": 6
        }
      ]
    },
    {
      "cell_type": "code",
      "source": [
        "# mikhaim kharej ghesmat in taghsim ro begirim\n",
        "9 // 4"
      ],
      "metadata": {
        "colab": {
          "base_uri": "https://localhost:8080/"
        },
        "id": "IhVRDh-cFNOs",
        "outputId": "20240839-6d49-450e-cf2a-61ed95f1ab88"
      },
      "execution_count": 7,
      "outputs": [
        {
          "output_type": "execute_result",
          "data": {
            "text/plain": [
              "2"
            ]
          },
          "metadata": {},
          "execution_count": 7
        }
      ]
    },
    {
      "cell_type": "code",
      "source": [
        "# baghimane taghsim bala ro biaim va mohasebe konim\n",
        "9 % 4"
      ],
      "metadata": {
        "colab": {
          "base_uri": "https://localhost:8080/"
        },
        "id": "GCci9TWtFUl8",
        "outputId": "d11818ff-251b-4fa9-8c2c-3e61b52acde3"
      },
      "execution_count": 8,
      "outputs": [
        {
          "output_type": "execute_result",
          "data": {
            "text/plain": [
              "1"
            ]
          },
          "metadata": {},
          "execution_count": 8
        }
      ]
    },
    {
      "cell_type": "markdown",
      "source": [
        "# Data type\n",
        "* int (integer) -> adade sahih\n",
        "* float -> adade asahari\n",
        "* str (string) -> zamani shoma mikhain yek reshte benvisin\n",
        "* list\n",
        "* tuple -> list hayi ke gheire ghabele taghir hastan.\n",
        "* dict (dictionary) -> pair haye key va value dare.\n",
        "* bool (boolean) -> TRUE / FALSE"
      ],
      "metadata": {
        "id": "Dv4xBpLC_oS7"
      }
    },
    {
      "cell_type": "markdown",
      "source": [
        "## int\n",
        "\n",
        "integer ha hamoon adade sahih hastan."
      ],
      "metadata": {
        "id": "QVPcjcjgBK9s"
      }
    },
    {
      "cell_type": "markdown",
      "source": [
        "> mitoonim biaim va az function e `type()` estefade konim va type e yek object ro az python bekhaim."
      ],
      "metadata": {
        "id": "kgf2_8BAGYGR"
      }
    },
    {
      "cell_type": "code",
      "source": [
        "# biaim va type 5 ro check konim\n",
        "type(5)"
      ],
      "metadata": {
        "colab": {
          "base_uri": "https://localhost:8080/"
        },
        "id": "qB3oOmAnG0fL",
        "outputId": "aaae3799-649e-4738-b1f3-2c39f9b41c3d"
      },
      "execution_count": 15,
      "outputs": [
        {
          "output_type": "execute_result",
          "data": {
            "text/plain": [
              "int"
            ]
          },
          "metadata": {},
          "execution_count": 15
        }
      ]
    },
    {
      "cell_type": "code",
      "source": [
        "# mikhaim behesh begim ke adade 5 ro be onave float baraye ma zakhire kone\n",
        "float(5)"
      ],
      "metadata": {
        "colab": {
          "base_uri": "https://localhost:8080/"
        },
        "id": "mGD-ZTnGHvg-",
        "outputId": "53eadc1f-352c-49ae-b5b4-88188e1ee029"
      },
      "execution_count": 16,
      "outputs": [
        {
          "output_type": "execute_result",
          "data": {
            "text/plain": [
              "5.0"
            ]
          },
          "metadata": {},
          "execution_count": 16
        }
      ]
    },
    {
      "cell_type": "markdown",
      "source": [
        "## float\n",
        "\n",
        "float ha hamoon adade ashari hastan."
      ],
      "metadata": {
        "id": "NfHpp0h1G9L6"
      }
    },
    {
      "cell_type": "code",
      "source": [
        "# biaim va type e 3.4 ro check konim\n",
        "type(3.4)"
      ],
      "metadata": {
        "colab": {
          "base_uri": "https://localhost:8080/"
        },
        "id": "NbKW3k-IIBqU",
        "outputId": "482d27ef-9b83-451b-9b68-1c96e57792b1"
      },
      "execution_count": 17,
      "outputs": [
        {
          "output_type": "execute_result",
          "data": {
            "text/plain": [
              "float"
            ]
          },
          "metadata": {},
          "execution_count": 17
        }
      ]
    },
    {
      "cell_type": "markdown",
      "source": [
        "> havasemoon be in mozoo bashe ke zamani ke yek adade ashari ro be adade sahih tabdil mikonim, ghesmate ashare oon kamelan az bein mire."
      ],
      "metadata": {
        "id": "PTCdbVtBIy4g"
      }
    },
    {
      "cell_type": "code",
      "source": [
        "# mikhaim adade ashari ro tabdil be sahih bokonim\n",
        "int(3.9)"
      ],
      "metadata": {
        "colab": {
          "base_uri": "https://localhost:8080/"
        },
        "id": "aicjEZFOIS2W",
        "outputId": "87c057bd-c7a9-421e-d7c6-81230c847a66"
      },
      "execution_count": 19,
      "outputs": [
        {
          "output_type": "execute_result",
          "data": {
            "text/plain": [
              "3"
            ]
          },
          "metadata": {},
          "execution_count": 19
        }
      ]
    },
    {
      "cell_type": "markdown",
      "source": [
        "## str\n",
        "\n",
        "string ha amalan hamoon reshte ha hastan.\n",
        "\n",
        "* shoma harchi ro dakhele `' '` ya `\" \"` zakhire konin python oon ro be onvane yek reshte mishnase."
      ],
      "metadata": {
        "id": "r0AyA-Z7JE1g"
      }
    },
    {
      "cell_type": "code",
      "source": [
        "'salam'"
      ],
      "metadata": {
        "colab": {
          "base_uri": "https://localhost:8080/",
          "height": 35
        },
        "id": "GE_eRkXuIl4H",
        "outputId": "6326ba6f-cfe3-4aa9-f479-87c18b959e88"
      },
      "execution_count": 20,
      "outputs": [
        {
          "output_type": "execute_result",
          "data": {
            "text/plain": [
              "'salam'"
            ],
            "application/vnd.google.colaboratory.intrinsic+json": {
              "type": "string"
            }
          },
          "metadata": {},
          "execution_count": 20
        }
      ]
    },
    {
      "cell_type": "code",
      "source": [
        "type('salam')"
      ],
      "metadata": {
        "colab": {
          "base_uri": "https://localhost:8080/"
        },
        "id": "_Kmi4JaaJgGd",
        "outputId": "f35b3775-7d6b-4efb-8e47-9ab70e06dca6"
      },
      "execution_count": 21,
      "outputs": [
        {
          "output_type": "execute_result",
          "data": {
            "text/plain": [
              "str"
            ]
          },
          "metadata": {},
          "execution_count": 21
        }
      ]
    },
    {
      "cell_type": "markdown",
      "source": [
        "> bazi oghat yek reshte ro be `int` ya `float` nemitoonim tabdil konim"
      ],
      "metadata": {
        "id": "wpX8-tZFJxEi"
      }
    },
    {
      "cell_type": "code",
      "source": [
        "int('salam')"
      ],
      "metadata": {
        "colab": {
          "base_uri": "https://localhost:8080/",
          "height": 167
        },
        "id": "g21C_nUqJjfI",
        "outputId": "9ad39277-d1de-4e81-9582-141938a1b677"
      },
      "execution_count": 22,
      "outputs": [
        {
          "output_type": "error",
          "ename": "ValueError",
          "evalue": "ignored",
          "traceback": [
            "\u001b[0;31m---------------------------------------------------------------------------\u001b[0m",
            "\u001b[0;31mValueError\u001b[0m                                Traceback (most recent call last)",
            "\u001b[0;32m<ipython-input-22-0c5115635b11>\u001b[0m in \u001b[0;36m<cell line: 1>\u001b[0;34m()\u001b[0m\n\u001b[0;32m----> 1\u001b[0;31m \u001b[0mint\u001b[0m\u001b[0;34m(\u001b[0m\u001b[0;34m'salam'\u001b[0m\u001b[0;34m)\u001b[0m\u001b[0;34m\u001b[0m\u001b[0;34m\u001b[0m\u001b[0m\n\u001b[0m",
            "\u001b[0;31mValueError\u001b[0m: invalid literal for int() with base 10: 'salam'"
          ]
        }
      ]
    },
    {
      "cell_type": "code",
      "source": [
        "type(\"32\")"
      ],
      "metadata": {
        "colab": {
          "base_uri": "https://localhost:8080/"
        },
        "id": "sJeamiVBKCbm",
        "outputId": "7af6b8ad-ac4f-4645-a1d8-373a6608714d"
      },
      "execution_count": 24,
      "outputs": [
        {
          "output_type": "execute_result",
          "data": {
            "text/plain": [
              "str"
            ]
          },
          "metadata": {},
          "execution_count": 24
        }
      ]
    },
    {
      "cell_type": "code",
      "source": [
        "int(\"32\")"
      ],
      "metadata": {
        "colab": {
          "base_uri": "https://localhost:8080/"
        },
        "id": "tTrVTJIaJrFd",
        "outputId": "312782fc-9e6e-45af-a795-cf5af26c7ac3"
      },
      "execution_count": 23,
      "outputs": [
        {
          "output_type": "execute_result",
          "data": {
            "text/plain": [
              "32"
            ]
          },
          "metadata": {},
          "execution_count": 23
        }
      ]
    },
    {
      "cell_type": "code",
      "source": [
        "str(43)"
      ],
      "metadata": {
        "colab": {
          "base_uri": "https://localhost:8080/",
          "height": 35
        },
        "id": "-LNBLGASKBAT",
        "outputId": "46dc75fa-5056-42df-cce1-3a47800a8841"
      },
      "execution_count": 25,
      "outputs": [
        {
          "output_type": "execute_result",
          "data": {
            "text/plain": [
              "'43'"
            ],
            "application/vnd.google.colaboratory.intrinsic+json": {
              "type": "string"
            }
          },
          "metadata": {},
          "execution_count": 25
        }
      ]
    },
    {
      "cell_type": "markdown",
      "source": [
        "> mitoonim be komake function e `len()` biaim va tedade `item` haro dakhele yek `container` moshakhas konim."
      ],
      "metadata": {
        "id": "CbkGGSBWK2i0"
      }
    },
    {
      "cell_type": "code",
      "source": [
        "len('Salam dooste man omidvaram ke halet khoob bashe')"
      ],
      "metadata": {
        "colab": {
          "base_uri": "https://localhost:8080/"
        },
        "id": "jsCMK-cdKQxp",
        "outputId": "e4b6ff76-d0ef-4b6c-b19e-2e3f0822ec36"
      },
      "execution_count": 27,
      "outputs": [
        {
          "output_type": "execute_result",
          "data": {
            "text/plain": [
              "47"
            ]
          },
          "metadata": {},
          "execution_count": 27
        }
      ]
    },
    {
      "cell_type": "markdown",
      "source": [
        "## list\n",
        "\n",
        "list ha amalan listi az object haye mokhtalef hastan.\n",
        "\n",
        "va baraye neveshtane oona az `[ ]` estefade mikonim."
      ],
      "metadata": {
        "id": "HpsEifrgKdSK"
      }
    },
    {
      "cell_type": "code",
      "source": [
        "[1, 2, 3, 4]"
      ],
      "metadata": {
        "colab": {
          "base_uri": "https://localhost:8080/"
        },
        "id": "fiFMripzLJ52",
        "outputId": "6d478da4-a232-4e8f-c7c9-9c8067331a92"
      },
      "execution_count": 29,
      "outputs": [
        {
          "output_type": "execute_result",
          "data": {
            "text/plain": [
              "[1, 2, 3, 4]"
            ]
          },
          "metadata": {},
          "execution_count": 29
        }
      ]
    },
    {
      "cell_type": "code",
      "source": [
        "type([1, 2, 3, 4])"
      ],
      "metadata": {
        "colab": {
          "base_uri": "https://localhost:8080/"
        },
        "id": "EgpVpp1iLnJq",
        "outputId": "87ea1884-e6b5-4f24-b369-54f7b1ef2c1d"
      },
      "execution_count": 31,
      "outputs": [
        {
          "output_type": "execute_result",
          "data": {
            "text/plain": [
              "list"
            ]
          },
          "metadata": {},
          "execution_count": 31
        }
      ]
    },
    {
      "cell_type": "code",
      "source": [
        "[1, 1.2, 'salam', ['red', 'blue']]"
      ],
      "metadata": {
        "colab": {
          "base_uri": "https://localhost:8080/"
        },
        "id": "CxKJw8WILqYQ",
        "outputId": "5f2c2cbf-2dd9-462d-be06-34a6fca7a781"
      },
      "execution_count": 32,
      "outputs": [
        {
          "output_type": "execute_result",
          "data": {
            "text/plain": [
              "[1, 1.2, 'salam', ['red', 'blue']]"
            ]
          },
          "metadata": {},
          "execution_count": 32
        }
      ]
    },
    {
      "cell_type": "code",
      "source": [
        "# biaim va tedade item haye in container ro beshmorim\n",
        "len([1, 1.2, 'salam', ['red', 'blue']])"
      ],
      "metadata": {
        "colab": {
          "base_uri": "https://localhost:8080/"
        },
        "id": "DbIaOi3zL9rj",
        "outputId": "8aa5c8b0-e7c9-4b0b-eb08-65ed9b2afb8e"
      },
      "execution_count": 34,
      "outputs": [
        {
          "output_type": "execute_result",
          "data": {
            "text/plain": [
              "4"
            ]
          },
          "metadata": {},
          "execution_count": 34
        }
      ]
    },
    {
      "cell_type": "markdown",
      "source": [
        "> rajebe in ghesmat dar jalasate badi bishtar sohbat mikonim va faghat baraye in hast ke farghe `list` va `tuple` ro motevajeh beshim."
      ],
      "metadata": {
        "id": "50Tly2ZjMqtX"
      }
    },
    {
      "cell_type": "markdown",
      "source": [
        "## Variable\n",
        "\n",
        "variable baraye ineke betoonim DataType mokhtalef ro dakheleshoon zakhire konim."
      ],
      "metadata": {
        "id": "_ij8GNdbNYj_"
      }
    },
    {
      "cell_type": "code",
      "source": [
        "example = [1, 2, 3, 4]"
      ],
      "metadata": {
        "id": "qi_EMclxMR-g"
      },
      "execution_count": 39,
      "outputs": []
    },
    {
      "cell_type": "code",
      "source": [
        "example"
      ],
      "metadata": {
        "colab": {
          "base_uri": "https://localhost:8080/"
        },
        "id": "pTDA89AiM760",
        "outputId": "dcf8e08f-52db-4574-f7a6-ca57c06d202b"
      },
      "execution_count": 40,
      "outputs": [
        {
          "output_type": "execute_result",
          "data": {
            "text/plain": [
              "[1, 2, 3, 4]"
            ]
          },
          "metadata": {},
          "execution_count": 40
        }
      ]
    },
    {
      "cell_type": "code",
      "source": [
        "type(example)"
      ],
      "metadata": {
        "colab": {
          "base_uri": "https://localhost:8080/"
        },
        "id": "l2Ev8APtNMsd",
        "outputId": "46230e4e-eced-464e-87d8-533975895546"
      },
      "execution_count": 41,
      "outputs": [
        {
          "output_type": "execute_result",
          "data": {
            "text/plain": [
              "list"
            ]
          },
          "metadata": {},
          "execution_count": 41
        }
      ]
    },
    {
      "cell_type": "code",
      "source": [],
      "metadata": {
        "id": "24U2-RnjNPaj"
      },
      "execution_count": null,
      "outputs": []
    }
  ]
}